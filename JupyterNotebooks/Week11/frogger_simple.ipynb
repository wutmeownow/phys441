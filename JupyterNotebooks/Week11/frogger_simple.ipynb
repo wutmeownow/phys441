{
 "cells": [
  {
   "cell_type": "code",
   "execution_count": 45,
   "metadata": {},
   "outputs": [],
   "source": [
    "import numpy as np\n",
    "import matplotlib.pyplot as plt\n",
    "import scipy.stats as stats\n",
    "import random"
   ]
  },
  {
   "cell_type": "code",
   "execution_count": 46,
   "metadata": {},
   "outputs": [],
   "source": [
    "# Seed the random number generator, so that we get the same results every time\n",
    "\n",
    "random.seed(1)"
   ]
  },
  {
   "cell_type": "code",
   "execution_count": 121,
   "metadata": {},
   "outputs": [],
   "source": [
    "start = 0\n",
    "jumpsum = 0\n",
    "total_jumps = 0\n",
    "n_trys = 20000\n",
    "\n",
    "x = []\n",
    "y = []\n",
    "\n",
    "n = []\n",
    "ejump = []\n",
    "\n",
    "npmax = 200"
   ]
  },
  {
   "cell_type": "code",
   "execution_count": 122,
   "metadata": {},
   "outputs": [
    {
     "name": "stdout",
     "output_type": "stream",
     "text": [
      "Expectation value for n = 0 is 1.000000\n",
      "Expectation value for n = 1 is 1.503950\n",
      "Expectation value for n = 2 is 1.828450\n",
      "Expectation value for n = 3 is 2.085400\n",
      "Expectation value for n = 4 is 2.273800\n",
      "Expectation value for n = 5 is 2.453550\n",
      "Expectation value for n = 6 is 2.579600\n",
      "Expectation value for n = 7 is 2.721100\n",
      "Expectation value for n = 8 is 2.842550\n",
      "Expectation value for n = 9 is 2.931200\n",
      "Expectation value for n = 10 is 3.011800\n",
      "Expectation value for n = 11 is 3.109600\n",
      "Expectation value for n = 12 is 3.165800\n",
      "Expectation value for n = 13 is 3.256450\n",
      "Expectation value for n = 14 is 3.300300\n",
      "Expectation value for n = 15 is 3.391750\n",
      "Expectation value for n = 16 is 3.437950\n",
      "Expectation value for n = 17 is 3.496800\n",
      "Expectation value for n = 18 is 3.547300\n",
      "Expectation value for n = 19 is 3.597700\n",
      "Expectation value for n = 20 is 3.638650\n",
      "Expectation value for n = 21 is 3.678000\n",
      "Expectation value for n = 22 is 3.745450\n",
      "Expectation value for n = 23 is 3.779000\n",
      "Expectation value for n = 24 is 3.828500\n",
      "Expectation value for n = 25 is 3.841600\n",
      "Expectation value for n = 26 is 3.885100\n",
      "Expectation value for n = 27 is 3.932100\n",
      "Expectation value for n = 28 is 3.967550\n",
      "Expectation value for n = 29 is 3.994350\n",
      "Expectation value for n = 30 is 4.037800\n",
      "Expectation value for n = 31 is 4.052150\n",
      "Expectation value for n = 32 is 4.080350\n",
      "Expectation value for n = 33 is 4.112600\n",
      "Expectation value for n = 34 is 4.130600\n",
      "Expectation value for n = 35 is 4.183750\n",
      "Expectation value for n = 36 is 4.198300\n",
      "Expectation value for n = 37 is 4.225950\n",
      "Expectation value for n = 38 is 4.254500\n",
      "Expectation value for n = 39 is 4.291700\n",
      "Expectation value for n = 40 is 4.293450\n",
      "Expectation value for n = 41 is 4.330450\n",
      "Expectation value for n = 42 is 4.342000\n",
      "Expectation value for n = 43 is 4.356200\n",
      "Expectation value for n = 44 is 4.404800\n",
      "Expectation value for n = 45 is 4.420800\n",
      "Expectation value for n = 46 is 4.450400\n",
      "Expectation value for n = 47 is 4.433600\n",
      "Expectation value for n = 48 is 4.486750\n",
      "Expectation value for n = 49 is 4.475950\n",
      "Expectation value for n = 50 is 4.518800\n",
      "Expectation value for n = 51 is 4.555750\n",
      "Expectation value for n = 52 is 4.567300\n",
      "Expectation value for n = 53 is 4.571750\n",
      "Expectation value for n = 54 is 4.592150\n",
      "Expectation value for n = 55 is 4.594100\n",
      "Expectation value for n = 56 is 4.628800\n",
      "Expectation value for n = 57 is 4.666800\n",
      "Expectation value for n = 58 is 4.666200\n",
      "Expectation value for n = 59 is 4.685600\n",
      "Expectation value for n = 60 is 4.691550\n",
      "Expectation value for n = 61 is 4.732800\n",
      "Expectation value for n = 62 is 4.739800\n",
      "Expectation value for n = 63 is 4.740650\n",
      "Expectation value for n = 64 is 4.762400\n",
      "Expectation value for n = 65 is 4.754100\n",
      "Expectation value for n = 66 is 4.789100\n",
      "Expectation value for n = 67 is 4.791500\n",
      "Expectation value for n = 68 is 4.797350\n",
      "Expectation value for n = 69 is 4.838250\n",
      "Expectation value for n = 70 is 4.859750\n",
      "Expectation value for n = 71 is 4.854000\n",
      "Expectation value for n = 72 is 4.847850\n",
      "Expectation value for n = 73 is 4.870800\n",
      "Expectation value for n = 74 is 4.907800\n",
      "Expectation value for n = 75 is 4.905050\n",
      "Expectation value for n = 76 is 4.938300\n",
      "Expectation value for n = 77 is 4.915800\n",
      "Expectation value for n = 78 is 4.955800\n",
      "Expectation value for n = 79 is 4.955000\n",
      "Expectation value for n = 80 is 4.961550\n",
      "Expectation value for n = 81 is 5.002750\n",
      "Expectation value for n = 82 is 5.005700\n",
      "Expectation value for n = 83 is 5.015800\n",
      "Expectation value for n = 84 is 5.019800\n",
      "Expectation value for n = 85 is 5.037300\n",
      "Expectation value for n = 86 is 5.057550\n",
      "Expectation value for n = 87 is 5.056050\n",
      "Expectation value for n = 88 is 5.067650\n",
      "Expectation value for n = 89 is 5.063000\n",
      "Expectation value for n = 90 is 5.087000\n",
      "Expectation value for n = 91 is 5.091300\n",
      "Expectation value for n = 92 is 5.094900\n",
      "Expectation value for n = 93 is 5.126050\n",
      "Expectation value for n = 94 is 5.124400\n",
      "Expectation value for n = 95 is 5.144150\n",
      "Expectation value for n = 96 is 5.172850\n",
      "Expectation value for n = 97 is 5.193100\n",
      "Expectation value for n = 98 is 5.173600\n",
      "Expectation value for n = 99 is 5.199700\n",
      "Expectation value for n = 100 is 5.213650\n",
      "Expectation value for n = 101 is 5.219450\n",
      "Expectation value for n = 102 is 5.229050\n",
      "Expectation value for n = 103 is 5.251200\n",
      "Expectation value for n = 104 is 5.230400\n",
      "Expectation value for n = 105 is 5.255800\n",
      "Expectation value for n = 106 is 5.247250\n",
      "Expectation value for n = 107 is 5.274550\n",
      "Expectation value for n = 108 is 5.278000\n",
      "Expectation value for n = 109 is 5.251150\n",
      "Expectation value for n = 110 is 5.290900\n",
      "Expectation value for n = 111 is 5.301400\n",
      "Expectation value for n = 112 is 5.303550\n",
      "Expectation value for n = 113 is 5.296300\n",
      "Expectation value for n = 114 is 5.328450\n",
      "Expectation value for n = 115 is 5.346850\n",
      "Expectation value for n = 116 is 5.322050\n",
      "Expectation value for n = 117 is 5.368450\n",
      "Expectation value for n = 118 is 5.375450\n",
      "Expectation value for n = 119 is 5.369850\n",
      "Expectation value for n = 120 is 5.395800\n",
      "Expectation value for n = 121 is 5.400400\n",
      "Expectation value for n = 122 is 5.408700\n",
      "Expectation value for n = 123 is 5.380700\n",
      "Expectation value for n = 124 is 5.415700\n",
      "Expectation value for n = 125 is 5.418600\n",
      "Expectation value for n = 126 is 5.409900\n",
      "Expectation value for n = 127 is 5.426750\n",
      "Expectation value for n = 128 is 5.410300\n",
      "Expectation value for n = 129 is 5.461350\n",
      "Expectation value for n = 130 is 5.457000\n",
      "Expectation value for n = 131 is 5.436050\n",
      "Expectation value for n = 132 is 5.452650\n",
      "Expectation value for n = 133 is 5.447450\n",
      "Expectation value for n = 134 is 5.481800\n",
      "Expectation value for n = 135 is 5.491300\n",
      "Expectation value for n = 136 is 5.494650\n",
      "Expectation value for n = 137 is 5.526200\n",
      "Expectation value for n = 138 is 5.514800\n",
      "Expectation value for n = 139 is 5.513650\n",
      "Expectation value for n = 140 is 5.536300\n",
      "Expectation value for n = 141 is 5.536000\n",
      "Expectation value for n = 142 is 5.513350\n",
      "Expectation value for n = 143 is 5.548150\n",
      "Expectation value for n = 144 is 5.566150\n",
      "Expectation value for n = 145 is 5.560550\n",
      "Expectation value for n = 146 is 5.562500\n",
      "Expectation value for n = 147 is 5.581350\n",
      "Expectation value for n = 148 is 5.584650\n",
      "Expectation value for n = 149 is 5.602050\n",
      "Expectation value for n = 150 is 5.598450\n",
      "Expectation value for n = 151 is 5.613950\n",
      "Expectation value for n = 152 is 5.647250\n",
      "Expectation value for n = 153 is 5.615200\n",
      "Expectation value for n = 154 is 5.634200\n",
      "Expectation value for n = 155 is 5.624950\n",
      "Expectation value for n = 156 is 5.630750\n",
      "Expectation value for n = 157 is 5.628150\n",
      "Expectation value for n = 158 is 5.651250\n",
      "Expectation value for n = 159 is 5.661650\n",
      "Expectation value for n = 160 is 5.652800\n",
      "Expectation value for n = 161 is 5.680600\n",
      "Expectation value for n = 162 is 5.676300\n",
      "Expectation value for n = 163 is 5.685350\n",
      "Expectation value for n = 164 is 5.679650\n",
      "Expectation value for n = 165 is 5.687600\n",
      "Expectation value for n = 166 is 5.704650\n",
      "Expectation value for n = 167 is 5.694000\n",
      "Expectation value for n = 168 is 5.708100\n",
      "Expectation value for n = 169 is 5.714750\n",
      "Expectation value for n = 170 is 5.696050\n",
      "Expectation value for n = 171 is 5.731500\n",
      "Expectation value for n = 172 is 5.752400\n",
      "Expectation value for n = 173 is 5.756150\n",
      "Expectation value for n = 174 is 5.740700\n",
      "Expectation value for n = 175 is 5.729150\n",
      "Expectation value for n = 176 is 5.758900\n",
      "Expectation value for n = 177 is 5.765100\n",
      "Expectation value for n = 178 is 5.774200\n",
      "Expectation value for n = 179 is 5.767800\n",
      "Expectation value for n = 180 is 5.772900\n",
      "Expectation value for n = 181 is 5.786650\n",
      "Expectation value for n = 182 is 5.762700\n",
      "Expectation value for n = 183 is 5.797900\n",
      "Expectation value for n = 184 is 5.801850\n",
      "Expectation value for n = 185 is 5.818050\n",
      "Expectation value for n = 186 is 5.818200\n",
      "Expectation value for n = 187 is 5.817200\n",
      "Expectation value for n = 188 is 5.823450\n",
      "Expectation value for n = 189 is 5.824700\n",
      "Expectation value for n = 190 is 5.836550\n",
      "Expectation value for n = 191 is 5.849000\n",
      "Expectation value for n = 192 is 5.836500\n",
      "Expectation value for n = 193 is 5.846200\n",
      "Expectation value for n = 194 is 5.840550\n",
      "Expectation value for n = 195 is 5.846650\n",
      "Expectation value for n = 196 is 5.861300\n",
      "Expectation value for n = 197 is 5.869950\n"
     ]
    },
    {
     "name": "stdout",
     "output_type": "stream",
     "text": [
      "Expectation value for n = 198 is 5.883450\n",
      "Expectation value for n = 199 is 5.890000\n"
     ]
    }
   ],
   "source": [
    "for npad in range(0,npmax):\n",
    "\n",
    "    total_jumps = 0\n",
    "    end = npad+1\n",
    "\n",
    "    n.append(npad) # x-axis of the plot\n",
    "    \n",
    "    for j in range(n_trys):\n",
    "        while start < end:\n",
    "            jump = int(random.uniform(1,(end-start+1)))\n",
    "            #print (\"Jump = \",jump)\n",
    "            start = start + jump\n",
    "            #print (\"Now at \",start)\n",
    "            jumpsum = jumpsum + 1\n",
    "        \n",
    "        start = 0\n",
    "        #print (\"j = %d, Total_jumps = %d\" % (j,jumpsum))\n",
    "        total_jumps = total_jumps + jumpsum\n",
    "        jumpsum = 0\n",
    "    \n",
    "        #print (npad,total_jumps,n_trys)\n",
    "\n",
    "    expectation_value = total_jumps/n_trys*1.0\n",
    "    \n",
    "    ejump.append(expectation_value)\n",
    "    \n",
    "    print (\"Expectation value for n = %d is %f\" % (npad,expectation_value))\n",
    "    "
   ]
  },
  {
   "cell_type": "code",
   "execution_count": 123,
   "metadata": {},
   "outputs": [
    {
     "data": {
      "text/plain": [
       "[<matplotlib.lines.Line2D at 0x7f05ae15fa58>]"
      ]
     },
     "execution_count": 123,
     "metadata": {},
     "output_type": "execute_result"
    },
    {
     "data": {
      "image/png": "[encoded data removed]",
      "text/plain": [
       "<Figure size 432x288 with 1 Axes>"
      ]
     },
     "metadata": {
      "needs_background": "light"
     },
     "output_type": "display_data"
    }
   ],
   "source": [
    "n = np.array(n)\n",
    "ejump = np.array(ejump)\n",
    "\n",
    "plt.plot(n,ejump,'.')"
   ]
  },
  {
   "cell_type": "code",
   "execution_count": 126,
   "metadata": {},
   "outputs": [],
   "source": [
    "# \"Theory\" - use recursion (sort of)\n",
    "\n",
    "e=[]\n",
    "\n",
    "for npad in range(1,npmax+1):\n",
    "    \n",
    "    sum = 1/npad\n",
    "    for j in range(1,npad):\n",
    "        sum = sum + 1.0/npad*(1.0 + e[npad-j-1])\n",
    "\n",
    "    e.append(sum)"
   ]
  },
  {
   "cell_type": "code",
   "execution_count": 127,
   "metadata": {},
   "outputs": [
    {
     "data": {
      "text/plain": [
       "[<matplotlib.lines.Line2D at 0x7f05adf814e0>]"
      ]
     },
     "execution_count": 127,
     "metadata": {},
     "output_type": "execute_result"
    },
    {
     "data": {
      "image/png": "[encoded data removed]",
      "text/plain": [
       "<Figure size 432x288 with 1 Axes>"
      ]
     },
     "metadata": {
      "needs_background": "light"
     },
     "output_type": "display_data"
    }
   ],
   "source": [
    "plt.plot(n,ejump,'.')\n",
    "plt.plot(n,e)"
   ]
  },
  {
   "cell_type": "code",
   "execution_count": null,
   "metadata": {},
   "outputs": [],
   "source": []
  }
 ],
 "metadata": {
  "kernelspec": {
   "display_name": "Python 3",
   "language": "python",
   "name": "python3"
  },
  "language_info": {
   "codemirror_mode": {
    "name": "ipython",
    "version": 3
   },
   "file_extension": ".py",
   "mimetype": "text/x-python",
   "name": "python",
   "nbconvert_exporter": "python",
   "pygments_lexer": "ipython3",
   "version": "3.6.8"
  }
 },
 "nbformat": 4,
 "nbformat_minor": 2
}
