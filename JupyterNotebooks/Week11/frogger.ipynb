{
 "cells": [
  {
   "cell_type": "code",
   "execution_count": 60,
   "outputs": [],
   "source": [
    "import numpy as np\n",
    "import matplotlib.pyplot as plt\n",
    "import scipy.stats as stats\n",
    "import random"
   ],
   "metadata": {
    "collapsed": false,
    "ExecuteTime": {
     "end_time": "2023-10-30T14:49:34.689813Z",
     "start_time": "2023-10-30T14:49:34.680694Z"
    }
   }
  },
  {
   "cell_type": "markdown",
   "source": [
    "# The Game of Frogger\n",
    "\n",
    "## The game of Frogger is a simple game where a frog starts at one side of a stream and tries to get to the other side of the stream. The stream has within it N lily pads. The frog starts, effectively, on pad 0 and can jump to pad 1, 2, 3, ..., N+1. The frog is equally likely to jump to any of the pads 1, 2, 3, ..., N+1.  The frog gets to the other side when she reaches pad N+1.\n",
    "\n",
    "## The question is, on average, how many jumps does it take for the frog to get to the other side of the stream?\n"
   ],
   "metadata": {
    "collapsed": false
   }
  },
  {
   "cell_type": "markdown",
   "source": [
    "## Analytic Solution\n",
    "\n",
    "### The expectation value for a discrete random variable is defined as:\n",
    "\n",
    "### $E = \\sum_{i=0}^{n} x_i p_i$\n",
    "\n",
    "### where $x_i$ is the value of the random variable and $p_i$ is the probability of the random variable taking on the value $x_i$.\n",
    "\n",
    "### Let's consider some simple cases:\n",
    "\n",
    "### n = 0\n",
    "\n",
    "### $E_0 = x_0 p_0 = 1 \\cdot 1 = 1$\n",
    "\n",
    "### n = 1\n",
    "\n",
    "### $E_1 = \\frac{1}{2} (1) + \\frac{1}{2} (2) = 1 + \\frac{1}{2} (1) = \\frac{3}{2}$ = 1.5\n",
    "\n",
    "### n = 2\n",
    "\n",
    "### $E_2 = \\frac{1}{3} (1) + \\frac{1}{3} (\\frac{1}{2} (2) + \\frac{1}{2} (3)) + \\frac{1}{3} (2)  = 1 + \\frac{1}{3} (\\frac{3}{2}) + \\frac{1}{3} (1) = \\frac{11}{6} = 1.8333$\n",
    "\n",
    "### We can observe a pattern now ... for each value of $n$, we can break down the problem into a sum of the previous problems (for smaller n values).  We see that for any value of n, the expectation value is:\n",
    "\n",
    "### $E_n = 1 + \\frac{1}{n+1} \\sum_{i=1}^{n} E_{n-i}$\n",
    "\n",
    "### So, we can calculate the expectation value for any value of n by calculating the expectation value for all smaller values of n.  A recursive solution to this problem seems appropriate.\n",
    "\n",
    "## Harmonic Mean\n",
    "\n",
    "### The harmonic mean is defined as:\n",
    "\n",
    "### $H = \\frac{n}{\\sum_{i=1}^{n} \\frac{1}{x_i}}$\n",
    "\n",
    "### where $x_i$ is the value of the random variable and $n$ is the number of values of $x_i$.\n",
    "\n",
    "### The harmonic mean is the appropriate mean to use when the values of the random variable are rates (e.g. miles per gallon).  In this case, the values of the random variable are the number of jumps it takes for the frog to get to the other side of the stream.  So, the harmonic mean is the appropriate mean to use.\n",
    "\n"
   ],
   "metadata": {
    "collapsed": false
   }
  },
  {
   "cell_type": "markdown",
   "source": [
    "### Set the number of lilypads"
   ],
   "metadata": {
    "collapsed": false
   }
  },
  {
   "cell_type": "code",
   "execution_count": 61,
   "metadata": {
    "ExecuteTime": {
     "end_time": "2023-10-30T14:49:35.863780Z",
     "start_time": "2023-10-30T14:49:35.849571Z"
    }
   },
   "outputs": [],
   "source": [
    "n = 100"
   ]
  },
  {
   "cell_type": "markdown",
   "source": [
    "### seed the random number generator"
   ],
   "metadata": {
    "collapsed": false
   }
  },
  {
   "cell_type": "code",
   "execution_count": 62,
   "metadata": {
    "ExecuteTime": {
     "end_time": "2023-10-30T14:49:36.795664Z",
     "start_time": "2023-10-30T14:49:36.783752Z"
    }
   },
   "outputs": [],
   "source": [
    "random.seed(1)"
   ]
  },
  {
   "cell_type": "code",
   "execution_count": 63,
   "metadata": {
    "ExecuteTime": {
     "end_time": "2023-10-30T14:49:37.296909Z",
     "start_time": "2023-10-30T14:49:37.288914Z"
    }
   },
   "outputs": [],
   "source": [
    "start = 0 # start at lilypad 0\n",
    "jumpsum = 0 # keep track of the number of jumps per simulation\n",
    "total_jumps = 0 # keep track of the total number of jumps for all simulations\n",
    "n_trys = 10000 # number of simulations to run\n",
    "\n",
    "x = [] # array for the number of lilypads for plotting\n",
    "y = [] # array for the expectation value for plotting\n",
    "eval = [] # array for the analytic solution\n",
    "eval_harmonic = [] # array for the analytic solution\n",
    "x_harmonic = [] # array for the harmonic mean\n",
    "sigma = [] # array for the error on the expectation value"
   ]
  },
  {
   "cell_type": "code",
   "execution_count": 64,
   "metadata": {
    "ExecuteTime": {
     "end_time": "2023-10-30T14:49:37.898960Z",
     "start_time": "2023-10-30T14:49:37.892937Z"
    }
   },
   "outputs": [],
   "source": [
    "#\n",
    "# Evaluate the analytic solution shown above\n",
    "#\n",
    "# loop over the number of lilypads (it's n+1 so that we actually do the npad=n_max case)\n",
    "for npad in range(0,n+1): \n",
    "\n",
    "    if (npad == 0):\n",
    "        eval.append(1)\n",
    "    else:\n",
    "        sum = 1.0\n",
    "        for i in range(0,npad):\n",
    "            #print(i,npad,npad-i)\n",
    "            #print(eval[npad-i-1])\n",
    "            sum = sum + 1.0/(npad+1)*(eval[npad-i-1])\n",
    "        eval.append(sum)\n",
    "    #print(\"Theory: \",npad,eval[npad])\n",
    "  "
   ]
  },
  {
   "cell_type": "code",
   "execution_count": 65,
   "outputs": [
    {
     "name": "stdout",
     "output_type": "stream",
     "text": [
      "Expectation value for n = 0 is 1.000000\n",
      "Expectation value for n = 1 is 1.500900\n",
      "Expectation value for n = 2 is 1.836400\n",
      "Expectation value for n = 3 is 2.077400\n",
      "Expectation value for n = 4 is 2.286100\n",
      "Expectation value for n = 5 is 2.457800\n",
      "Expectation value for n = 6 is 2.580900\n",
      "Expectation value for n = 7 is 2.719300\n",
      "Expectation value for n = 8 is 2.827100\n",
      "Expectation value for n = 9 is 2.937900\n",
      "Expectation value for n = 10 is 3.026300\n",
      "Expectation value for n = 11 is 3.112800\n",
      "Expectation value for n = 12 is 3.172100\n",
      "Expectation value for n = 13 is 3.246400\n",
      "Expectation value for n = 14 is 3.298400\n",
      "Expectation value for n = 15 is 3.391100\n",
      "Expectation value for n = 16 is 3.469200\n",
      "Expectation value for n = 17 is 3.512800\n",
      "Expectation value for n = 18 is 3.529600\n",
      "Expectation value for n = 19 is 3.583100\n",
      "Expectation value for n = 20 is 3.642400\n",
      "Expectation value for n = 21 is 3.695700\n",
      "Expectation value for n = 22 is 3.720600\n",
      "Expectation value for n = 23 is 3.770700\n",
      "Expectation value for n = 24 is 3.804500\n",
      "Expectation value for n = 25 is 3.842600\n",
      "Expectation value for n = 26 is 3.881700\n",
      "Expectation value for n = 27 is 3.932800\n",
      "Expectation value for n = 28 is 3.956400\n",
      "Expectation value for n = 29 is 4.034200\n",
      "Expectation value for n = 30 is 4.010300\n",
      "Expectation value for n = 31 is 4.067000\n",
      "Expectation value for n = 32 is 4.120900\n",
      "Expectation value for n = 33 is 4.118200\n",
      "Expectation value for n = 34 is 4.135800\n",
      "Expectation value for n = 35 is 4.168900\n",
      "Expectation value for n = 36 is 4.229500\n",
      "Expectation value for n = 37 is 4.215000\n",
      "Expectation value for n = 38 is 4.264600\n",
      "Expectation value for n = 39 is 4.289000\n",
      "Expectation value for n = 40 is 4.297400\n",
      "Expectation value for n = 41 is 4.319400\n",
      "Expectation value for n = 42 is 4.349200\n",
      "Expectation value for n = 43 is 4.380500\n",
      "Expectation value for n = 44 is 4.391700\n",
      "Expectation value for n = 45 is 4.413600\n",
      "Expectation value for n = 46 is 4.459600\n",
      "Expectation value for n = 47 is 4.479300\n",
      "Expectation value for n = 48 is 4.495500\n",
      "Expectation value for n = 49 is 4.467300\n",
      "Expectation value for n = 50 is 4.520800\n",
      "Expectation value for n = 51 is 4.521800\n",
      "Expectation value for n = 52 is 4.541800\n",
      "Expectation value for n = 53 is 4.565200\n",
      "Expectation value for n = 54 is 4.603700\n",
      "Expectation value for n = 55 is 4.612500\n",
      "Expectation value for n = 56 is 4.656600\n",
      "Expectation value for n = 57 is 4.632500\n",
      "Expectation value for n = 58 is 4.638600\n",
      "Expectation value for n = 59 is 4.660400\n",
      "Expectation value for n = 60 is 4.691800\n",
      "Expectation value for n = 61 is 4.705200\n",
      "Expectation value for n = 62 is 4.744500\n",
      "Expectation value for n = 63 is 4.765700\n",
      "Expectation value for n = 64 is 4.774500\n",
      "Expectation value for n = 65 is 4.763800\n",
      "Expectation value for n = 66 is 4.802600\n",
      "Expectation value for n = 67 is 4.817300\n",
      "Expectation value for n = 68 is 4.795400\n",
      "Expectation value for n = 69 is 4.832500\n",
      "Expectation value for n = 70 is 4.867900\n",
      "Expectation value for n = 71 is 4.897200\n",
      "Expectation value for n = 72 is 4.868900\n",
      "Expectation value for n = 73 is 4.878600\n",
      "Expectation value for n = 74 is 4.926100\n",
      "Expectation value for n = 75 is 4.925000\n",
      "Expectation value for n = 76 is 4.901600\n",
      "Expectation value for n = 77 is 4.963300\n",
      "Expectation value for n = 78 is 4.946200\n",
      "Expectation value for n = 79 is 4.957200\n",
      "Expectation value for n = 80 is 4.941700\n",
      "Expectation value for n = 81 is 4.997900\n",
      "Expectation value for n = 82 is 5.007600\n",
      "Expectation value for n = 83 is 4.990600\n",
      "Expectation value for n = 84 is 5.035600\n",
      "Expectation value for n = 85 is 5.057300\n",
      "Expectation value for n = 86 is 5.074500\n",
      "Expectation value for n = 87 is 5.084200\n",
      "Expectation value for n = 88 is 5.107100\n",
      "Expectation value for n = 89 is 5.087700\n",
      "Expectation value for n = 90 is 5.113300\n",
      "Expectation value for n = 91 is 5.099900\n",
      "Expectation value for n = 92 is 5.122500\n",
      "Expectation value for n = 93 is 5.115900\n",
      "Expectation value for n = 94 is 5.158800\n",
      "Expectation value for n = 95 is 5.124700\n",
      "Expectation value for n = 96 is 5.184700\n",
      "Expectation value for n = 97 is 5.166400\n",
      "Expectation value for n = 98 is 5.177300\n",
      "Expectation value for n = 99 is 5.176600\n",
      "Expectation value for n = 100 is 5.208700\n"
     ]
    }
   ],
   "source": [
    "#\n",
    "# Run the simulation\n",
    "#\n",
    "# (also, evaluate the harmonic mean along the way)\n",
    "#\n",
    "for npad in range(0,n+1):\n",
    "    \n",
    "    x_harmonic.append(npad+1)\n",
    "    x.append(npad)\n",
    "    \n",
    "    sum2 = (npad+1.0)/stats.hmean(x_harmonic)\n",
    "    eval_harmonic.append(sum2)\n",
    "    \n",
    "    #print (\"Harmonic mean for npad = \",npad,\" = \", sum2)\n",
    "    \n",
    "    end = npad+1\n",
    "    current_paddle = start\n",
    "    \n",
    "    # run the simulation n_trys times\n",
    "    for j in range(n_trys):\n",
    "        \n",
    "        # run the simulation until the frog reaches the other side\n",
    "        while current_paddle < end:\n",
    "            # choose a random jump size between 1 and the number of lilypads left to jump\n",
    "            jump = int(random.uniform(1,(end-current_paddle+1)))\n",
    "            #print (\"Jump = \",jump)\n",
    "            \n",
    "            # jump ahead\n",
    "            current_paddle = current_paddle + jump\n",
    "            #print (\"Now at \",current_paddle)\n",
    "            \n",
    "            # keep track of the number of jumps\n",
    "            jumpsum = jumpsum + 1\n",
    "            \n",
    "        # reset the frog to the start for the next simulation\n",
    "        current_paddle = start\n",
    "        #print (\"j = %d, Total_jumps = %d\" % (j,jumpsum))\n",
    "        \n",
    "        # keep track of the total number of jumps for all simulations\n",
    "        total_jumps = total_jumps + jumpsum\n",
    "        \n",
    "        # reset the jumpsum for the next simulation\n",
    "        jumpsum = 0\n",
    "    \n",
    "    #print (npad,total_jumps,n_trys)\n",
    "\n",
    "    # calculate the expectation value\n",
    "    expectation_value = total_jumps/n_trys*1.0\n",
    "    \n",
    "    # store the expectation value and the error on the expectation value for plotting\n",
    "    y.append(expectation_value)\n",
    "    sigma.append(expectation_value*1/np.sqrt(n_trys))\n",
    "    \n",
    "    # reset the total number of jumps for all simulations, for the next value of npad\n",
    "    total_jumps = 0\n",
    "    \n",
    "    print (\"Expectation value for n = %d is %f\" % (npad,expectation_value))\n",
    "  "
   ],
   "metadata": {
    "collapsed": false,
    "ExecuteTime": {
     "end_time": "2023-10-30T14:49:41.248029Z",
     "start_time": "2023-10-30T14:49:38.432731Z"
    }
   }
  },
  {
   "cell_type": "code",
   "execution_count": 66,
   "metadata": {
    "ExecuteTime": {
     "end_time": "2023-10-30T14:49:41.635687Z",
     "start_time": "2023-10-30T14:49:41.272396Z"
    }
   },
   "outputs": [
    {
     "data": {
      "text/plain": "[<matplotlib.lines.Line2D at 0x12670bc90>]"
     },
     "execution_count": 66,
     "metadata": {},
     "output_type": "execute_result"
    },
    {
     "data": {
      "text/plain": "<Figure size 1500x1200 with 1 Axes>",
      "image/png": "[encoded data removed]"
     },
     "metadata": {},
     "output_type": "display_data"
    }
   ],
   "source": [
    "# plot the results\n",
    "\n",
    "fig = plt.figure(figsize=(15,12))\n",
    "ax1 = fig.add_subplot(111)\n",
    "\n",
    "ax1.set_title(\"Frog Problem\")\n",
    "ax1.set_xlabel('N')\n",
    "ax1.set_ylabel('Expected Number of Jumps / N')\n",
    "ax1.set_xlim(-1,n+1)\n",
    "#ax1.set_yscale(\"log\")\n",
    "#ax1.set_xscale(\"log\")\n",
    "ax1.grid(True)\n",
    "\n",
    "ax1.errorbar(x,y,yerr=sigma,fmt='o')\n",
    "ax1.plot(x,eval,'r--')\n",
    "ax1.plot(x,eval_harmonic,'g--')\n"
   ]
  },
  {
   "cell_type": "code",
   "execution_count": 66,
   "metadata": {
    "ExecuteTime": {
     "end_time": "2023-10-30T14:49:41.635828Z",
     "start_time": "2023-10-30T14:49:41.617306Z"
    }
   },
   "outputs": [],
   "source": []
  },
  {
   "cell_type": "code",
   "execution_count": null,
   "outputs": [],
   "source": [],
   "metadata": {
    "collapsed": false
   }
  }
 ],
 "metadata": {
  "kernelspec": {
   "display_name": "Python 3",
   "language": "python",
   "name": "python3"
  },
  "language_info": {
   "codemirror_mode": {
    "name": "ipython",
    "version": 3
   },
   "file_extension": ".py",
   "mimetype": "text/x-python",
   "name": "python",
   "nbconvert_exporter": "python",
   "pygments_lexer": "ipython3",
   "version": "3.6.8"
  }
 },
 "nbformat": 4,
 "nbformat_minor": 2
}
