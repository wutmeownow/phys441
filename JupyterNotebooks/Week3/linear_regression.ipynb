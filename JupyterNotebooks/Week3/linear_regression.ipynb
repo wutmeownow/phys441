{
 "cells": [
  {
   "cell_type": "markdown",
   "source": [],
   "metadata": {
    "collapsed": false
   }
  },
  {
   "cell_type": "markdown",
   "source": [
    "#### Linear Regression\n",
    "\n",
    "In linear regression models, the target value is modeled as a linear combination of the features. The model is trained on a dataset with known target values. The model can then be used to predict the target value for new data points.\n",
    "\n",
    "The linear regression model is defined as:\n",
    "\n",
    "$$y = w_0 + w_1x_1 + w_2x_2 + ... + w_nx_n$$\n",
    "\n",
    "where $y$ is the target value, $x_1$ to $x_n$ are the feature values, and $w_0$ to $w_n$ are the model parameters. The model parameters are learned during the training process using the least squares method.\n",
    "\n",
    "The linear regression model can be extended to include non-linear features by using a non-linear transformation of the features. For example, the model can be extended to include quadratic features as follows:\n",
    "\n",
    "$$y = w_0 + w_1x_1 + w_2x_2 + w_3x_1^2 + w_4x_2^2$$\n",
    "\n",
    "The linear regression model can also be extended to include interaction features as follows:\n",
    "\n",
    "$$y = w_0 + w_1x_1 + w_2x_2 + w_3x_1x_2$$\n",
    "\n",
    "The linear regression model can be extended to include polynomial features and interaction features at the same time as follows:\n",
    "\n",
    "$$y = w_0 + w_1x_1 + w_2x_2 + w_3x_1^2 + w_4x_2^2 + w_5x_1x_2$$\n"
   ],
   "metadata": {
    "collapsed": false
   }
  },
  {
   "cell_type": "markdown",
   "source": [
    "We will begin with the simplest linear regression model, which is the linear regression model with no polynomial features or interaction features. We will use the `LinearRegression` class from the `sklearn.linear_model` module to train the model. The `LinearRegression` class uses the least squares method to learn the model parameters.\n",
    "\n",
    "In this case, the $x$ data is a TWO DIMENSIONAL array ... the columns correspond to the different\n",
    "variables ($x_1$, $x_2$, $x_3$, ...), and the rows correspond to the values of those variables\n",
    "for each data point."
   ],
   "metadata": {
    "collapsed": false
   }
  },
  {
   "cell_type": "code",
   "execution_count": 7,
   "outputs": [],
   "source": [
    "import numpy as np\n",
    "import matplotlib.pyplot as plt"
   ],
   "metadata": {
    "collapsed": false,
    "ExecuteTime": {
     "end_time": "2023-08-04T16:09:42.430600Z",
     "start_time": "2023-08-04T16:09:42.424744Z"
    }
   }
  },
  {
   "cell_type": "code",
   "execution_count": 8,
   "outputs": [],
   "source": [
    "from sklearn.linear_model import LinearRegression"
   ],
   "metadata": {
    "collapsed": false,
    "ExecuteTime": {
     "end_time": "2023-08-04T16:09:43.040211Z",
     "start_time": "2023-08-04T16:09:43.027912Z"
    }
   }
  },
  {
   "cell_type": "markdown",
   "source": [
    "#### Linear Regression with One Variable\n",
    "\n",
    "Create some fake data for a linear regression model with one variable. The data is generated using the equation $y = x$ with some noise added to the target values."
   ],
   "metadata": {
    "collapsed": false
   }
  },
  {
   "cell_type": "code",
   "execution_count": 9,
   "outputs": [
    {
     "name": "stdout",
     "output_type": "stream",
     "text": [
      "[[ 1]\n",
      " [ 2]\n",
      " [ 3]\n",
      " [ 4]\n",
      " [ 5]\n",
      " [ 6]\n",
      " [ 7]\n",
      " [ 8]\n",
      " [ 9]\n",
      " [10]]\n",
      "[1.1  2.1  2.9  3.9  5.1  5.9  6.9  8.05 9.1  9.7 ]\n"
     ]
    }
   ],
   "source": [
    "# Data is y = x with some noise\n",
    "x = np.array([1, 2, 3, 4, 5, 6, 7, 8, 9, 10]).reshape((-1, 1))\n",
    "y = np.array([1.1, 2.1, 2.9, 3.9, 5.1, 5.9, 6.9, 8.05, 9.1, 9.7])\n",
    "\n",
    "print(x)\n",
    "print(y)"
   ],
   "metadata": {
    "collapsed": false,
    "ExecuteTime": {
     "end_time": "2023-08-04T16:09:44.465673Z",
     "start_time": "2023-08-04T16:09:44.457515Z"
    }
   }
  },
  {
   "cell_type": "code",
   "execution_count": 10,
   "outputs": [
    {
     "name": "stdout",
     "output_type": "stream",
     "text": [
      "Correlation coefficient R^2: 0.998265924279772\n",
      "intercept: 0.07666666666666533\n",
      "slope: [0.98151515]\n"
     ]
    }
   ],
   "source": [
    "# Linear Regression Model from scikit-learn\n",
    "model = LinearRegression()\n",
    "model.fit(x, y)\n",
    "r_sq = model.score(x, y)\n",
    "\n",
    "print(f\"Correlation coefficient R^2: {r_sq}\")\n",
    "print(f\"intercept: {model.intercept_}\")  # w0\n",
    "print(f\"slope: {model.coef_}\")  # w1, w2, w3, etc."
   ],
   "metadata": {
    "collapsed": false,
    "ExecuteTime": {
     "end_time": "2023-08-04T16:09:45.170547Z",
     "start_time": "2023-08-04T16:09:45.164798Z"
    }
   }
  },
  {
   "cell_type": "code",
   "execution_count": 11,
   "outputs": [],
   "source": [
    "# Create a set of predicted values, based on the Linear Regression fit\n",
    "x_low = min(x)\n",
    "x_high = max(x)\n",
    "x_pred = np.linspace(x_low, x_high, 100)\n",
    "y_pred = model.predict(x_pred)"
   ],
   "metadata": {
    "collapsed": false,
    "ExecuteTime": {
     "end_time": "2023-08-04T16:09:46.233949Z",
     "start_time": "2023-08-04T16:09:46.227432Z"
    }
   }
  },
  {
   "cell_type": "code",
   "execution_count": 12,
   "outputs": [
    {
     "data": {
      "text/plain": "<Figure size 640x480 with 1 Axes>",
      "image/png": "[encoded data removed]"
     },
     "metadata": {},
     "output_type": "display_data"
    }
   ],
   "source": [
    "# Plotting!\n",
    "plt.plot(x, y, 'o', label='Data')\n",
    "plt.plot(x_pred, y_pred, 'r-', label=\"Linear Regression Fit\")\n",
    "plt.title(\"Basic Linear Regression\")\n",
    "plt.xlabel(\"X\")\n",
    "plt.ylabel(\"Y\")\n",
    "plt.legend()\n",
    "plt.show()"
   ],
   "metadata": {
    "collapsed": false,
    "ExecuteTime": {
     "end_time": "2023-08-04T16:09:47.131424Z",
     "start_time": "2023-08-04T16:09:46.965492Z"
    }
   }
  },
  {
   "cell_type": "code",
   "execution_count": 6,
   "outputs": [],
   "source": [],
   "metadata": {
    "collapsed": false,
    "ExecuteTime": {
     "end_time": "2023-08-04T15:48:48.580263Z",
     "start_time": "2023-08-04T15:48:48.577351Z"
    }
   }
  }
 ],
 "metadata": {
  "kernelspec": {
   "display_name": "Python 3",
   "language": "python",
   "name": "python3"
  },
  "language_info": {
   "codemirror_mode": {
    "name": "ipython",
    "version": 2
   },
   "file_extension": ".py",
   "mimetype": "text/x-python",
   "name": "python",
   "nbconvert_exporter": "python",
   "pygments_lexer": "ipython2",
   "version": "2.7.6"
  }
 },
 "nbformat": 4,
 "nbformat_minor": 0
}
