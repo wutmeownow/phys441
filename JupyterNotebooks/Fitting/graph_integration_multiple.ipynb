{
 "cells": [
  {
   "cell_type": "code",
   "execution_count": 2,
   "metadata": {
    "ExecuteTime": {
     "end_time": "2023-09-05T14:53:47.336209Z",
     "start_time": "2023-09-05T14:53:46.825369Z"
    }
   },
   "outputs": [],
   "source": [
    "import numpy as np\n",
    "import matplotlib.pyplot as plt\n",
    "\n",
    "import random\n",
    "random.seed(1)"
   ]
  },
  {
   "cell_type": "markdown",
   "source": [
    "# Numerical Integration Investigation\n",
    "\n",
    "In this example, we will investigate a few different methods of numerical integration.  We will use the following function as our test case:\n",
    "\n",
    "$$y = \\frac{3}{2}(1-x^2)$$\n",
    "\n",
    "We will integrate this function from $x=0$ to $x=1$.\n",
    "\n",
    "The exact value of the integral is:\n",
    "\n",
    "$$\\int_0^1 y dx = 1$$"
   ],
   "metadata": {
    "collapsed": false
   }
  },
  {
   "cell_type": "code",
   "execution_count": 3,
   "metadata": {
    "ExecuteTime": {
     "end_time": "2023-09-05T14:53:54.858128Z",
     "start_time": "2023-09-05T14:53:54.847899Z"
    }
   },
   "outputs": [],
   "source": [
    "def generator_function(x):\n",
    "    return 3.0/2.0*(1.0 - x*x)"
   ]
  },
  {
   "cell_type": "markdown",
   "source": [
    "## Rectangular Integration\n",
    "\n",
    "The simplest method of numerical integration is the rectangular method.  In this method, we divide the interval into $n$ equal parts, and evaluate the function at the midpoint of each interval.  The area of each rectangle is then the function value at the midpoint times the width of the interval.  The total area is the sum of the areas of all the rectangles.  The error in this method is proportional to the width of the interval, so the error decreases as $n$ increases.  The error is also proportional to the second derivative of the function, so the error decreases as the function becomes smoother.\n",
    "\n",
    "We will consider n values of $n$ from $10^2$ to $10^6$."
   ],
   "metadata": {
    "collapsed": false
   }
  },
  {
   "cell_type": "code",
   "execution_count": 8,
   "metadata": {
    "ExecuteTime": {
     "end_time": "2023-09-05T14:56:40.117417Z",
     "start_time": "2023-09-05T14:56:34.350832Z"
    }
   },
   "outputs": [
    {
     "name": "stdout",
     "output_type": "stream",
     "text": [
      "<module 'numpy' from '/Users/brash/anaconda3/envs/phys441/lib/python3.11/site-packages/numpy/__init__.py'>\n",
      "<module 'numpy' from '/Users/brash/anaconda3/envs/phys441/lib/python3.11/site-packages/numpy/__init__.py'>\n",
      "Integral = 0.986648 +/- 0.041594 for npoints = 100.000000\n",
      "Error = 0.013352\n",
      "Integral = 0.998263 +/- 0.011924 for npoints = 1000.000000\n",
      "Error = 0.001737\n",
      "Integral = 1.000082 +/- 0.003809 for npoints = 10000.000000\n",
      "Error = 0.000082\n",
      "Integral = 1.000157 +/- 0.001420 for npoints = 100000.000000\n",
      "Error = 0.000157\n",
      "Integral = 0.999933 +/- 0.000483 for npoints = 1000000.000000\n",
      "Error = 0.000067\n"
     ]
    }
   ],
   "source": [
    "max_order = 6\n",
    "min_order = 2\n",
    "nbins = 20\n",
    "\n",
    "norders = max_order - min_order + 1\n",
    "nbin = nbins\n",
    "\n",
    "npts = np.zeros(norders)\n",
    "print (np)\n",
    "enp = np.zeros(norders)\n",
    "sum2 = np.zeros(norders)\n",
    "esum2 = np.zeros(norders)\n",
    "esum3 = np.zeros(norders)\n",
    "np2 = np.zeros(norders)\n",
    "np3 = np.zeros(norders)\n",
    "\n",
    "print (np)\n",
    "\n",
    "sum = [[0 for x in range(0,nbin)] for y in range(0,norders)]\n",
    "\n",
    "for j in range(min_order,max_order+1):\n",
    "    npoints = 10**j\n",
    "    npts[j-min_order]=npoints\n",
    "    np2[j-min_order]=1.0/np.sqrt(npoints)\n",
    "    np3[j-min_order]=np.log(1.0*npoints)\n",
    "\n",
    "    for k in range(0,nbin):\n",
    "        xlow = 0.0\n",
    "        xhigh = 1.0\n",
    "        dx = (xhigh-xlow)/npoints\n",
    "        \n",
    "        for i in range(0,int(npoints)):\n",
    "            xval = xlow+random.random()*(xhigh-xlow)\n",
    "            yval = generator_function(xval)\n",
    "            sum[j-min_order][k] += dx*yval\n",
    "            \n",
    "    for k in range(0,nbin):\n",
    "        sum2[j-min_order] += sum[j-min_order][k]/nbin\n",
    "        \n",
    "    for k in range(0,nbin):\n",
    "        esum2[j-min_order] += (sum[j-min_order][k]-sum2[j-min_order])**2/nbin\n",
    "    \n",
    "    esum2[j-min_order]=np.sqrt(esum2[j-min_order])\n",
    "    print(\"Integral = %f +/- %f for npoints = %f\" %(sum2[j-min_order],esum2[j-min_order],npoints))\n",
    "    print(\"Error = %f\" %np.abs(1.0-sum2[j-min_order]))\n",
    "    esum3[j-min_order]=np.log(esum2[j-min_order])\n",
    "    \n",
    "    "
   ]
  },
  {
   "cell_type": "code",
   "execution_count": 6,
   "metadata": {
    "ExecuteTime": {
     "end_time": "2023-09-05T14:54:50.288671Z",
     "start_time": "2023-09-05T14:54:49.947795Z"
    }
   },
   "outputs": [
    {
     "data": {
      "text/plain": "<Figure size 640x480 with 1 Axes>",
      "image/png": "[encoded data removed]"
     },
     "metadata": {},
     "output_type": "display_data"
    }
   ],
   "source": [
    "plt.errorbar(npts,sum2,xerr=enp,yerr=esum2,fmt='o',capsize=5)\n",
    "plt.xscale(\"log\")"
   ]
  },
  {
   "cell_type": "code",
   "execution_count": 7,
   "metadata": {
    "ExecuteTime": {
     "end_time": "2023-09-05T14:54:59.420514Z",
     "start_time": "2023-09-05T14:54:59.320168Z"
    }
   },
   "outputs": [
    {
     "data": {
      "text/plain": "[<matplotlib.lines.Line2D at 0x111f9ead0>]"
     },
     "execution_count": 7,
     "metadata": {},
     "output_type": "execute_result"
    },
    {
     "data": {
      "text/plain": "<Figure size 640x480 with 1 Axes>",
      "image/png": "[encoded data removed]"
     },
     "metadata": {},
     "output_type": "display_data"
    }
   ],
   "source": [
    "plt.plot(np3,esum3,'o')"
   ]
  },
  {
   "cell_type": "code",
   "execution_count": 7,
   "metadata": {
    "ExecuteTime": {
     "end_time": "2023-09-05T14:55:01.632580Z",
     "start_time": "2023-09-05T14:55:01.622605Z"
    }
   },
   "outputs": [],
   "source": []
  },
  {
   "cell_type": "code",
   "execution_count": null,
   "metadata": {
    "scrolled": true
   },
   "outputs": [],
   "source": []
  },
  {
   "cell_type": "code",
   "execution_count": null,
   "metadata": {},
   "outputs": [],
   "source": []
  },
  {
   "cell_type": "code",
   "execution_count": null,
   "metadata": {},
   "outputs": [],
   "source": []
  }
 ],
 "metadata": {
  "kernelspec": {
   "display_name": "Python 3",
   "language": "python",
   "name": "python3"
  },
  "language_info": {
   "codemirror_mode": {
    "name": "ipython",
    "version": 3
   },
   "file_extension": ".py",
   "mimetype": "text/x-python",
   "name": "python",
   "nbconvert_exporter": "python",
   "pygments_lexer": "ipython3",
   "version": "3.6.8"
  }
 },
 "nbformat": 4,
 "nbformat_minor": 2
}
