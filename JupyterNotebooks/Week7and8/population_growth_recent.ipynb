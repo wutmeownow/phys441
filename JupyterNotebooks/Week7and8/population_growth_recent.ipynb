{
 "cells": [
  {
   "cell_type": "markdown",
   "id": "creative-motel",
   "metadata": {},
   "source": [
    "# Proportional Growth"
   ]
  },
  {
   "cell_type": "markdown",
   "id": "imported-table",
   "metadata": {
    "tags": []
   },
   "source": [
    "*Modeling and Simulation in Python*\n",
    "\n",
    "Copyright 2021 Allen Downey\n",
    "\n",
    "License: [Creative Commons Attribution-NonCommercial-ShareAlike 4.0 International](https://creativecommons.org/licenses/by-nc-sa/4.0/)"
   ]
  },
  {
   "cell_type": "markdown",
   "source": [
    "# Recent Data\n",
    "\n",
    "In this notebook, we'll use the same data from the previous chapter, but we'll use more recent data from the US Census Bureau.\n",
    "\n",
    "We will investigate several models to \"fit\" the data.  The idea is that we will be interested, eventually, in using one or more\n",
    "of these models to do projections into the future.  But before we do that, we have to be confident that the models fit the data well."
   ],
   "metadata": {
    "collapsed": false
   },
   "id": "7cd67624e7defcfd"
  },
  {
   "cell_type": "code",
   "execution_count": null,
   "id": "formal-context",
   "metadata": {
    "tags": [],
    "ExecuteTime": {
     "end_time": "2023-10-13T19:55:13.774141Z",
     "start_time": "2023-10-13T19:55:13.771091Z"
    }
   },
   "outputs": [],
   "source": []
  },
  {
   "cell_type": "code",
   "execution_count": 1,
   "id": "progressive-typing",
   "metadata": {
    "tags": [],
    "ExecuteTime": {
     "end_time": "2023-10-13T19:55:14.918853Z",
     "start_time": "2023-10-13T19:55:13.777605Z"
    }
   },
   "outputs": [],
   "source": [
    "# import functions from modsim\n",
    "\n",
    "from modsim import *"
   ]
  },
  {
   "cell_type": "markdown",
   "id": "375794f9",
   "metadata": {},
   "source": [
    "This chapter is available as a Jupyter notebook where you can read the text, run the code, and work on the exercises. \n",
    "Click here to access the notebooks: <https://allendowney.github.io/ModSimPy/>."
   ]
  },
  {
   "cell_type": "markdown",
   "id": "amber-contrary",
   "metadata": {
    "tags": []
   },
   "source": [
    "## Models\n",
    "\n",
    "We will consider three models of population growth:\n",
    "\n",
    "-   Constant growth, which is not realistic, but we'll use it as a\n",
    "    baseline.\n",
    "    \n",
    "- Proportional growth, which is more realistic, and\n",
    "\n",
    "- Quadratic growth, which is more realistic, but only works well for a\n",
    "  short period.  Since we are looking at recent data only, that might be good enough.\n",
    "    "
   ]
  },
  {
   "cell_type": "markdown",
   "source": [
    "## Constant Growth\n",
    "\n",
    "We write the constant growth\n",
    "model like this:\n",
    "\n",
    "\n",
    "```\n",
    "results[t+1] = results[t] + annual_growth\n",
    "```\n",
    "\n",
    "In mathematical notation, we would write the same model like this:\n",
    "\n",
    "$$x_{n+1} = x_n + c$$ \n",
    "\n",
    "where $x_n$ is the population during year $n$, \n",
    "$x_{n+1}$ is the population during year $n+1$,\n",
    "and $c$ is constant annual growth.\n",
    "\n",
    "For a given value of $n$, sometimes it is possible to compute $x_n$ directly; that\n",
    "is, without computing the intervening values from $x_1$ through $x_{n-1}$.\n",
    "\n",
    "In the case of constant growth we can see that $x_1 = x_0 + c$, and\n",
    "$x_2 = x_1 + c$. Combining these, we get $x_2 = x_0 + 2c$, then\n",
    "$x_3 = x_0 + 3c$, and we can see that in general\n",
    "\n",
    "$$x_n = x_0 + nc$$ \n",
    "\n",
    "So if we want to know $x_{100}$ and we don't care about the other values, we can compute it with one multiplication and one addition.\n",
    "\n",
    "In a continuous model, we write the rate of change in the\n",
    "form of a derivative: \n",
    "\n",
    "$$\\frac{dx}{dt} = c$$ \n",
    "\n",
    "This way of representing the model is a *differential equation*, which is an equation that involves at least one derivative.\n",
    "To solve this equation, we multiply both sides by $dt$: \n",
    "\n",
    "$$dx = c dt$$ \n",
    "\n",
    "And then integrate both sides: \n",
    "\n",
    "$$x(t) = c t + x_0$$\n",
    "\n"
   ],
   "metadata": {
    "collapsed": false
   },
   "id": "5cad7ca49c1f385a"
  },
  {
   "cell_type": "markdown",
   "source": [
    "## Proportional Growth\n",
    "\n",
    "Now let's consider a more realistic model of population growth where the number of births and deaths is proportional to the current population (we can combine birth and death rates into a single parameter, $\\alpha$):\n",
    "\n",
    "Similarly, we can write the proportional growth model like this:\n",
    "\n",
    "$$\\frac{\\Delta x}{\\Delta t} = \\alpha x$$ \n",
    "\n",
    "And as a differential equation\n",
    "like this: \n",
    "\n",
    "$$\\frac{dx}{dt} = \\alpha x$$ \n",
    "\n",
    "If we multiply both sides by\n",
    "$dt$ and divide by $x$, we get \n",
    "\n",
    "$$\\frac{1}{x}~dx = \\alpha~dt$$ \n",
    "\n",
    "Now we\n",
    "integrate both sides, yielding: \n",
    "\n",
    "$$\\ln x = \\alpha t + K$$ \n",
    "\n",
    "where $\\ln$ is the natural logarithm and $K$ is the constant of integration.\n",
    "\n",
    "Exponentiating both sides, we have\n",
    "\n",
    "$$\\exp(\\ln(x)) = \\exp(\\alpha t + K)$$ \n",
    "\n",
    "The exponential function can be written $\\exp(x)$ or $e^x$. In this book I use the first form because it resembles the Python code.\n",
    "We can rewrite the previous equation as\n",
    "\n",
    "$$x = \\exp(\\alpha t) \\exp(K)$$ \n",
    "\n",
    "Since $K$ is an arbitrary constant,\n",
    "$\\exp(K)$ is also an arbitrary constant, so we can write\n",
    "\n",
    "$$x = C \\exp(\\alpha t)$$ \n",
    "\n",
    "where $C = \\exp(K)$. There are many solutions to this differential equation, with different values of $C$. The particular solution we want is the one that has the value $x_0$ when $t=0$.\n",
    "\n",
    "When $t=0$, $x(t) = C$, so $C = x_0$ and the solution we want is\n",
    "\n",
    "$$x(t) = x_0 \\exp(\\alpha t)$$ "
   ],
   "metadata": {
    "collapsed": false
   },
   "id": "6f5cf767188377c7"
  },
  {
   "cell_type": "markdown",
   "source": [
    "## Quadratic Growth\n",
    "\n",
    "The differential equation for quadratic growth is\n",
    "\n",
    "$$\\frac{dx}{dt} = \\alpha x + \\beta x^2$$ \n",
    "\n",
    "where $\\alpha$ and $\\beta$ are parameters that control the death rate and the growth rate, respectively.    \n",
    "\n",
    "Another way of writing this is:\n",
    "\n",
    "$$\\frac{dx}{dt} = r \\left ( 1 - \\frac{x}{K} \\right ) x$$ \n",
    "\n",
    "where $r = \\alpha$ is the *intrinsic growth rate* and $K = \\alpha / \\beta$ is the *carrying capacity*.\n",
    "\n",
    "The solution to this differential equation is the *logistic function*:\n",
    "\n",
    "$$x(t) = \\frac{K}{1 + A \\exp(-rt)}$$ \n",
    "\n",
    "where $A = (K - x_0) / x_0$.    \n",
    "\n"
   ],
   "metadata": {
    "collapsed": false
   },
   "id": "252ba8615a1f91df"
  },
  {
   "cell_type": "code",
   "execution_count": 2,
   "id": "naughty-swing",
   "metadata": {
    "tags": [],
    "ExecuteTime": {
     "end_time": "2023-10-13T19:55:15.051381Z",
     "start_time": "2023-10-13T19:55:14.920692Z"
    }
   },
   "outputs": [],
   "source": [
    "from pandas import read_html\n",
    "\n",
    "filename = 'World_population_estimates.html'\n",
    "tables = read_html(filename, header=0, index_col=0, decimal='M')\n",
    "table2 = tables[2]\n",
    "table2.columns = ['census', 'prb', 'un', 'maddison', \n",
    "                  'hyde', 'tanton', 'biraben', 'mj', \n",
    "                  'thomlinson', 'durand', 'clark']"
   ]
  },
  {
   "cell_type": "markdown",
   "id": "quality-spectrum",
   "metadata": {},
   "source": [
    "\n",
    "\n",
    "First, we'll improve the code from the previous chapter by\n",
    "encapsulating it in a function and adding a new feature, a `System` object."
   ]
  },
  {
   "cell_type": "markdown",
   "id": "therapeutic-merchant",
   "metadata": {},
   "source": [
    "## System Objects\n",
    "\n",
    "Like a `State` object, a `System` object contains variables and their\n",
    "values. The difference is:\n",
    "\n",
    "-   `State` objects contain state variables that get updated in the course of a simulation.\n",
    "\n",
    "-   `System` objects contain *system parameters*, which usually don't get updated over the course of a simulation.\n",
    "\n",
    "For example, in the bike share model, state variables include the number of bikes at each location, which get updated whenever a customer moves a bike. System parameters include the number of locations, total number of bikes, and arrival rates at each location.\n",
    "\n",
    "In the population model, the only state variable is the population.\n",
    "System parameters include the annual growth rate, the initial population, and the start and end times.\n",
    "\n",
    "Suppose we have the following variables, as computed in the previous\n",
    "chapter (assuming `table2` is the `DataFrame` we read from the file):"
   ]
  },
  {
   "cell_type": "code",
   "execution_count": 3,
   "id": "numerous-university",
   "metadata": {
    "ExecuteTime": {
     "end_time": "2023-10-13T19:55:15.053093Z",
     "start_time": "2023-10-13T19:55:15.050177Z"
    }
   },
   "outputs": [],
   "source": [
    "un = table2.un / 1e9\n",
    "census = table2.census / 1e9\n",
    "\n",
    "t_0 = census.index[0]\n",
    "t_end = census.index[-1]\n",
    "elapsed_time = t_end - t_0\n",
    "\n",
    "p_0 = census[t_0]\n",
    "p_end = census[t_end]\n",
    "\n",
    "total_growth = p_end - p_0\n",
    "annual_growth = total_growth / elapsed_time"
   ]
  },
  {
   "cell_type": "markdown",
   "id": "starting-cooling",
   "metadata": {},
   "source": [
    "Some of these are parameters we need to simulate the system; others are temporary values we can discard. \n",
    "To distinguish between them, we'll put the parameters we need in a `System` object like this:"
   ]
  },
  {
   "cell_type": "code",
   "execution_count": 4,
   "id": "colonial-domestic",
   "metadata": {
    "ExecuteTime": {
     "end_time": "2023-10-13T19:55:15.062516Z",
     "start_time": "2023-10-13T19:55:15.053749Z"
    }
   },
   "outputs": [],
   "source": [
    "system = System(t_0=t_0, \n",
    "                t_end=t_end,\n",
    "                p_0=p_0,\n",
    "                annual_growth=annual_growth)"
   ]
  },
  {
   "cell_type": "markdown",
   "id": "fleet-beaver",
   "metadata": {},
   "source": [
    "`t0` and `t_end` are the first and last years; `p_0` is the initial\n",
    "population, and `annual_growth` is the estimated annual growth.\n",
    "\n",
    "The assignment `t_0=t_0` reads the value of the existing variable named `t_0`, which we created previously, and stores it in a new system variable, also named `t_0`.\n",
    "The variables inside the `System` object are distinct from other variables, so you can change one without affecting the other, even if they have the same name.\n",
    "\n",
    "So this `System` object contains four new variables; here's what they look like."
   ]
  },
  {
   "cell_type": "code",
   "execution_count": 5,
   "id": "floral-routine",
   "metadata": {
    "ExecuteTime": {
     "end_time": "2023-10-13T19:55:16.033965Z",
     "start_time": "2023-10-13T19:55:16.020881Z"
    }
   },
   "outputs": [
    {
     "data": {
      "text/plain": "                     value\nt_0            1950.000000\nt_end          2016.000000\np_0               2.557629\nannual_growth     0.072248",
      "text/html": "<div>\n<style scoped>\n    .dataframe tbody tr th:only-of-type {\n        vertical-align: middle;\n    }\n\n    .dataframe tbody tr th {\n        vertical-align: top;\n    }\n\n    .dataframe thead th {\n        text-align: right;\n    }\n</style>\n<table border=\"1\" class=\"dataframe\">\n  <thead>\n    <tr style=\"text-align: right;\">\n      <th></th>\n      <th>value</th>\n    </tr>\n  </thead>\n  <tbody>\n    <tr>\n      <th>t_0</th>\n      <td>1950.000000</td>\n    </tr>\n    <tr>\n      <th>t_end</th>\n      <td>2016.000000</td>\n    </tr>\n    <tr>\n      <th>p_0</th>\n      <td>2.557629</td>\n    </tr>\n    <tr>\n      <th>annual_growth</th>\n      <td>0.072248</td>\n    </tr>\n  </tbody>\n</table>\n</div>"
     },
     "execution_count": 5,
     "metadata": {},
     "output_type": "execute_result"
    }
   ],
   "source": [
    "show(system)"
   ]
  },
  {
   "cell_type": "markdown",
   "id": "combined-banking",
   "metadata": {},
   "source": [
    "Next we'll wrap the code from the previous chapter in a function:"
   ]
  },
  {
   "cell_type": "code",
   "execution_count": 6,
   "id": "pacific-challenge",
   "metadata": {
    "ExecuteTime": {
     "end_time": "2023-10-13T19:55:16.401564Z",
     "start_time": "2023-10-13T19:55:16.396010Z"
    }
   },
   "outputs": [],
   "source": [
    "def run_simulation1(system):\n",
    "    results = TimeSeries()\n",
    "    results[system.t_0] = system.p_0\n",
    "    \n",
    "    for t in range(system.t_0, system.t_end):\n",
    "        results[t+1] = results[t] + system.annual_growth\n",
    "    \n",
    "    return results"
   ]
  },
  {
   "cell_type": "markdown",
   "id": "rough-strain",
   "metadata": {},
   "source": [
    "`run_simulation1` takes a `System` object and reads from it the values of `t_0`, `t_end`, and `annual_growth`.\n",
    "\n",
    "It simulates population growth over time and returns the results in a `TimeSeries`.\n",
    "Here's how we call it."
   ]
  },
  {
   "cell_type": "code",
   "execution_count": 7,
   "id": "electoral-breach",
   "metadata": {
    "ExecuteTime": {
     "end_time": "2023-10-13T19:55:16.788505Z",
     "start_time": "2023-10-13T19:55:16.761874Z"
    }
   },
   "outputs": [],
   "source": [
    "results1 = run_simulation1(system)"
   ]
  },
  {
   "cell_type": "markdown",
   "id": "ordinary-sound",
   "metadata": {},
   "source": [
    "Here's the function we used in the previous chapter to plot the estimates."
   ]
  },
  {
   "cell_type": "code",
   "execution_count": 8,
   "id": "peripheral-cassette",
   "metadata": {
    "ExecuteTime": {
     "end_time": "2023-10-13T19:55:17.382888Z",
     "start_time": "2023-10-13T19:55:17.377058Z"
    }
   },
   "outputs": [],
   "source": [
    "def plot_estimates():\n",
    "    census.plot(style='o', label='US Census')\n",
    "    un.plot(style='.', label='UN DESA')\n",
    "    decorate(xlabel='Year', \n",
    "             ylabel='World population (billion)') "
   ]
  },
  {
   "cell_type": "markdown",
   "id": "warming-audience",
   "metadata": {},
   "source": [
    "And here are the results."
   ]
  },
  {
   "cell_type": "code",
   "execution_count": 9,
   "id": "capable-diana",
   "metadata": {
    "ExecuteTime": {
     "end_time": "2023-10-13T19:55:18.143131Z",
     "start_time": "2023-10-13T19:55:17.828189Z"
    }
   },
   "outputs": [
    {
     "data": {
      "text/plain": "<Figure size 675x450 with 1 Axes>",
      "image/png": "[encoded data removed]"
     },
     "metadata": {},
     "output_type": "display_data"
    }
   ],
   "source": [
    "results1.plot(label='model', color='gray')\n",
    "plot_estimates()\n",
    "decorate(title='Constant growth model')"
   ]
  },
  {
   "cell_type": "markdown",
   "id": "exposed-witness",
   "metadata": {},
   "source": [
    "It might not be obvious that using functions and `System` objects is a\n",
    "big improvement, and for a simple model that we run only once, maybe\n",
    "it's not. But as we work with more complex models, and when we run many simulations with different parameters, we'll see that this way of organizing the code makes a big difference.\n",
    "\n",
    "Now let's see if we can improve the model."
   ]
  },
  {
   "cell_type": "markdown",
   "id": "geographic-hormone",
   "metadata": {},
   "source": [
    "## Proportional Growth Model\n",
    "\n",
    "The biggest problem with the constant growth model is that it doesn't\n",
    "make any sense. It is hard to imagine how people all over the world\n",
    "could conspire to keep population growth constant from year to year.\n",
    "\n",
    "On the other hand, if some fraction of the population dies each year,\n",
    "and some fraction gives birth, we can compute the net change in the\n",
    "population like this:"
   ]
  },
  {
   "cell_type": "code",
   "execution_count": 10,
   "id": "laughing-wesley",
   "metadata": {
    "ExecuteTime": {
     "end_time": "2023-10-13T19:55:18.933491Z",
     "start_time": "2023-10-13T19:55:18.914505Z"
    }
   },
   "outputs": [],
   "source": [
    "def run_simulation2(system):\n",
    "    results = TimeSeries()\n",
    "    results[system.t_0] = system.p_0\n",
    "    \n",
    "    for t in range(system.t_0, system.t_end):\n",
    "        births = system.birth_rate * results[t]\n",
    "        deaths = system.death_rate * results[t]\n",
    "        results[t+1] = results[t] + births - deaths\n",
    "        \n",
    "    return results"
   ]
  },
  {
   "cell_type": "markdown",
   "id": "educated-portugal",
   "metadata": {},
   "source": [
    "Each time through the loop, we use the parameter `birth_rate` to compute the number of births, and `death_rate` to compute the number of deaths.\n",
    "The rest of the function is the same as `run_simulation1`.\n",
    "\n",
    "Now we can choose the values of `birth_rate` and `death_rate` that best fit the data. \n",
    "For the death rate, I'll use 7.7 deaths per 1000 people, which was roughly the global death rate in 2020 (see <https://www.indexmundi.com/world/death_rate.html>).\n",
    "I chose the birth rate by hand to fit the population data."
   ]
  },
  {
   "cell_type": "code",
   "execution_count": 11,
   "id": "wired-brief",
   "metadata": {
    "ExecuteTime": {
     "end_time": "2023-10-13T19:55:20.117255Z",
     "start_time": "2023-10-13T19:55:20.111626Z"
    }
   },
   "outputs": [],
   "source": [
    "system.death_rate = 7.7 / 1000\n",
    "system.birth_rate = 25 / 1000"
   ]
  },
  {
   "cell_type": "markdown",
   "id": "sufficient-contest",
   "metadata": {},
   "source": [
    "Then I ran the simulation and plotted the results:"
   ]
  },
  {
   "cell_type": "code",
   "execution_count": 12,
   "id": "looking-trace",
   "metadata": {
    "ExecuteTime": {
     "end_time": "2023-10-13T19:55:21.138508Z",
     "start_time": "2023-10-13T19:55:20.914912Z"
    }
   },
   "outputs": [
    {
     "data": {
      "text/plain": "<Figure size 675x450 with 1 Axes>",
      "image/png": "[encoded data removed]"
     },
     "metadata": {},
     "output_type": "display_data"
    }
   ],
   "source": [
    "results2 = run_simulation2(system)\n",
    "results2.plot(label='model', color='gray')\n",
    "plot_estimates()\n",
    "decorate(title='Proportional growth model')"
   ]
  },
  {
   "cell_type": "markdown",
   "id": "suited-costs",
   "metadata": {},
   "source": [
    "The proportional model fits\n",
    "the data well from 1950 to 1965, but not so well after that. Overall,\n",
    "the *quality of fit* is not as good as the constant growth model,\n",
    "which is surprising, because it seems like the proportional model is\n",
    "more realistic.\n",
    "\n",
    "In the next chapter we'll try one more time to find a model that makes\n",
    "sense and fits the data. But first, I want to make a few more\n",
    "improvements to the code."
   ]
  },
  {
   "cell_type": "markdown",
   "id": "appropriate-checkout",
   "metadata": {},
   "source": [
    "## Factoring Out the Update Function\n",
    "\n",
    "`run_simulation1` and `run_simulation2` are nearly identical except for the body of the `for` loop, where we compute the population for the next year.\n",
    "\n",
    "Rather than repeat identical code, we can separate the things that\n",
    "change from the things that don't. First, I'll pull out the births and deaths from `run_simulation2` and make a function:"
   ]
  },
  {
   "cell_type": "code",
   "execution_count": 13,
   "id": "handmade-permit",
   "metadata": {
    "ExecuteTime": {
     "end_time": "2023-10-13T19:55:27.519186Z",
     "start_time": "2023-10-13T19:55:27.513816Z"
    }
   },
   "outputs": [],
   "source": [
    "def growth_func1(t, pop, system):\n",
    "    births = system.birth_rate * pop\n",
    "    deaths = system.death_rate * pop\n",
    "    return births - deaths"
   ]
  },
  {
   "cell_type": "markdown",
   "id": "fabulous-bankruptcy",
   "metadata": {},
   "source": [
    "`growth_func1` takes as arguments the current year, current population, and a `System` object; it returns the net population growth during the current year.\n",
    "\n",
    "This function does not use `t`, so we could leave it out. But we will see other growth functions that need it, and it is convenient if they all take the same parameters, used or not.\n",
    "Now we can write a function that runs any model:"
   ]
  },
  {
   "cell_type": "code",
   "execution_count": 14,
   "id": "civilian-accused",
   "metadata": {
    "tags": [],
    "ExecuteTime": {
     "end_time": "2023-10-13T19:55:28.419821Z",
     "start_time": "2023-10-13T19:55:28.414802Z"
    }
   },
   "outputs": [],
   "source": [
    "def run_simulation(system, growth_func):\n",
    "    results = TimeSeries()\n",
    "    results[system.t_0] = system.p_0\n",
    "    \n",
    "    for t in range(system.t_0, system.t_end):\n",
    "        growth = growth_func(t, results[t], system)\n",
    "        results[t+1] = results[t] + growth\n",
    "        \n",
    "    return results"
   ]
  },
  {
   "cell_type": "markdown",
   "id": "failing-assist",
   "metadata": {},
   "source": [
    "This function demonstrates a feature we have not seen before: it takes a\n",
    "function as a parameter! When we call `run_simulation`, the second\n",
    "parameter is a function, like `growth_func1`, that computes the\n",
    "population for the next year.\n",
    "\n",
    "Here's how we call it:"
   ]
  },
  {
   "cell_type": "code",
   "execution_count": 15,
   "id": "wicked-seeking",
   "metadata": {
    "ExecuteTime": {
     "end_time": "2023-10-13T19:55:29.727667Z",
     "start_time": "2023-10-13T19:55:29.699467Z"
    }
   },
   "outputs": [],
   "source": [
    "results = run_simulation(system, growth_func1)"
   ]
  },
  {
   "cell_type": "markdown",
   "id": "simple-camel",
   "metadata": {},
   "source": [
    "Passing a function as an argument is the same as passing any other\n",
    "value. The argument, which is `growth_func1` in this example, gets\n",
    "assigned to the parameter, which is called `growth_func`. Inside\n",
    "`run_simulation`, we can call `growth_func` just like any other function.\n",
    "\n",
    "Each time through the loop, `run_simulation` calls `growth_func1` to compute net growth, and uses it to compute the population during the next year."
   ]
  },
  {
   "cell_type": "markdown",
   "id": "spectacular-paradise",
   "metadata": {},
   "source": [
    "## Combining Birth and Death\n",
    "\n",
    "We can simplify the code slightly by combining births and deaths to compute the net growth rate. \n",
    "Instead of two parameters, `birth_rate` and `death_rate`, we can write the update function in terms of a single parameter that represents the difference:"
   ]
  },
  {
   "cell_type": "code",
   "execution_count": 16,
   "id": "impressive-model",
   "metadata": {
    "ExecuteTime": {
     "end_time": "2023-10-13T19:55:31.119871Z",
     "start_time": "2023-10-13T19:55:31.114092Z"
    }
   },
   "outputs": [],
   "source": [
    "system.alpha = system.birth_rate - system.death_rate"
   ]
  },
  {
   "cell_type": "markdown",
   "id": "modern-uncertainty",
   "metadata": {},
   "source": [
    "The name of this parameter, `alpha`, is the conventional name for a\n",
    "proportional growth rate.\n",
    "\n",
    "Here's the modified version of `growth_func1`:"
   ]
  },
  {
   "cell_type": "code",
   "execution_count": 17,
   "id": "familiar-helena",
   "metadata": {
    "ExecuteTime": {
     "end_time": "2023-10-13T19:55:32.621524Z",
     "start_time": "2023-10-13T19:55:32.615138Z"
    }
   },
   "outputs": [],
   "source": [
    "def growth_func2(t, pop, system):\n",
    "    return system.alpha * pop"
   ]
  },
  {
   "cell_type": "markdown",
   "id": "understanding-typing",
   "metadata": {},
   "source": [
    "And here's how we run it:"
   ]
  },
  {
   "cell_type": "code",
   "execution_count": 18,
   "id": "independent-effectiveness",
   "metadata": {
    "ExecuteTime": {
     "end_time": "2023-10-13T19:55:33.678563Z",
     "start_time": "2023-10-13T19:55:33.650615Z"
    }
   },
   "outputs": [],
   "source": [
    "results = run_simulation(system, growth_func2)"
   ]
  },
  {
   "cell_type": "markdown",
   "id": "everyday-delicious",
   "metadata": {},
   "source": [
    "The results are the same as the previous versions, but now the code is organized in a way that makes it easy to explore other models."
   ]
  },
  {
   "cell_type": "markdown",
   "id": "attractive-steps",
   "metadata": {},
   "source": [
    "## Summary\n",
    "\n",
    "In this chapter, we wrapped the code from the previous chapter in functions and used a `System` object to store the parameters of the system.\n",
    "\n",
    "We explored a new model of population growth, where the number of births and deaths is proportional to the current population.  This model seems more realistic, but it turns out not to fit the data particularly well.\n",
    "\n",
    "In the next chapter, we'll try one more model, which is based on the assumption that the population can't keep growing forever.\n",
    "But first, you might want to work on some exercises."
   ]
  },
  {
   "cell_type": "markdown",
   "id": "looking-douglas",
   "metadata": {},
   "source": []
  },
  {
   "cell_type": "markdown",
   "id": "compliant-preserve",
   "metadata": {},
   "source": [
    "Maybe the reason the proportional model doesn't work very well is that the growth rate, `alpha`, is changing over time.  So let's try a model with different growth rates before and after 1980 (as an arbitrary choice).\n",
    "\n",
    "Write an update function that takes `t`, `pop`, and `system` as parameters.  The system object, `system`, should contain two parameters: the growth rate before 1980, `alpha1`, and the growth rate after 1980, `alpha2`.  It should use `t` to determine which growth rate to use.\n",
    "\n",
    "Test your function by calling it directly, then pass it to `run_simulation`.  Plot the results.  Adjust the parameters `alpha1` and `alpha2` to fit the data as well as you can."
   ]
  },
  {
   "cell_type": "code",
   "execution_count": 19,
   "id": "minus-recommendation",
   "metadata": {
    "scrolled": false,
    "ExecuteTime": {
     "end_time": "2023-10-13T19:55:37.122683Z",
     "start_time": "2023-10-13T19:55:37.117362Z"
    }
   },
   "outputs": [],
   "source": [
    "system.alpha1 = system.birth_rate - system.death_rate + 0.001\n",
    "system.alpha2 = system.birth_rate - system.death_rate - 0.0053\n",
    "\n",
    "def growth_func2(t, pop, system):\n",
    "    if t < 1994:\n",
    "        return system.alpha1 * pop\n",
    "    else:\n",
    "        return system.alpha2 * pop"
   ]
  },
  {
   "cell_type": "code",
   "execution_count": 20,
   "id": "headed-amsterdam",
   "metadata": {
    "ExecuteTime": {
     "end_time": "2023-10-13T19:55:38.136401Z",
     "start_time": "2023-10-13T19:55:38.111315Z"
    }
   },
   "outputs": [],
   "source": [
    "results3 = run_simulation(system, growth_func2)"
   ]
  },
  {
   "cell_type": "code",
   "execution_count": 21,
   "id": "preliminary-carnival",
   "metadata": {
    "ExecuteTime": {
     "end_time": "2023-10-13T19:55:40.389693Z",
     "start_time": "2023-10-13T19:55:40.178312Z"
    }
   },
   "outputs": [
    {
     "data": {
      "text/plain": "<Figure size 675x450 with 1 Axes>",
      "image/png": "[encoded data removed]"
     },
     "metadata": {},
     "output_type": "display_data"
    }
   ],
   "source": [
    "results3.plot(label='model', color='gray')\n",
    "plot_estimates()\n",
    "decorate(title='Proportional growth model')"
   ]
  },
  {
   "cell_type": "markdown",
   "id": "adaptive-tiger",
   "metadata": {},
   "source": [
    "## Under the Hood\n",
    "\n",
    "The `System` object defined in the ModSim library, is based on the `SimpleNamespace` object defined in a standard Python library called `types`; the documentation is at <https://docs.python.org/3.7/library/types.html#types.SimpleNamespace>."
   ]
  },
  {
   "cell_type": "code",
   "execution_count": 24,
   "id": "injured-mailman",
   "metadata": {
    "ExecuteTime": {
     "end_time": "2023-07-30T21:38:39.766473Z",
     "start_time": "2023-07-30T21:38:39.761300Z"
    }
   },
   "outputs": [],
   "source": []
  },
  {
   "cell_type": "code",
   "execution_count": 24,
   "outputs": [],
   "source": [],
   "metadata": {
    "collapsed": false,
    "ExecuteTime": {
     "end_time": "2023-07-30T21:38:39.778012Z",
     "start_time": "2023-07-30T21:38:39.766260Z"
    }
   },
   "id": "41158623b96e708b"
  }
 ],
 "metadata": {
  "celltoolbar": "Tags",
  "kernelspec": {
   "display_name": "Python 3 (ipykernel)",
   "language": "python",
   "name": "python3"
  },
  "language_info": {
   "codemirror_mode": {
    "name": "ipython",
    "version": 3
   },
   "file_extension": ".py",
   "mimetype": "text/x-python",
   "name": "python",
   "nbconvert_exporter": "python",
   "pygments_lexer": "ipython3",
   "version": "3.10.6"
  }
 },
 "nbformat": 4,
 "nbformat_minor": 5
}
