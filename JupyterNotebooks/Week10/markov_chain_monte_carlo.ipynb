{
 "cells": [
  {
   "cell_type": "code",
   "execution_count": 1,
   "id": "initial_id",
   "metadata": {
    "collapsed": true,
    "ExecuteTime": {
     "end_time": "2023-09-27T01:22:49.438801Z",
     "start_time": "2023-09-27T01:22:48.390697Z"
    }
   },
   "outputs": [],
   "source": [
    "import numpy as np\n",
    "import scipy.stats as stats\n",
    "import matplotlib.pyplot as plt"
   ]
  },
  {
   "cell_type": "code",
   "execution_count": 2,
   "outputs": [],
   "source": [
    "# Define the data for the first coin produced by the factory\n",
    "x = 57\n",
    "n = 100\n",
    "\n",
    "# Define the Likelihood P(x|p) - binomial distribution\n",
    "def likelihood(p):\n",
    "    return stats.binom.pmf(x, n, p)"
   ],
   "metadata": {
    "collapsed": false,
    "ExecuteTime": {
     "end_time": "2023-09-27T01:22:49.444295Z",
     "start_time": "2023-09-27T01:22:49.441082Z"
    }
   },
   "id": "77e9b8ccd216071d"
  },
  {
   "cell_type": "code",
   "execution_count": 3,
   "outputs": [],
   "source": [
    "# Define the prior P(p) - as we have never seen this coin before, we will assume a uniform distribution\n",
    "def prior(p):\n",
    "    return stats.uniform.pdf(p)"
   ],
   "metadata": {
    "collapsed": false,
    "ExecuteTime": {
     "end_time": "2023-09-27T01:22:49.448777Z",
     "start_time": "2023-09-27T01:22:49.444825Z"
    }
   },
   "id": "3db0ee302eb866c8"
  },
  {
   "cell_type": "markdown",
   "source": [
    "# The Metropolis-Hastings MCMC\n",
    "\n",
    "As mentioned above, these methods draw samples from a continuous random variable — in our case for p. The MCMC we will use is of the random walk type, which randomly generates samples and keeps them or not based on how they fit the model.\n",
    "\n",
    "The Metropolis-Hastings algorithm is a Markov Chain Monte Carlo method for obtaining a sequence of random samples from a probability distribution for which direct sampling is difficult. This sequence can be used to approximate the distribution (e.g. to generate a histogram of the distribution); for example, the sequence can be used to approximate the posterior distribution in Bayesian inference.\n",
    "\n",
    "The algorithm is as follows:\n",
    "\n",
    "1. Propose a new value of p randomly between 0 and 1, call it p′ (or p_new).\n",
    "2. Compute the acceptance ratio, R.\n",
    "3. Generate another uniform random number between 0 and 1, call it u.\n",
    "4. If u < R, accept the new value and set p = p′. Otherwise, keep the current value of p.\n",
    "5. Record the final value of p for this sample.\n",
    "6. Repeat steps 1 through 5 many, many times.\n",
    "\n",
    "# Acceptance Ratio\n",
    "\n",
    "The Metropolis-Hastings algorithm is fairly straightforward, but first, we need to define how we will either accept or reject the new sample draw. Each iteration, a new value for p between 0 and 1 will be proposed, we will call this proposed value p′. We only want to accept and update this value if it is better than the previous. This is done by computing an acceptance ratio, R. This acceptance ratio is the ratio of our Bayes’ Theorem for the proposed value over the previous value and is shown below.\n",
    "\n",
    "\n"
   ],
   "metadata": {
    "collapsed": false
   },
   "id": "605c0aa3e09dbc03"
  },
  {
   "cell_type": "code",
   "execution_count": 4,
   "outputs": [],
   "source": [
    "# Define the acceptance ratio\n",
    "\n",
    "def acceptance_ratio(p, p_new):\n",
    "    return min(1, likelihood(p_new) * prior(p_new) / (likelihood(p) * prior(p)))"
   ],
   "metadata": {
    "collapsed": false,
    "ExecuteTime": {
     "end_time": "2023-09-27T01:22:49.453553Z",
     "start_time": "2023-09-27T01:22:49.449269Z"
    }
   },
   "id": "cdcde62c9e6cd36c"
  },
  {
   "cell_type": "markdown",
   "source": [
    "# Burn-in\n",
    "\n",
    "MCMCs are initialized randomly and must converge towards the correct value, and this can often take quite a lot of samples. When plotting our results and posterior distribution, it is not effective to include these early samples before the model has converged. So we implement what is called a “burn-in”, in which those first, less accurate samples are excluded. Burn-in for MCMCs is typically around 2000–5000 samples when the entire chain is around 10k–20k.\n",
    "\n",
    "# Lag\n",
    "\n",
    "Another very important thing to consider with MCMCs is sample independence. A new sample here is often dependent on the previous one as occasionally we do not accept a new random value and keep the old. To address this problem, we implement what is called “lag”. Lag is where rather than recording every sample, we record every other, or perhaps every fifth or tenth sample.\n",
    "\n",
    "# The Simulation\n",
    "\n",
    "Great, we now have everything we need to write and run our MCMC.\n"
   ],
   "metadata": {
    "collapsed": false
   },
   "id": "60a274b4f5f56883"
  },
  {
   "cell_type": "code",
   "execution_count": 5,
   "outputs": [],
   "source": [
    "# Create empty list to store samples\n",
    "results = []\n",
    "\n",
    "# Initialize a value of p\n",
    "p = np.random.uniform(0, 1)\n",
    "\n",
    "# Define model parameters\n",
    "n_samples = 25000\n",
    "burn_in = 5000\n",
    "lag = 5\n",
    "\n",
    "# Create the MCMC loop\n",
    "for i in range(n_samples):\n",
    "    # Propose a new value of p randomly from a uniform distribution between 0 and 1\n",
    "    p_new = np.random.random_sample()\n",
    "    # Compute acceptance probability\n",
    "    R = acceptance_ratio(p, p_new)\n",
    "    # Draw random sample to compare R to\n",
    "    u = np.random.random_sample()\n",
    "    # If R is greater than u, accept the new value of p (set p = p_new)\n",
    "    if u < R:\n",
    "        p = p_new\n",
    "    # Record values after burn in - how often determined by lag\n",
    "    if i > burn_in and i%lag == 0:\n",
    "        results.append(p)"
   ],
   "metadata": {
    "collapsed": false,
    "ExecuteTime": {
     "end_time": "2023-09-27T01:22:57.674041Z",
     "start_time": "2023-09-27T01:22:49.539735Z"
    }
   },
   "id": "95da2c97b9cf0e57"
  },
  {
   "cell_type": "code",
   "execution_count": 6,
   "outputs": [
    {
     "data": {
      "text/plain": "(array([0.03631387, 0.        , 0.03631387, 0.        , 0.14525547,\n        0.03631387, 0.18156934, 0.29051094, 0.2178832 , 0.76259121,\n        0.32682481, 0.79890508, 1.48886856, 1.74306563, 1.70675176,\n        3.26824806, 3.55875899, 3.26824806, 4.39397794, 5.33813849,\n        5.33813849, 6.2096713 , 6.86332092, 6.57280998, 6.89963478,\n        7.95273693, 9.04215295, 8.64270041, 7.26277346, 6.57280998,\n        5.95547423, 6.75437931, 6.71806545, 6.06441584, 4.43029181,\n        4.06715314, 4.03083927, 2.2151459 , 1.41624082, 1.52518243,\n        0.87153281, 0.83521895, 0.36313867, 0.29051094, 0.29051094,\n        0.07262773, 0.1089416 , 0.1089416 , 0.07262773, 0.07262773]),\n array([0.38795958, 0.39484573, 0.40173187, 0.40861801, 0.41550416,\n        0.4223903 , 0.42927645, 0.43616259, 0.44304873, 0.44993488,\n        0.45682102, 0.46370717, 0.47059331, 0.47747945, 0.4843656 ,\n        0.49125174, 0.49813789, 0.50502403, 0.51191017, 0.51879632,\n        0.52568246, 0.5325686 , 0.53945475, 0.54634089, 0.55322704,\n        0.56011318, 0.56699932, 0.57388547, 0.58077161, 0.58765776,\n        0.5945439 , 0.60143004, 0.60831619, 0.61520233, 0.62208848,\n        0.62897462, 0.63586076, 0.64274691, 0.64963305, 0.65651919,\n        0.66340534, 0.67029148, 0.67717763, 0.68406377, 0.69094991,\n        0.69783606, 0.7047222 , 0.71160835, 0.71849449, 0.72538063,\n        0.73226678]),\n <BarContainer object of 50 artists>)"
     },
     "execution_count": 6,
     "metadata": {},
     "output_type": "execute_result"
    },
    {
     "data": {
      "text/plain": "<Figure size 640x480 with 1 Axes>",
      "image/png": "[encoded data removed]"
     },
     "metadata": {},
     "output_type": "display_data"
    }
   ],
   "source": [
    "plt.hist(results, bins=50, density=True)"
   ],
   "metadata": {
    "collapsed": false,
    "ExecuteTime": {
     "end_time": "2023-09-27T01:22:57.872735Z",
     "start_time": "2023-09-27T01:22:57.675493Z"
    }
   },
   "id": "f7399ec7ce4d4501"
  },
  {
   "cell_type": "code",
   "execution_count": 7,
   "outputs": [
    {
     "name": "stdout",
     "output_type": "stream",
     "text": [
      "Mean:  0.5699433648548785\n",
      "Standard Deviation:  0.04861947998985993\n"
     ]
    }
   ],
   "source": [
    "print(\"Mean: \", np.mean(results))\n",
    "print(\"Standard Deviation: \", np.std(results))"
   ],
   "metadata": {
    "collapsed": false,
    "ExecuteTime": {
     "end_time": "2023-09-27T01:22:57.874205Z",
     "start_time": "2023-09-27T01:22:57.870721Z"
    }
   },
   "id": "e5a0c1985456d39d"
  },
  {
   "cell_type": "markdown",
   "source": [
    "# Next Steps\n",
    "\n",
    "Okay, so now let's suppose that the factory makes five hundred more coins. We do the same procedure of 100 flips (testing) for each of these coins, and determine a probability of heads for each. We can then use these probabilities as our prior for the next round of testing. This is the beauty of Bayesian statistics, we can update our prior with new information and get a better estimate of the true probability of heads.\n",
    "\n",
    "Let's suppose that when we do this, we find that there is a distribution of probabilities for the five hundred coins that looks like this:  it is a roughly normal distribution with a mean of 0.511 and a standard deviation of 0.015. We can use this as our prior for the next round of testing."
   ],
   "metadata": {
    "collapsed": false
   },
   "id": "1c7b91904ad36c77"
  },
  {
   "cell_type": "code",
   "execution_count": 54,
   "outputs": [],
   "source": [
    "# Define the prior P(p) - using the mean and standard deviation of the distribution of probabilities for the 500 coins\n",
    "mean = 0.511\n",
    "std = 0.015\n",
    "\n",
    "def prior(p):\n",
    "    return stats.norm.pdf(p, mean, std)\n"
   ],
   "metadata": {
    "collapsed": false,
    "ExecuteTime": {
     "end_time": "2023-09-27T01:46:34.777314Z",
     "start_time": "2023-09-27T01:46:34.756703Z"
    }
   },
   "id": "8222e9ebe6bb1617"
  },
  {
   "cell_type": "code",
   "execution_count": 55,
   "outputs": [],
   "source": [
    "# Now, look at the 501st coin\n",
    "\n",
    "x = 63\n",
    "n = 100\n",
    "\n",
    "# Likelihood function - Binomial\n",
    "def likelihood(p):\n",
    "    return stats.binom.pmf(x, n, p)\n",
    "\n",
    "def acceptance_ratio(p, p_new):\n",
    "    return min(1, likelihood(p_new) * prior(p_new) / (likelihood(p) * prior(p)))\n"
   ],
   "metadata": {
    "collapsed": false,
    "ExecuteTime": {
     "end_time": "2023-09-27T01:46:35.352154Z",
     "start_time": "2023-09-27T01:46:35.338506Z"
    }
   },
   "id": "6e958a307f47a1df"
  },
  {
   "cell_type": "code",
   "execution_count": 56,
   "outputs": [],
   "source": [
    "# Create empty list to store samples\n",
    "results2 = []\n",
    "\n",
    "# Initialize a value of p\n",
    "p = np.random.uniform(0, 1)\n",
    "\n",
    "# Define model parameters\n",
    "n_samples = 25000\n",
    "burn_in = 5000\n",
    "lag = 5\n",
    "\n",
    "# Create the MCMC loop\n",
    "for i in range(n_samples):\n",
    "    # Propose a new value of p randomly from a uniform distribution between 0 and 1\n",
    "    p_new = np.random.random_sample()\n",
    "    # Compute acceptance probability\n",
    "    R = acceptance_ratio(p, p_new)\n",
    "    # Draw random sample to compare R to\n",
    "    u = np.random.random_sample()\n",
    "    # If R is greater than u, accept the new value of p (set p = p_new)\n",
    "    if u < R:\n",
    "        p = p_new\n",
    "    # Record values after burn in - how often determined by lag\n",
    "    if i > burn_in and i%lag == 0:\n",
    "        results2.append(p)"
   ],
   "metadata": {
    "collapsed": false,
    "ExecuteTime": {
     "end_time": "2023-09-27T01:46:44.771596Z",
     "start_time": "2023-09-27T01:46:36.014890Z"
    }
   },
   "id": "2db32f0febb00965"
  },
  {
   "cell_type": "code",
   "execution_count": 57,
   "outputs": [
    {
     "data": {
      "text/plain": "(array([ 0.23856651,  0.11928326,  0.        ,  0.11928326,  0.        ,\n         0.23856651,  0.35784977,  0.35784977,  0.11928326,  2.02781536,\n         0.11928326,  3.45921444,  1.43139908,  2.50494839,  4.05563072,\n         8.94624424, 11.57047588, 14.79112381, 16.22252289, 11.8090424 ,\n        19.56245407, 17.89248848, 33.04146206, 23.73736805, 29.46296437,\n        21.23241966, 19.80102059, 32.9221788 , 34.5921444 , 23.61808479,\n        29.94009739, 28.03156529, 14.91040707, 18.25033825, 12.52474194,\n        12.40545868,  6.79914562,  6.20272934,  2.26638187,  1.78924885,\n         3.81706421,  3.5784977 ,  0.59641628,  0.47713303,  0.        ,\n         0.47713303,  0.23856651,  0.11928326,  0.11928326,  0.11928326]),\n array([0.46505531, 0.46715168, 0.46924806, 0.47134443, 0.47344081,\n        0.47553718, 0.47763356, 0.47972994, 0.48182631, 0.48392269,\n        0.48601906, 0.48811544, 0.49021181, 0.49230819, 0.49440457,\n        0.49650094, 0.49859732, 0.50069369, 0.50279007, 0.50488644,\n        0.50698282, 0.5090792 , 0.51117557, 0.51327195, 0.51536832,\n        0.5174647 , 0.51956107, 0.52165745, 0.52375382, 0.5258502 ,\n        0.52794658, 0.53004295, 0.53213933, 0.5342357 , 0.53633208,\n        0.53842845, 0.54052483, 0.54262121, 0.54471758, 0.54681396,\n        0.54891033, 0.55100671, 0.55310308, 0.55519946, 0.55729584,\n        0.55939221, 0.56148859, 0.56358496, 0.56568134, 0.56777771,\n        0.56987409]),\n <BarContainer object of 50 artists>)"
     },
     "execution_count": 57,
     "metadata": {},
     "output_type": "execute_result"
    },
    {
     "data": {
      "text/plain": "<Figure size 640x480 with 1 Axes>",
      "image/png": "[encoded data removed]"
     },
     "metadata": {},
     "output_type": "display_data"
    }
   ],
   "source": [
    "plt.hist(results2, bins=50, density=True)"
   ],
   "metadata": {
    "collapsed": false,
    "ExecuteTime": {
     "end_time": "2023-09-27T01:46:44.926168Z",
     "start_time": "2023-09-27T01:46:44.774918Z"
    }
   },
   "id": "6267dabf35d2b0ab"
  },
  {
   "cell_type": "code",
   "execution_count": 58,
   "outputs": [
    {
     "name": "stdout",
     "output_type": "stream",
     "text": [
      "Mean:  0.5202478205708465\n",
      "Standard Deviation:  0.013443984748758282\n"
     ]
    }
   ],
   "source": [
    "print(\"Mean: \", np.mean(results2))\n",
    "print(\"Standard Deviation: \", np.std(results2))\n"
   ],
   "metadata": {
    "collapsed": false,
    "ExecuteTime": {
     "end_time": "2023-09-27T01:46:44.930171Z",
     "start_time": "2023-09-27T01:46:44.923437Z"
    }
   },
   "id": "ba866cff18f8c1a1"
  },
  {
   "cell_type": "markdown",
   "source": [
    "# Conclusion\n",
    "\n",
    "Even though the data for this coin suggests a bias around 0.63, our Bayesian Inference model suggests the actual value is much closer to 0.52. This is because our informed prior function holds weight in the model, telling us that even if we observed 63 heads for this coin, given that coins are produced with an average bias of around 0.51, we expect the bias for the 501st to be closer to the factory bias. Even if this coin had exactly a 0.5 bias, observing 63 heads out of 100 tosses is not entirely unlikely, and we shouldn't assume this data to be representative of the exact value. The prior function holds weight just like the likelihood does in informing the posterior distribution. If we were to produce thousands of more coins and inform the prior distribution even more, this would give it an even higher weight in the model. This idea of updating our understanding with more information to predict unknown parameters is exactly why Bayesian Inference is useful. It is tuning and manipulating these likelihood and prior functions with more and better data that allows us to improve and inform our inference model."
   ],
   "metadata": {
    "collapsed": false
   },
   "id": "d72544165af45b4f"
  },
  {
   "cell_type": "code",
   "execution_count": null,
   "outputs": [],
   "source": [],
   "metadata": {
    "collapsed": false
   },
   "id": "75edb08ad0015f83"
  }
 ],
 "metadata": {
  "kernelspec": {
   "display_name": "Python 3",
   "language": "python",
   "name": "python3"
  },
  "language_info": {
   "codemirror_mode": {
    "name": "ipython",
    "version": 2
   },
   "file_extension": ".py",
   "mimetype": "text/x-python",
   "name": "python",
   "nbconvert_exporter": "python",
   "pygments_lexer": "ipython2",
   "version": "2.7.6"
  }
 },
 "nbformat": 4,
 "nbformat_minor": 5
}
