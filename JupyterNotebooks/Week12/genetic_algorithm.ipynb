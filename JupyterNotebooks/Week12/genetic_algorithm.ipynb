{
 "cells": [
  {
   "cell_type": "markdown",
   "source": [
    "# Genetic Algorithm\n",
    "\n",
    "The \"flow\" of the genetic algorithm is as follows:\n",
    "\n",
    "1. Generate a population of random solutions\n",
    "2. Evaluate the fitness of each solution\n",
    "3. Select the mating pool\n",
    "4. Select parents from the mating pool\n",
    "5. Mating (crossover and mutation)\n",
    "6. Generate offspring\n",
    "7. Repeat steps 1-6 until the population has converged\n",
    "\n",
    "For example, there are different types of representations for genes such as binary, decimal, integer, and others. Each type is treated differently. There are different types of mutation such as bit flip, swap, inverse, uniform, non-uniform, Gaussian, shrink, and others. Also, crossover has different types such as blend, one point, two points, uniform, and others. This tutorial will not implement all of them but just implements one type of each step involved in GA."
   ],
   "metadata": {
    "collapsed": false
   },
   "id": "19ce9ff4174e995c"
  },
  {
   "cell_type": "markdown",
   "source": [
    "We start by presenting the equation that we are going to implement:\n",
    "\n",
    "$$Y = w_1x_1 + w_2x_2 + w_3x_3 + w_4x_4 + w_5x_5 + w_6x_6$$\n",
    "\n",
    "The equation has 6 inputs (x1 to x6) and 6 weights (w1 to w6) as shown and the input values are (x1,x2,x3,x4,x5,x6)=(4,-2,7,5,11,1). We are looking to find the parameters (weights) that maximize such equation. The idea of maximizing such equation seems simple. The positive input is to be multiplied by the largest possible positive number and the negative number is to be multiplied by the smallest possible negative number. But the idea we are looking to implement is how to make GA do that on its own in order to know that it is better to use positive weight with positive inputs and negative weights with negative inputs. Let us start implementing the GA."
   ],
   "metadata": {
    "collapsed": false
   },
   "id": "9be576ae383c7a8f"
  },
  {
   "cell_type": "markdown",
   "source": [
    "# Define the problem"
   ],
   "metadata": {
    "collapsed": false
   },
   "id": "8cd93c81af5a0249"
  },
  {
   "cell_type": "code",
   "execution_count": 1,
   "outputs": [],
   "source": [
    "# Inputs of the equation.\n",
    "equation_inputs = [4.0,-2.0,3.5,5.0,-11.0,-4.7]\n",
    "# Number of the weights we are looking to optimize.\n",
    "num_weights = len(equation_inputs)"
   ],
   "metadata": {
    "collapsed": false,
    "ExecuteTime": {
     "end_time": "2023-09-30T19:04:58.744657Z",
     "start_time": "2023-09-30T19:04:58.548147Z"
    }
   },
   "id": "d2c9258c28355bd"
  },
  {
   "cell_type": "markdown",
   "source": [
    "# Define the initial population\n",
    "\n",
    "The next step is to define the initial population. Based on the number of weights, each chromosome (solution or individual) in the population will definitely have 6 genes, one gene for each weight. But the question is how many solutions per the population? There is no fixed value for that and we can select the value that fits well with our problem. But we could leave it generic so that it can be changed in the code. Next, we create a variable that holds the number of solutions per population, another to hold the size of the population, and finally, a variable that holds the actual initial population:"
   ],
   "metadata": {
    "collapsed": false
   },
   "id": "1652740beb17f685"
  },
  {
   "cell_type": "code",
   "execution_count": 2,
   "outputs": [],
   "source": [
    "import numpy as np\n",
    "\n",
    "sol_per_pop = 8\n",
    "num_parents_mating = 4\n",
    "\n",
    "# Defining the population size.\n",
    "pop_size = (sol_per_pop,num_weights) # The population will have sol_per_pop chromosome where each chromosome has num_weights genes.\n",
    "\n"
   ],
   "metadata": {
    "collapsed": false,
    "ExecuteTime": {
     "end_time": "2023-09-30T19:04:58.745613Z",
     "start_time": "2023-09-30T19:04:58.556250Z"
    }
   },
   "id": "e232648efc2e035d"
  },
  {
   "cell_type": "code",
   "execution_count": 2,
   "outputs": [],
   "source": [],
   "metadata": {
    "collapsed": false,
    "ExecuteTime": {
     "end_time": "2023-09-30T19:04:58.745718Z",
     "start_time": "2023-09-30T19:04:58.652135Z"
    }
   },
   "id": "bf23b856a7fa9b4"
  },
  {
   "cell_type": "markdown",
   "source": [
    "After preparing the population, next is to follow the flow above. Based on the fitness function, we are going to select the best individuals within the current population as parents for mating. Next is to apply the GA variants (crossover and mutation) to produce the offspring of the next generation, creating the new population by appending both parents and offspring, and repeating such steps for a number of iterations/generations. The next code applies these steps:"
   ],
   "metadata": {
    "collapsed": false
   },
   "id": "cdcfd36f1773b375"
  },
  {
   "cell_type": "code",
   "execution_count": 3,
   "outputs": [
    {
     "name": "stdout",
     "output_type": "stream",
     "text": [
      "Original Population\n",
      "[[-3.36189816  1.443035   -1.87922397 -1.01310624  2.10071723  1.2944376 ]\n",
      " [-2.45630851 -3.21119335  3.01205656  0.39614461  2.64728282 -1.55536111]\n",
      " [-2.63985981 -2.32455349  3.86586808 -3.35048819 -2.31201244 -1.10188453]\n",
      " [ 2.86240804 -3.75473581 -2.5392542   2.81199294  2.51651567 -2.09525064]\n",
      " [ 0.16488786 -0.62005365  0.59887182 -3.9501535  -3.37745615  1.92766125]\n",
      " [-1.14203984  1.40764744  3.5484671   2.77515678 -0.83169557 -2.45058719]\n",
      " [ 3.20147293  2.08958684 -2.36854265 -1.62113816 -0.95931306  0.62430007]\n",
      " [ 2.28315368 -1.07386453  0.57616301  1.75628052  0.6234017   1.97692737]]\n",
      "Best solution :  [[[   2.86240804   -3.75473581  289.82468701    2.77515678   -0.83169557\n",
      "   -330.49923632]]]\n",
      "Best solution fitness :  [2609.7163542]\n"
     ]
    },
    {
     "data": {
      "text/plain": "<Figure size 640x480 with 1 Axes>",
      "image/png": "[encoded data removed]"
     },
     "metadata": {},
     "output_type": "display_data"
    }
   ],
   "source": [
    "import ga as ga\n",
    "\n",
    "best_outputs = []\n",
    "num_generations = 1000\n",
    "\n",
    "#Creating the initial population.\n",
    "new_population = np.random.uniform(low=-4.0, high=4.0, size=pop_size)\n",
    "\n",
    "print(\"Original Population\")\n",
    "print(new_population)\n",
    "\n",
    "for generation in range(num_generations):\n",
    "    #print(\"Generation : \", generation)\n",
    "    # Measuring the fitness of each chromosome in the population.\n",
    "    fitness = ga.cal_pop_fitness(equation_inputs, new_population)\n",
    "    #print(\"Fitness : \", fitness)\n",
    "\n",
    "    best_outputs.append(np.max(np.sum(new_population*equation_inputs, axis=1)))\n",
    "    # The best result in the current iteration.\n",
    "    #print(\"Best result : \", np.max(np.sum(new_population*equation_inputs, axis=1)))\n",
    "    \n",
    "    # Selecting the best parents in the population for mating.\n",
    "    parents = ga.select_mating_pool(new_population, fitness, \n",
    "                                      num_parents_mating)\n",
    "    #print(\"Parents\")\n",
    "    #print(parents)\n",
    "\n",
    "    # Generating next generation using crossover.\n",
    "    offspring_crossover = ga.crossover(parents,\n",
    "                                       offspring_size=(pop_size[0]-parents.shape[0], num_weights))\n",
    "    #print(\"Crossover\")\n",
    "    #print(offspring_crossover)\n",
    "\n",
    "    # Adding some variations to the offspring using mutation.\n",
    "    offspring_mutation = ga.mutation(offspring_crossover, num_mutations=2)\n",
    "    #print(\"Mutation\")\n",
    "    #print(offspring_mutation)\n",
    "\n",
    "    # Creating the new population based on the parents and offspring.\n",
    "    new_population[0:parents.shape[0], :] = parents\n",
    "    new_population[parents.shape[0]:, :] = offspring_mutation\n",
    "    \n",
    "    # Print new population\n",
    "    #print(\"New Population\")\n",
    "    #print(new_population)\n",
    "\n",
    "    \n",
    "# Getting the best solution after iterating finishing all generations.\n",
    "#At first, the fitness is calculated for each solution in the final generation.\n",
    "fitness = ga.cal_pop_fitness(equation_inputs, new_population)\n",
    "# Then return the index of that solution corresponding to the best fitness.\n",
    "best_match_idx = np.where(fitness == np.max(fitness))\n",
    "\n",
    "print(\"Best solution : \", new_population[best_match_idx, :])\n",
    "print(\"Best solution fitness : \", fitness[best_match_idx])\n",
    "\n",
    "\n",
    "import matplotlib.pyplot\n",
    "matplotlib.pyplot.plot(best_outputs)\n",
    "matplotlib.pyplot.xlabel(\"Iteration\")\n",
    "matplotlib.pyplot.ylabel(\"Fitness\")\n",
    "matplotlib.pyplot.ylim(0)\n",
    "matplotlib.pyplot.show()\n",
    "\n"
   ],
   "metadata": {
    "collapsed": false,
    "ExecuteTime": {
     "end_time": "2023-09-30T19:04:59.489957Z",
     "start_time": "2023-09-30T19:04:58.662925Z"
    }
   },
   "id": "d0b98e06815d8052"
  },
  {
   "cell_type": "code",
   "execution_count": 3,
   "outputs": [],
   "source": [],
   "metadata": {
    "collapsed": false,
    "ExecuteTime": {
     "end_time": "2023-09-30T19:04:59.497974Z",
     "start_time": "2023-09-30T19:04:59.488298Z"
    }
   },
   "id": "5ca42f0750ae06f7"
  },
  {
   "cell_type": "code",
   "execution_count": 3,
   "outputs": [],
   "source": [],
   "metadata": {
    "collapsed": false,
    "ExecuteTime": {
     "end_time": "2023-09-30T19:04:59.498124Z",
     "start_time": "2023-09-30T19:04:59.492221Z"
    }
   },
   "id": "94e0353c621b19b3"
  },
  {
   "cell_type": "code",
   "execution_count": 3,
   "outputs": [],
   "source": [],
   "metadata": {
    "collapsed": false,
    "ExecuteTime": {
     "end_time": "2023-09-30T19:04:59.505269Z",
     "start_time": "2023-09-30T19:04:59.497401Z"
    }
   },
   "id": "298e6cf6e51d1fc"
  },
  {
   "cell_type": "code",
   "execution_count": 3,
   "outputs": [],
   "source": [],
   "metadata": {
    "collapsed": false,
    "ExecuteTime": {
     "end_time": "2023-09-30T19:04:59.560016Z",
     "start_time": "2023-09-30T19:04:59.502262Z"
    }
   },
   "id": "533580c263a3638d"
  },
  {
   "cell_type": "code",
   "execution_count": 3,
   "outputs": [],
   "source": [],
   "metadata": {
    "collapsed": false,
    "ExecuteTime": {
     "end_time": "2023-09-30T19:04:59.561030Z",
     "start_time": "2023-09-30T19:04:59.506220Z"
    }
   },
   "id": "bbd481715e1ffb18"
  },
  {
   "cell_type": "code",
   "execution_count": 3,
   "outputs": [],
   "source": [],
   "metadata": {
    "collapsed": false,
    "ExecuteTime": {
     "end_time": "2023-09-30T19:04:59.561160Z",
     "start_time": "2023-09-30T19:04:59.519162Z"
    }
   },
   "id": "d5826d9f72f8d8eb"
  }
 ],
 "metadata": {
  "kernelspec": {
   "display_name": "Python 3",
   "language": "python",
   "name": "python3"
  },
  "language_info": {
   "codemirror_mode": {
    "name": "ipython",
    "version": 2
   },
   "file_extension": ".py",
   "mimetype": "text/x-python",
   "name": "python",
   "nbconvert_exporter": "python",
   "pygments_lexer": "ipython2",
   "version": "2.7.6"
  }
 },
 "nbformat": 4,
 "nbformat_minor": 5
}
