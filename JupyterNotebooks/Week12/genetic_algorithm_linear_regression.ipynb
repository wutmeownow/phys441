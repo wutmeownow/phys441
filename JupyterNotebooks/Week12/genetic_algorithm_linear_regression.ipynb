{
 "cells": [
  {
   "cell_type": "code",
   "execution_count": 37,
   "id": "initial_id",
   "metadata": {
    "collapsed": true,
    "ExecuteTime": {
     "end_time": "2023-11-13T15:43:21.860435Z",
     "start_time": "2023-11-13T15:43:21.859732Z"
    }
   },
   "outputs": [],
   "source": [
    "from random import random, sample, choice\n",
    "from math import floor\n",
    "from tqdm import tqdm\n",
    "from numpy import array, dot, mean\n",
    "from numpy.linalg import pinv"
   ]
  },
  {
   "cell_type": "markdown",
   "source": [
    "# Genetic Algorithm for Multiple Linear Regression\n",
    "\n",
    "We have studied linear regression in the previous chapters. In this chapter, we will use a genetic algorithm to find the best fit for a multiple linear regression problem.\n",
    "\n",
    "## Problem Statement\n",
    "\n",
    "We will generate a dataset with four independent variables and one dependent variable. The independent variables will be generated randomly. The dependent variable will be generated using the following equation:\n",
    "\n",
    "$$y = 0.4x_1 - 0.3x_2 + 0.2x_3 - 0.1x_4$$"
   ],
   "metadata": {
    "collapsed": false
   },
   "id": "15501a9a54226768"
  },
  {
   "cell_type": "code",
   "execution_count": 38,
   "outputs": [],
   "source": [
    "# Generate data - 1000 data points with 4 independent variables\n",
    "#\n",
    "# x will be a 1000 x 4 matrix\n",
    "# y will be a 1000 x 1 matrix\n",
    "\n",
    "def generate_data(num_data_points=1000):\n",
    "    coeff = [0.4, -0.3, 0.2, -0.1]\n",
    "    x = [[random() for j in range(len(coeff))] for i in range(num_data_points)]\n",
    "    y = [dot(i, coeff) for i in x]\n",
    "    return array(x), array(y)"
   ],
   "metadata": {
    "collapsed": false,
    "ExecuteTime": {
     "end_time": "2023-11-13T15:43:23.472888Z",
     "start_time": "2023-11-13T15:43:23.423729Z"
    }
   },
   "id": "ef1f39b886e7e5cd"
  },
  {
   "cell_type": "markdown",
   "source": [
    "# Generating a coefficient of determination\n",
    "\n",
    "We want to compare the performance of the genetic algorithm with the best possible solution. We will use the coefficient of determination to compare the performance of the genetic algorithm with the best possible solution. The coefficient of determination is defined as:\n",
    "    \n",
    "$$COD = 1 - \\frac{SSR}{SST}$$\n",
    "\n",
    "where $SSR$ is the sum of squared residuals and $SST$ is the total sum of squares. The $SSR$ is defined as:\n",
    "\n",
    "$$SSR = \\sum_{i=1}^{n}(y_i - \\hat{y_i})^2$$\n",
    "\n",
    "where $y_i$ is the actual value of the dependent variable and $\\hat{y_i}$ is the predicted value of the dependent variable. The $SST$ is defined as:\n",
    "\n",
    "$$SST = \\sum_{i=1}^{n}(y_i - \\bar{y})^2$$\n",
    "\n",
    "where $\\bar{y}$ is the mean of the dependent variable."
   ],
   "metadata": {
    "collapsed": false
   },
   "id": "d821a9e34ce7f9b1"
  },
  {
   "cell_type": "code",
   "execution_count": 39,
   "outputs": [
    {
     "name": "stdout",
     "output_type": "stream",
     "text": [
      "{'COD': 100.0, 'coeff': array([ 0.4, -0.3,  0.2, -0.1]), 'error': 1.1712154761536559e-31}\n"
     ]
    }
   ],
   "source": [
    "# inputs is a 1000 x 4 matrix\n",
    "# outputs is a 1000 x 1 matrix\n",
    "#\n",
    "# These are the inputs and outputs generated in the previous step\n",
    "\n",
    "def multiple_linear_regression(inputs, outputs):\n",
    "    X, Y = array(inputs), array(outputs)\n",
    "    X_t, Y_t = X.transpose(), Y.transpose()\n",
    "    coeff = dot((pinv((dot(X_t, X)))), (dot(X_t, Y)))\n",
    "    Y_p = dot(X, coeff)\n",
    "    Y_mean = mean(Y)\n",
    "    SST = array([(i - Y_mean) ** 2 for i in Y]).sum()\n",
    "    SSR = array([(i - j) ** 2 for i, j in zip(Y, Y_p)]).sum()\n",
    "    COD = (1 - (SSR / SST)) * 100.0\n",
    "    av_error = (SSR / len(Y))\n",
    "    return {'COD': COD, 'coeff': coeff, 'error': av_error}\n",
    "\n",
    "# Test this function with the generated data\n",
    "\n",
    "inputs, outputs = generate_data()\n",
    "print(multiple_linear_regression(inputs, outputs))\n"
   ],
   "metadata": {
    "collapsed": false,
    "ExecuteTime": {
     "end_time": "2023-11-13T15:43:24.915505Z",
     "start_time": "2023-11-13T15:43:24.886922Z"
    }
   },
   "id": "b8a36373c1db566"
  },
  {
   "cell_type": "markdown",
   "source": [
    "# Terminating condition\n",
    "\n",
    "We will terminate the algorithm when the coefficient of determination is greater than 99.9% or when the maximum number of generations is reached."
   ],
   "metadata": {
    "collapsed": false
   },
   "id": "55acffc1c079ec3d"
  },
  {
   "cell_type": "code",
   "execution_count": 40,
   "outputs": [],
   "source": [
    "def check_termination_condition(best_individual):\n",
    "    if ((best_individual['COD'] >= 99.9)\n",
    "            or (generation_count == max_generations)):\n",
    "        return True\n",
    "    else:\n",
    "        return False"
   ],
   "metadata": {
    "collapsed": false,
    "ExecuteTime": {
     "end_time": "2023-11-13T15:43:26.155657Z",
     "start_time": "2023-11-13T15:43:26.150908Z"
    }
   },
   "id": "27f18ef6f33dc67e"
  },
  {
   "cell_type": "markdown",
   "source": [
    "# Creating an individual\n",
    "\n",
    "We will create an individual as a list of random numbers. The length of the list will be equal to the number of independent variables (4 in this case).\n",
    "\n",
    "An 'individual' is a potential solution to the problem. In this case, an individual is a set of coefficients for the multiple linear regression problem."
   ],
   "metadata": {
    "collapsed": false
   },
   "id": "8868fc0ed415d80f"
  },
  {
   "cell_type": "code",
   "execution_count": 41,
   "outputs": [
    {
     "name": "stdout",
     "output_type": "stream",
     "text": [
      "[0.726559972858926, 0.8489435008408955, 0.18333288175468854, 0.2650957246691381]\n"
     ]
    }
   ],
   "source": [
    "def create_individual(individual_size):\n",
    "    return [random() for i in range(individual_size)]\n",
    "\n",
    "# Twat this function\n",
    "\n",
    "individual_size_test = 4\n",
    "print(create_individual(individual_size_test))\n"
   ],
   "metadata": {
    "collapsed": false,
    "ExecuteTime": {
     "end_time": "2023-11-13T15:43:27.515370Z",
     "start_time": "2023-11-13T15:43:27.501176Z"
    }
   },
   "id": "ca0b8ec06a24e235"
  },
  {
   "cell_type": "markdown",
   "source": [
    "# Creating a population\n",
    "\n",
    "We will create a population as a list of individuals. The length of the list will be equal to the population size (1000 in this case).\n",
    "\n",
    "A 'population' is a collection of individuals. In this case, a population is a collection of possible sets of coefficients for the multiple linear regression problem."
   ],
   "metadata": {
    "collapsed": false
   },
   "id": "7038fac7c0444fd1"
  },
  {
   "cell_type": "code",
   "execution_count": 42,
   "outputs": [
    {
     "name": "stdout",
     "output_type": "stream",
     "text": [
      "[[0.336150347687028, 0.8296016633148237, 0.02217210111188639, 0.6891906025729413], [0.7105531358572809, 0.8398830637808755, 0.6665039054700508, 0.06527176757619568], [0.40814863410501323, 0.6146147031944521, 0.7909646137832319, 0.733381038511307]]\n"
     ]
    }
   ],
   "source": [
    "def create_population(individual_size, population_size):\n",
    "    return [create_individual(individual_size) for i in range(population_size)]\n",
    "\n",
    "# test this function\n",
    "\n",
    "individual_size_test = 4\n",
    "population_size_test = 3\n",
    "print(create_population(individual_size_test, population_size_test))"
   ],
   "metadata": {
    "collapsed": false,
    "ExecuteTime": {
     "end_time": "2023-11-13T15:43:28.668093Z",
     "start_time": "2023-11-13T15:43:28.651828Z"
    }
   },
   "id": "3ccbe484e56d0cd7"
  },
  {
   "cell_type": "markdown",
   "source": [
    "# Evaluating the fitness\n",
    "\n",
    "We will evaluate the fitness of an individual using the coefficient of determination. The fitness will be a dictionary with the following keys:\n",
    "\n",
    "- COD: The coefficient of determination\n",
    "- error: The average error"
   ],
   "metadata": {
    "collapsed": false
   },
   "id": "30b84c1b0f89ec1b"
  },
  {
   "cell_type": "code",
   "execution_count": 43,
   "outputs": [],
   "source": [
    "def get_fitness(individual, inputs):\n",
    "    predicted_outputs = dot(array(inputs), array(individual))\n",
    "    output_mean = mean(outputs)\n",
    "    SST = array(\n",
    "        [(i - output_mean) ** 2 for i in outputs]\n",
    "        ).sum()\n",
    "    SSR = array(\n",
    "        [(i - j) ** 2 for i, j in zip(outputs, predicted_outputs)]\n",
    "        ).sum()\n",
    "    COD = (1 - (SSR / SST)) * 100.0\n",
    "    average_error = (SSR / len(outputs))\n",
    "    return {'COD': COD, 'error': average_error, 'coeff': individual}\n"
   ],
   "metadata": {
    "collapsed": false,
    "ExecuteTime": {
     "end_time": "2023-11-13T15:43:30.204050Z",
     "start_time": "2023-11-13T15:43:30.186407Z"
    }
   },
   "id": "cb8c75ac999fcfe6"
  },
  {
   "cell_type": "markdown",
   "source": [
    "# Evaluating the (current) population\n",
    "\n",
    "We will evaluate the fitness of all the individuals in the population.\n",
    "\n",
    "The steps are as follows:\n",
    "\n",
    "- We will use the `get_fitness` function to evaluate the fitness of each individual in the population.  Remember that the `get_fitness` function returns a dictionary with the following keys:\n",
    "    - COD: The coefficient of determination\n",
    "    - error: The average error\n",
    "- So, we will get a list of dictionaries. We will sort this list based on the error. \n",
    "- The individuals with the least error will be the best individuals\n",
    "- We will store the best individual in a list called `best_individuals_stash`\n",
    "- We will return the best individuals (the individuals with the least error) as the output of this function ... we will use these individuals to create the next generation.  The variable called selection_size will determine the number of best individuals that will be returned."
   ],
   "metadata": {
    "collapsed": false
   },
   "id": "b9ae73153413fdff"
  },
  {
   "cell_type": "code",
   "execution_count": 44,
   "outputs": [],
   "source": [
    "# tqdm is used to display a progress bar\n",
    "\n",
    "def evaluate_population(population):\n",
    "    fitness_list = [get_fitness(individual, inputs)\n",
    "                    for individual in tqdm(population)]\n",
    "    error_list = sorted(fitness_list, key=lambda i: i['error'])\n",
    "    best_individuals = error_list[: selection_size]\n",
    "    best_individuals_stash.append(best_individuals[0]['coeff'])\n",
    "    print('Error: ', best_individuals[0]['error'],\n",
    "          'COD: ', best_individuals[0]['COD'])\n",
    "    return best_individuals"
   ],
   "metadata": {
    "collapsed": false,
    "ExecuteTime": {
     "end_time": "2023-11-13T15:43:32.030032Z",
     "start_time": "2023-11-13T15:43:32.018857Z"
    }
   },
   "id": "bd2d5c51f59aa1c"
  },
  {
   "cell_type": "markdown",
   "source": [
    "# Crossover and mutation\n",
    "\n",
    "We will use the following steps to create the next generation:\n",
    "\n",
    "- We will select two parents from the best individuals\n",
    "- We will create a child by randomly selecting half the genes from the first parent and the other half from the second parent\n",
    "-   We will mutate the child by randomly changing some of the genes\n",
    "-  We will repeat the above steps until we have the required number of children"
   ],
   "metadata": {
    "collapsed": false
   },
   "id": "b6a0e975f71d4b2f"
  },
  {
   "cell_type": "code",
   "execution_count": 45,
   "outputs": [],
   "source": [
    "def crossover(parent_1, parent_2):\n",
    "    child = {}\n",
    "    loci = [i for i in range(0, individual_size)]\n",
    "    loci_1 = sample(loci, floor(0.5*(individual_size)))\n",
    "    loci_2 = [i for i in loci if i not in loci_1]\n",
    "    chromosome_1 = [[i, parent_1['coeff'][i]] for i in loci_1]\n",
    "    chromosome_2 = [[i, parent_2['coeff'][i]] for i in loci_2]\n",
    "    child.update({key: value for (key, value) in chromosome_1})\n",
    "    child.update({key: value for (key, value) in chromosome_2})\n",
    "    return [child[i] for i in loci]"
   ],
   "metadata": {
    "collapsed": false,
    "ExecuteTime": {
     "end_time": "2023-11-13T15:43:33.538350Z",
     "start_time": "2023-11-13T15:43:33.524363Z"
    }
   },
   "id": "5528fc2bbb30d88d"
  },
  {
   "cell_type": "markdown",
   "source": [
    "# Mutation\n",
    "\n",
    "We will mutate the child by randomly changing some of the genes. The steps are as follows:\n",
    "\n",
    "- We will randomly select some genes to mutate\n",
    "- We will randomly change the value of the selected genes\n",
    "- We will return the mutated child"
   ],
   "metadata": {
    "collapsed": false
   },
   "id": "81f76a48b0bfc385"
  },
  {
   "cell_type": "code",
   "execution_count": 46,
   "outputs": [],
   "source": [
    "def mutate(individual):\n",
    "    loci = [i for i in range(0, individual_size)]\n",
    "    no_of_genes_mutated = floor(probability_of_gene_mutating*individual_size)\n",
    "    loci_to_mutate = sample(loci, no_of_genes_mutated)\n",
    "    for locus in loci_to_mutate:\n",
    "        gene_transform = choice([-1, 1])\n",
    "        change = gene_transform*random()\n",
    "        individual[locus] = individual[locus] + change\n",
    "    return individual"
   ],
   "metadata": {
    "collapsed": false,
    "ExecuteTime": {
     "end_time": "2023-11-13T15:43:35.113781Z",
     "start_time": "2023-11-13T15:43:35.102221Z"
    }
   },
   "id": "55770facf3b95639"
  },
  {
   "cell_type": "markdown",
   "source": [
    "# Creating the next generation\n",
    "\n",
    "We will create the next generation using the following steps:\n",
    "\n",
    "- We will select the best individuals from the current population\n",
    "- We will create a new population by crossing over the selected individuals\n",
    "- We will mutate some of the individuals in the new population\n",
    "- We will return the new population"
   ],
   "metadata": {
    "collapsed": false
   },
   "id": "c2f201ffb13079b8"
  },
  {
   "cell_type": "code",
   "execution_count": 47,
   "outputs": [],
   "source": [
    "def get_new_generation(selected_individuals):\n",
    "    parent_pairs = [sample(selected_individuals, 2)\n",
    "                    for i in range(population_size)]\n",
    "    offspring = [crossover(pair[0], pair[1]) for pair in parent_pairs]\n",
    "    offspring_indices = [i for i in range(population_size)]\n",
    "    offspring_to_mutate = sample(\n",
    "        offspring_indices,\n",
    "        floor(probability_of_individual_mutating*population_size)\n",
    "    )\n",
    "    mutated_offspring = [[i, mutate(offspring[i])]\n",
    "                         for i in offspring_to_mutate]\n",
    "    for child in mutated_offspring:\n",
    "        offspring[child[0]] = child[1]\n",
    "    return offspring"
   ],
   "metadata": {
    "collapsed": false,
    "ExecuteTime": {
     "end_time": "2023-11-13T15:43:36.727197Z",
     "start_time": "2023-11-13T15:43:36.710544Z"
    }
   },
   "id": "907e19c51108232c"
  },
  {
   "cell_type": "markdown",
   "source": [
    "# Main Program\n",
    "\n",
    "We will use the following steps to create the next generation:\n",
    "\n",
    "- We will create an initial population\n",
    "- We will set some parameters for the genetic algorithm: population size (1000), selection size (10% of population), maximum number of generations (100), probability of individual mutating (10%), and probability of gene mutating (25%)\n",
    "- We will run the genetic algorithm until the termination condition is met"
   ],
   "metadata": {
    "collapsed": false
   },
   "id": "93bee0d61d16a02b"
  },
  {
   "cell_type": "code",
   "execution_count": 48,
   "outputs": [
    {
     "name": "stdout",
     "output_type": "stream",
     "text": [
      "Generation:  0\n"
     ]
    },
    {
     "name": "stderr",
     "output_type": "stream",
     "text": [
      "100%|██████████| 1000/1000 [00:00<00:00, 1486.25it/s]\n"
     ]
    },
    {
     "name": "stdout",
     "output_type": "stream",
     "text": [
      "Error:  0.043889053754070165 COD:  -80.30512364441604\n",
      "Generation:  1\n"
     ]
    },
    {
     "name": "stderr",
     "output_type": "stream",
     "text": [
      "100%|██████████| 1000/1000 [00:00<00:00, 1530.29it/s]\n"
     ]
    },
    {
     "name": "stdout",
     "output_type": "stream",
     "text": [
      "Error:  0.01065633553500699 COD:  56.22161491559534\n",
      "Generation:  2\n"
     ]
    },
    {
     "name": "stderr",
     "output_type": "stream",
     "text": [
      "100%|██████████| 1000/1000 [00:00<00:00, 1512.66it/s]\n"
     ]
    },
    {
     "name": "stdout",
     "output_type": "stream",
     "text": [
      "Error:  0.006917151731005501 COD:  71.58293944739077\n",
      "Generation:  3\n"
     ]
    },
    {
     "name": "stderr",
     "output_type": "stream",
     "text": [
      "100%|██████████| 1000/1000 [00:00<00:00, 1505.38it/s]\n"
     ]
    },
    {
     "name": "stdout",
     "output_type": "stream",
     "text": [
      "Error:  0.0038685721815888475 COD:  84.1071218022321\n",
      "Generation:  4\n"
     ]
    },
    {
     "name": "stderr",
     "output_type": "stream",
     "text": [
      "100%|██████████| 1000/1000 [00:00<00:00, 1511.32it/s]\n"
     ]
    },
    {
     "name": "stdout",
     "output_type": "stream",
     "text": [
      "Error:  0.0023203436794480056 COD:  90.46755812133193\n",
      "Generation:  5\n"
     ]
    },
    {
     "name": "stderr",
     "output_type": "stream",
     "text": [
      "100%|██████████| 1000/1000 [00:00<00:00, 1495.53it/s]\n"
     ]
    },
    {
     "name": "stdout",
     "output_type": "stream",
     "text": [
      "Error:  0.001912595569100308 COD:  92.14266995819173\n",
      "Generation:  6\n"
     ]
    },
    {
     "name": "stderr",
     "output_type": "stream",
     "text": [
      "100%|██████████| 1000/1000 [00:00<00:00, 1504.09it/s]\n"
     ]
    },
    {
     "name": "stdout",
     "output_type": "stream",
     "text": [
      "Error:  0.0014939000795506044 COD:  93.86275584647812\n",
      "Generation:  7\n"
     ]
    },
    {
     "name": "stderr",
     "output_type": "stream",
     "text": [
      "100%|██████████| 1000/1000 [00:00<00:00, 1511.00it/s]\n"
     ]
    },
    {
     "name": "stdout",
     "output_type": "stream",
     "text": [
      "Error:  0.0007023119233588457 COD:  97.11476034804188\n",
      "Generation:  8\n"
     ]
    },
    {
     "name": "stderr",
     "output_type": "stream",
     "text": [
      "100%|██████████| 1000/1000 [00:00<00:00, 1502.28it/s]\n"
     ]
    },
    {
     "name": "stdout",
     "output_type": "stream",
     "text": [
      "Error:  0.0007023119233588457 COD:  97.11476034804188\n",
      "Generation:  9\n"
     ]
    },
    {
     "name": "stderr",
     "output_type": "stream",
     "text": [
      "100%|██████████| 1000/1000 [00:00<00:00, 1513.37it/s]\n"
     ]
    },
    {
     "name": "stdout",
     "output_type": "stream",
     "text": [
      "Error:  0.0007023119233588457 COD:  97.11476034804188\n",
      "Generation:  10\n"
     ]
    },
    {
     "name": "stderr",
     "output_type": "stream",
     "text": [
      "100%|██████████| 1000/1000 [00:00<00:00, 1486.89it/s]\n"
     ]
    },
    {
     "name": "stdout",
     "output_type": "stream",
     "text": [
      "Error:  0.0007023119233588457 COD:  97.11476034804188\n",
      "Generation:  11\n"
     ]
    },
    {
     "name": "stderr",
     "output_type": "stream",
     "text": [
      "100%|██████████| 1000/1000 [00:00<00:00, 1490.18it/s]\n"
     ]
    },
    {
     "name": "stdout",
     "output_type": "stream",
     "text": [
      "Error:  0.0007023119233588457 COD:  97.11476034804188\n",
      "Generation:  12\n"
     ]
    },
    {
     "name": "stderr",
     "output_type": "stream",
     "text": [
      "100%|██████████| 1000/1000 [00:00<00:00, 1510.33it/s]\n"
     ]
    },
    {
     "name": "stdout",
     "output_type": "stream",
     "text": [
      "Error:  0.0007023119233588457 COD:  97.11476034804188\n",
      "Generation:  13\n"
     ]
    },
    {
     "name": "stderr",
     "output_type": "stream",
     "text": [
      "100%|██████████| 1000/1000 [00:00<00:00, 1526.87it/s]\n"
     ]
    },
    {
     "name": "stdout",
     "output_type": "stream",
     "text": [
      "Error:  0.0006391815894017407 COD:  97.37411254856167\n",
      "Generation:  14\n"
     ]
    },
    {
     "name": "stderr",
     "output_type": "stream",
     "text": [
      "100%|██████████| 1000/1000 [00:00<00:00, 1515.88it/s]\n"
     ]
    },
    {
     "name": "stdout",
     "output_type": "stream",
     "text": [
      "Error:  0.0006391815894017407 COD:  97.37411254856167\n",
      "Generation:  15\n"
     ]
    },
    {
     "name": "stderr",
     "output_type": "stream",
     "text": [
      "100%|██████████| 1000/1000 [00:00<00:00, 1405.37it/s]\n"
     ]
    },
    {
     "name": "stdout",
     "output_type": "stream",
     "text": [
      "Error:  0.0006391815894017407 COD:  97.37411254856167\n",
      "Generation:  16\n"
     ]
    },
    {
     "name": "stderr",
     "output_type": "stream",
     "text": [
      "100%|██████████| 1000/1000 [00:00<00:00, 1449.61it/s]\n"
     ]
    },
    {
     "name": "stdout",
     "output_type": "stream",
     "text": [
      "Error:  0.0005394682575568668 COD:  97.78375511520323\n",
      "Generation:  17\n"
     ]
    },
    {
     "name": "stderr",
     "output_type": "stream",
     "text": [
      "100%|██████████| 1000/1000 [00:00<00:00, 1436.70it/s]\n"
     ]
    },
    {
     "name": "stdout",
     "output_type": "stream",
     "text": [
      "Error:  0.0005394682575568668 COD:  97.78375511520323\n",
      "Generation:  18\n"
     ]
    },
    {
     "name": "stderr",
     "output_type": "stream",
     "text": [
      "100%|██████████| 1000/1000 [00:00<00:00, 1471.69it/s]\n"
     ]
    },
    {
     "name": "stdout",
     "output_type": "stream",
     "text": [
      "Error:  0.0005394682575568668 COD:  97.78375511520323\n",
      "Generation:  19\n"
     ]
    },
    {
     "name": "stderr",
     "output_type": "stream",
     "text": [
      "100%|██████████| 1000/1000 [00:00<00:00, 1505.33it/s]\n"
     ]
    },
    {
     "name": "stdout",
     "output_type": "stream",
     "text": [
      "Error:  0.00015924161463548353 COD:  99.34580318871595\n",
      "Generation:  20\n"
     ]
    },
    {
     "name": "stderr",
     "output_type": "stream",
     "text": [
      "100%|██████████| 1000/1000 [00:00<00:00, 1524.90it/s]\n"
     ]
    },
    {
     "name": "stdout",
     "output_type": "stream",
     "text": [
      "Error:  0.00015924161463548353 COD:  99.34580318871595\n",
      "Generation:  21\n"
     ]
    },
    {
     "name": "stderr",
     "output_type": "stream",
     "text": [
      "100%|██████████| 1000/1000 [00:00<00:00, 1505.43it/s]\n"
     ]
    },
    {
     "name": "stdout",
     "output_type": "stream",
     "text": [
      "Error:  0.00015726733031985212 COD:  99.35391394862509\n",
      "Generation:  22\n"
     ]
    },
    {
     "name": "stderr",
     "output_type": "stream",
     "text": [
      "100%|██████████| 1000/1000 [00:00<00:00, 1500.16it/s]\n"
     ]
    },
    {
     "name": "stdout",
     "output_type": "stream",
     "text": [
      "Error:  0.00015726733031985212 COD:  99.35391394862509\n",
      "Generation:  23\n"
     ]
    },
    {
     "name": "stderr",
     "output_type": "stream",
     "text": [
      "100%|██████████| 1000/1000 [00:00<00:00, 1472.45it/s]\n"
     ]
    },
    {
     "name": "stdout",
     "output_type": "stream",
     "text": [
      "Error:  0.00015726733031985212 COD:  99.35391394862509\n",
      "Generation:  24\n"
     ]
    },
    {
     "name": "stderr",
     "output_type": "stream",
     "text": [
      "100%|██████████| 1000/1000 [00:00<00:00, 1508.22it/s]\n"
     ]
    },
    {
     "name": "stdout",
     "output_type": "stream",
     "text": [
      "Error:  0.00015726733031985212 COD:  99.35391394862509\n",
      "Generation:  25\n"
     ]
    },
    {
     "name": "stderr",
     "output_type": "stream",
     "text": [
      "100%|██████████| 1000/1000 [00:00<00:00, 1483.33it/s]\n"
     ]
    },
    {
     "name": "stdout",
     "output_type": "stream",
     "text": [
      "Error:  0.00015726733031985212 COD:  99.35391394862509\n",
      "Generation:  26\n"
     ]
    },
    {
     "name": "stderr",
     "output_type": "stream",
     "text": [
      "100%|██████████| 1000/1000 [00:00<00:00, 1498.26it/s]\n"
     ]
    },
    {
     "name": "stdout",
     "output_type": "stream",
     "text": [
      "Error:  0.00015726733031985212 COD:  99.35391394862509\n",
      "Generation:  27\n"
     ]
    },
    {
     "name": "stderr",
     "output_type": "stream",
     "text": [
      "100%|██████████| 1000/1000 [00:00<00:00, 1466.88it/s]\n"
     ]
    },
    {
     "name": "stdout",
     "output_type": "stream",
     "text": [
      "Error:  0.00015726733031985212 COD:  99.35391394862509\n",
      "Generation:  28\n"
     ]
    },
    {
     "name": "stderr",
     "output_type": "stream",
     "text": [
      "100%|██████████| 1000/1000 [00:00<00:00, 1495.31it/s]\n"
     ]
    },
    {
     "name": "stdout",
     "output_type": "stream",
     "text": [
      "Error:  0.00015726733031985212 COD:  99.35391394862509\n",
      "Generation:  29\n"
     ]
    },
    {
     "name": "stderr",
     "output_type": "stream",
     "text": [
      "100%|██████████| 1000/1000 [00:00<00:00, 1488.02it/s]\n"
     ]
    },
    {
     "name": "stdout",
     "output_type": "stream",
     "text": [
      "Error:  0.00015726733031985212 COD:  99.35391394862509\n",
      "Generation:  30\n"
     ]
    },
    {
     "name": "stderr",
     "output_type": "stream",
     "text": [
      "100%|██████████| 1000/1000 [00:00<00:00, 1441.28it/s]\n"
     ]
    },
    {
     "name": "stdout",
     "output_type": "stream",
     "text": [
      "Error:  0.00015726733031985212 COD:  99.35391394862509\n",
      "Generation:  31\n"
     ]
    },
    {
     "name": "stderr",
     "output_type": "stream",
     "text": [
      "100%|██████████| 1000/1000 [00:00<00:00, 1454.49it/s]\n"
     ]
    },
    {
     "name": "stdout",
     "output_type": "stream",
     "text": [
      "Error:  0.00015726733031985212 COD:  99.35391394862509\n",
      "Generation:  32\n"
     ]
    },
    {
     "name": "stderr",
     "output_type": "stream",
     "text": [
      "100%|██████████| 1000/1000 [00:00<00:00, 1501.03it/s]\n"
     ]
    },
    {
     "name": "stdout",
     "output_type": "stream",
     "text": [
      "Error:  0.00015726733031985212 COD:  99.35391394862509\n",
      "Generation:  33\n"
     ]
    },
    {
     "name": "stderr",
     "output_type": "stream",
     "text": [
      "100%|██████████| 1000/1000 [00:00<00:00, 1507.51it/s]\n"
     ]
    },
    {
     "name": "stdout",
     "output_type": "stream",
     "text": [
      "Error:  0.00015726733031985212 COD:  99.35391394862509\n",
      "Generation:  34\n"
     ]
    },
    {
     "name": "stderr",
     "output_type": "stream",
     "text": [
      "100%|██████████| 1000/1000 [00:00<00:00, 1503.04it/s]\n"
     ]
    },
    {
     "name": "stdout",
     "output_type": "stream",
     "text": [
      "Error:  0.00015726733031985212 COD:  99.35391394862509\n",
      "Generation:  35\n"
     ]
    },
    {
     "name": "stderr",
     "output_type": "stream",
     "text": [
      "100%|██████████| 1000/1000 [00:00<00:00, 1503.57it/s]\n"
     ]
    },
    {
     "name": "stdout",
     "output_type": "stream",
     "text": [
      "Error:  0.00015726733031985212 COD:  99.35391394862509\n",
      "Generation:  36\n"
     ]
    },
    {
     "name": "stderr",
     "output_type": "stream",
     "text": [
      "100%|██████████| 1000/1000 [00:00<00:00, 1520.91it/s]\n"
     ]
    },
    {
     "name": "stdout",
     "output_type": "stream",
     "text": [
      "Error:  0.00015726733031985212 COD:  99.35391394862509\n",
      "Generation:  37\n"
     ]
    },
    {
     "name": "stderr",
     "output_type": "stream",
     "text": [
      "100%|██████████| 1000/1000 [00:00<00:00, 1441.52it/s]\n"
     ]
    },
    {
     "name": "stdout",
     "output_type": "stream",
     "text": [
      "Error:  0.00015726733031985212 COD:  99.35391394862509\n",
      "Generation:  38\n"
     ]
    },
    {
     "name": "stderr",
     "output_type": "stream",
     "text": [
      "100%|██████████| 1000/1000 [00:00<00:00, 1488.23it/s]\n"
     ]
    },
    {
     "name": "stdout",
     "output_type": "stream",
     "text": [
      "Error:  0.00012098016365750985 COD:  99.50298898014482\n",
      "Generation:  39\n"
     ]
    },
    {
     "name": "stderr",
     "output_type": "stream",
     "text": [
      "100%|██████████| 1000/1000 [00:00<00:00, 1516.83it/s]\n"
     ]
    },
    {
     "name": "stdout",
     "output_type": "stream",
     "text": [
      "Error:  0.00012098016365750985 COD:  99.50298898014482\n",
      "Generation:  40\n"
     ]
    },
    {
     "name": "stderr",
     "output_type": "stream",
     "text": [
      "100%|██████████| 1000/1000 [00:00<00:00, 1435.10it/s]\n"
     ]
    },
    {
     "name": "stdout",
     "output_type": "stream",
     "text": [
      "Error:  0.00012098016365750985 COD:  99.50298898014482\n",
      "Generation:  41\n"
     ]
    },
    {
     "name": "stderr",
     "output_type": "stream",
     "text": [
      "100%|██████████| 1000/1000 [00:00<00:00, 1498.76it/s]\n"
     ]
    },
    {
     "name": "stdout",
     "output_type": "stream",
     "text": [
      "Error:  0.00011423239105639205 COD:  99.5307101969199\n",
      "Generation:  42\n"
     ]
    },
    {
     "name": "stderr",
     "output_type": "stream",
     "text": [
      "100%|██████████| 1000/1000 [00:00<00:00, 1495.29it/s]\n"
     ]
    },
    {
     "name": "stdout",
     "output_type": "stream",
     "text": [
      "Error:  0.00011423239105639205 COD:  99.5307101969199\n",
      "Generation:  43\n"
     ]
    },
    {
     "name": "stderr",
     "output_type": "stream",
     "text": [
      "100%|██████████| 1000/1000 [00:00<00:00, 1479.61it/s]\n"
     ]
    },
    {
     "name": "stdout",
     "output_type": "stream",
     "text": [
      "Error:  0.00011423239105639205 COD:  99.5307101969199\n",
      "Generation:  44\n"
     ]
    },
    {
     "name": "stderr",
     "output_type": "stream",
     "text": [
      "100%|██████████| 1000/1000 [00:00<00:00, 1485.45it/s]\n"
     ]
    },
    {
     "name": "stdout",
     "output_type": "stream",
     "text": [
      "Error:  7.784637501385753e-05 COD:  99.68019132171786\n",
      "Generation:  45\n"
     ]
    },
    {
     "name": "stderr",
     "output_type": "stream",
     "text": [
      "100%|██████████| 1000/1000 [00:00<00:00, 1472.67it/s]\n"
     ]
    },
    {
     "name": "stdout",
     "output_type": "stream",
     "text": [
      "Error:  7.1282520493407e-05 COD:  99.70715696576035\n",
      "Generation:  46\n"
     ]
    },
    {
     "name": "stderr",
     "output_type": "stream",
     "text": [
      "100%|██████████| 1000/1000 [00:00<00:00, 1451.41it/s]\n"
     ]
    },
    {
     "name": "stdout",
     "output_type": "stream",
     "text": [
      "Error:  6.828476431260761e-05 COD:  99.71947235542136\n",
      "Generation:  47\n"
     ]
    },
    {
     "name": "stderr",
     "output_type": "stream",
     "text": [
      "100%|██████████| 1000/1000 [00:00<00:00, 1509.62it/s]\n"
     ]
    },
    {
     "name": "stdout",
     "output_type": "stream",
     "text": [
      "Error:  4.001834747545355e-05 COD:  99.83559652185625\n",
      "Generation:  48\n"
     ]
    },
    {
     "name": "stderr",
     "output_type": "stream",
     "text": [
      "100%|██████████| 1000/1000 [00:00<00:00, 1475.79it/s]\n"
     ]
    },
    {
     "name": "stdout",
     "output_type": "stream",
     "text": [
      "Error:  4.001834747545355e-05 COD:  99.83559652185625\n",
      "Generation:  49\n"
     ]
    },
    {
     "name": "stderr",
     "output_type": "stream",
     "text": [
      "100%|██████████| 1000/1000 [00:00<00:00, 1480.86it/s]\n"
     ]
    },
    {
     "name": "stdout",
     "output_type": "stream",
     "text": [
      "Error:  4.001834747545355e-05 COD:  99.83559652185625\n",
      "Generation:  50\n"
     ]
    },
    {
     "name": "stderr",
     "output_type": "stream",
     "text": [
      "100%|██████████| 1000/1000 [00:00<00:00, 1477.91it/s]\n"
     ]
    },
    {
     "name": "stdout",
     "output_type": "stream",
     "text": [
      "Error:  4.001834747545355e-05 COD:  99.83559652185625\n",
      "Generation:  51\n"
     ]
    },
    {
     "name": "stderr",
     "output_type": "stream",
     "text": [
      "100%|██████████| 1000/1000 [00:00<00:00, 1493.05it/s]\n"
     ]
    },
    {
     "name": "stdout",
     "output_type": "stream",
     "text": [
      "Error:  4.001834747545355e-05 COD:  99.83559652185625\n",
      "Generation:  52\n"
     ]
    },
    {
     "name": "stderr",
     "output_type": "stream",
     "text": [
      "100%|██████████| 1000/1000 [00:00<00:00, 1467.11it/s]\n"
     ]
    },
    {
     "name": "stdout",
     "output_type": "stream",
     "text": [
      "Error:  4.001834747545355e-05 COD:  99.83559652185625\n",
      "Generation:  53\n"
     ]
    },
    {
     "name": "stderr",
     "output_type": "stream",
     "text": [
      "100%|██████████| 1000/1000 [00:00<00:00, 1449.88it/s]\n"
     ]
    },
    {
     "name": "stdout",
     "output_type": "stream",
     "text": [
      "Error:  3.129807459192248e-05 COD:  99.8714211693706\n",
      "Generation:  54\n"
     ]
    },
    {
     "name": "stderr",
     "output_type": "stream",
     "text": [
      "100%|██████████| 1000/1000 [00:00<00:00, 1526.48it/s]\n"
     ]
    },
    {
     "name": "stdout",
     "output_type": "stream",
     "text": [
      "Error:  3.129807459192248e-05 COD:  99.8714211693706\n",
      "Generation:  55\n"
     ]
    },
    {
     "name": "stderr",
     "output_type": "stream",
     "text": [
      "100%|██████████| 1000/1000 [00:00<00:00, 1439.38it/s]\n"
     ]
    },
    {
     "name": "stdout",
     "output_type": "stream",
     "text": [
      "Error:  3.129807459192248e-05 COD:  99.8714211693706\n",
      "Generation:  56\n"
     ]
    },
    {
     "name": "stderr",
     "output_type": "stream",
     "text": [
      "100%|██████████| 1000/1000 [00:00<00:00, 1470.95it/s]\n"
     ]
    },
    {
     "name": "stdout",
     "output_type": "stream",
     "text": [
      "Error:  3.129807459192248e-05 COD:  99.8714211693706\n",
      "Generation:  57\n"
     ]
    },
    {
     "name": "stderr",
     "output_type": "stream",
     "text": [
      "100%|██████████| 1000/1000 [00:00<00:00, 1501.42it/s]\n"
     ]
    },
    {
     "name": "stdout",
     "output_type": "stream",
     "text": [
      "Error:  3.129807459192248e-05 COD:  99.8714211693706\n",
      "Generation:  58\n"
     ]
    },
    {
     "name": "stderr",
     "output_type": "stream",
     "text": [
      "100%|██████████| 1000/1000 [00:00<00:00, 1487.18it/s]\n"
     ]
    },
    {
     "name": "stdout",
     "output_type": "stream",
     "text": [
      "Error:  3.129807459192248e-05 COD:  99.8714211693706\n",
      "Generation:  59\n"
     ]
    },
    {
     "name": "stderr",
     "output_type": "stream",
     "text": [
      "100%|██████████| 1000/1000 [00:00<00:00, 1505.50it/s]\n"
     ]
    },
    {
     "name": "stdout",
     "output_type": "stream",
     "text": [
      "Error:  2.970001406781938e-05 COD:  99.87798632573065\n",
      "Generation:  60\n"
     ]
    },
    {
     "name": "stderr",
     "output_type": "stream",
     "text": [
      "100%|██████████| 1000/1000 [00:00<00:00, 1487.55it/s]\n"
     ]
    },
    {
     "name": "stdout",
     "output_type": "stream",
     "text": [
      "Error:  2.970001406781938e-05 COD:  99.87798632573065\n",
      "Generation:  61\n"
     ]
    },
    {
     "name": "stderr",
     "output_type": "stream",
     "text": [
      "100%|██████████| 1000/1000 [00:00<00:00, 1445.58it/s]\n"
     ]
    },
    {
     "name": "stdout",
     "output_type": "stream",
     "text": [
      "Error:  1.5370266380925453e-05 COD:  99.93685583207628\n",
      "Generation:  62\n"
     ]
    },
    {
     "name": "stderr",
     "output_type": "stream",
     "text": [
      "100%|██████████| 1000/1000 [00:00<00:00, 1439.70it/s]"
     ]
    },
    {
     "name": "stdout",
     "output_type": "stream",
     "text": [
      "Error:  1.5370266380925453e-05 COD:  99.93685583207628\n",
      "{'COD': 99.93685583207628, 'error': 1.5370266380925453e-05, 'coeff': [0.4047252278048127, -0.2979875966258534, 0.20430589547127287, -0.10493415026627206]}\n"
     ]
    },
    {
     "name": "stderr",
     "output_type": "stream",
     "text": [
      "\n"
     ]
    }
   ],
   "source": [
    "# Generate initial population\n",
    "inputs, outputs = generate_data()\n",
    "\n",
    "# Set parameters\n",
    "individual_size = len(inputs[0])\n",
    "population_size = 1000\n",
    "selection_size = floor(0.1*population_size)\n",
    "max_generations = 100\n",
    "probability_of_individual_mutating = 0.1\n",
    "probability_of_gene_mutating = 0.25\n",
    "\n",
    "# Run the genetic algorithm\n",
    "best_possible = multiple_linear_regression(inputs, outputs)\n",
    "best_individuals_stash = [create_individual(individual_size)]\n",
    "initial_population = create_population(individual_size, 1000)\n",
    "current_population = initial_population\n",
    "termination = False\n",
    "generation_count = 0\n",
    "while termination is False:\n",
    "    current_best_individual = get_fitness(best_individuals_stash[-1], inputs)\n",
    "    print('Generation: ', generation_count)\n",
    "    best_individuals = evaluate_population(current_population)\n",
    "    current_population = get_new_generation(best_individuals)\n",
    "    termination = check_termination_condition(current_best_individual)\n",
    "    generation_count += 1\n",
    "else:\n",
    "    print(get_fitness(best_individuals_stash[-1], inputs))"
   ],
   "metadata": {
    "collapsed": false,
    "ExecuteTime": {
     "end_time": "2023-11-13T15:44:21.493363Z",
     "start_time": "2023-11-13T15:43:38.222212Z"
    }
   },
   "id": "e37f4753ddb93358"
  },
  {
   "cell_type": "code",
   "execution_count": 12,
   "outputs": [],
   "source": [],
   "metadata": {
    "collapsed": false,
    "ExecuteTime": {
     "end_time": "2023-09-30T20:59:57.962821Z",
     "start_time": "2023-09-30T20:59:57.956416Z"
    }
   },
   "id": "cfa8d534fa22c16"
  }
 ],
 "metadata": {
  "kernelspec": {
   "display_name": "Python 3",
   "language": "python",
   "name": "python3"
  },
  "language_info": {
   "codemirror_mode": {
    "name": "ipython",
    "version": 2
   },
   "file_extension": ".py",
   "mimetype": "text/x-python",
   "name": "python",
   "nbconvert_exporter": "python",
   "pygments_lexer": "ipython2",
   "version": "2.7.6"
  }
 },
 "nbformat": 4,
 "nbformat_minor": 5
}
