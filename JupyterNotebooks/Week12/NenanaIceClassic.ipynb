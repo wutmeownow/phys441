{
 "cells": [
  {
   "cell_type": "markdown",
   "metadata": {
    "id": "64zJp0WogpDc"
   },
   "source": [
    "# Nenana Ice Classic\n",
    "\n"
   ]
  },
  {
   "cell_type": "code",
   "execution_count": 9,
   "metadata": {
    "id": "xd-3W5GjgpDe",
    "ExecuteTime": {
     "end_time": "2023-11-09T15:21:25.801869Z",
     "start_time": "2023-11-09T15:21:21.988329Z"
    }
   },
   "outputs": [
    {
     "name": "stdout",
     "output_type": "stream",
     "text": [
      "\u001B[33mWARNING: Skipping /usr/local/lib/python3.11/site-packages/docutils-0.20.1-py3.11.egg-info due to invalid metadata entry 'name'\u001B[0m\u001B[33m\r\n",
      "\u001B[0m\u001B[33mWARNING: Skipping /usr/local/lib/python3.11/site-packages/docutils-0.20.1-py3.11.egg-info due to invalid metadata entry 'name'\u001B[0m\u001B[33m\r\n",
      "\u001B[0m\u001B[33mWARNING: Skipping /usr/local/lib/python3.11/site-packages/numpy-1.25.1-py3.11.egg-info due to invalid metadata entry 'name'\u001B[0m\u001B[33m\r\n",
      "\u001B[0mRequirement already satisfied: astropy in /usr/local/lib/python3.11/site-packages (5.3.4)\r\n",
      "Requirement already satisfied: numpy<2,>=1.21 in /usr/local/lib/python3.11/site-packages (from astropy) (1.24.3)\r\n",
      "Requirement already satisfied: pyerfa>=2.0 in /usr/local/lib/python3.11/site-packages (from astropy) (2.0.1.1)\r\n",
      "Requirement already satisfied: PyYAML>=3.13 in /usr/local/lib/python3.11/site-packages (from astropy) (6.0)\r\n",
      "Requirement already satisfied: packaging>=19.0 in /usr/local/lib/python3.11/site-packages (from astropy) (23.1)\r\n",
      "\u001B[33mWARNING: Skipping /usr/local/lib/python3.11/site-packages/docutils-0.20.1-py3.11.egg-info due to invalid metadata entry 'name'\u001B[0m\u001B[33m\r\n",
      "\u001B[0m\u001B[33mWARNING: Skipping /usr/local/lib/python3.11/site-packages/numpy-1.25.1-py3.11.egg-info due to invalid metadata entry 'name'\u001B[0m\u001B[33m\r\n",
      "\u001B[0m\u001B[33mWARNING: Skipping /usr/local/lib/python3.11/site-packages/docutils-0.20.1-py3.11.egg-info due to invalid metadata entry 'name'\u001B[0m\u001B[33m\r\n",
      "\u001B[0m\u001B[33mWARNING: Skipping /usr/local/lib/python3.11/site-packages/docutils-0.20.1-py3.11.egg-info due to invalid metadata entry 'name'\u001B[0m\u001B[33m\r\n",
      "\u001B[0m\u001B[33mWARNING: Skipping /usr/local/lib/python3.11/site-packages/docutils-0.20.1-py3.11.egg-info due to invalid metadata entry 'name'\u001B[0m\u001B[33m\r\n",
      "\u001B[0m\r\n",
      "\u001B[1m[\u001B[0m\u001B[34;49mnotice\u001B[0m\u001B[1;39;49m]\u001B[0m\u001B[39;49m A new release of pip is available: \u001B[0m\u001B[31;49m23.2.1\u001B[0m\u001B[39;49m -> \u001B[0m\u001B[32;49m23.3.1\u001B[0m\r\n",
      "\u001B[1m[\u001B[0m\u001B[34;49mnotice\u001B[0m\u001B[1;39;49m]\u001B[0m\u001B[39;49m To update, run: \u001B[0m\u001B[32;49mpython3.11 -m pip install --upgrade pip\u001B[0m\r\n"
     ]
    }
   ],
   "source": [
    "import pandas as pd\n",
    "import matplotlib.pyplot as plt\n",
    "!pip install astropy"
   ]
  },
  {
   "cell_type": "code",
   "execution_count": 9,
   "metadata": {
    "id": "anXEG1ArgpDf",
    "ExecuteTime": {
     "end_time": "2023-11-09T15:21:25.811631Z",
     "start_time": "2023-11-09T15:21:25.804849Z"
    }
   },
   "outputs": [],
   "source": []
  },
  {
   "cell_type": "code",
   "execution_count": 10,
   "metadata": {
    "id": "I4PCdIiEgpDf",
    "outputId": "78237428-8c8c-42e0-d791-eebf1d764d24",
    "colab": {
     "base_uri": "https://localhost:8080/",
     "height": 586
    },
    "ExecuteTime": {
     "end_time": "2023-11-09T15:21:27.651465Z",
     "start_time": "2023-11-09T15:21:27.422531Z"
    }
   },
   "outputs": [
    {
     "name": "stderr",
     "output_type": "stream",
     "text": [
      "/var/folders/d9/ngkc_5vd72jcm31m7dcphclh0000gn/T/ipykernel_31732/3504652586.py:6: SettingWithCopyWarning: \n",
      "A value is trying to be set on a copy of a slice from a DataFrame\n",
      "\n",
      "See the caveats in the documentation: https://pandas.pydata.org/pandas-docs/stable/user_guide/indexing.html#returning-a-view-versus-a-copy\n",
      "  df['DayOfYear'][i]=31+28+31+df['Day'][i]\n",
      "/var/folders/d9/ngkc_5vd72jcm31m7dcphclh0000gn/T/ipykernel_31732/3504652586.py:6: SettingWithCopyWarning: \n",
      "A value is trying to be set on a copy of a slice from a DataFrame\n",
      "\n",
      "See the caveats in the documentation: https://pandas.pydata.org/pandas-docs/stable/user_guide/indexing.html#returning-a-view-versus-a-copy\n",
      "  df['DayOfYear'][i]=31+28+31+df['Day'][i]\n",
      "/var/folders/d9/ngkc_5vd72jcm31m7dcphclh0000gn/T/ipykernel_31732/3504652586.py:6: SettingWithCopyWarning: \n",
      "A value is trying to be set on a copy of a slice from a DataFrame\n",
      "\n",
      "See the caveats in the documentation: https://pandas.pydata.org/pandas-docs/stable/user_guide/indexing.html#returning-a-view-versus-a-copy\n",
      "  df['DayOfYear'][i]=31+28+31+df['Day'][i]\n",
      "/var/folders/d9/ngkc_5vd72jcm31m7dcphclh0000gn/T/ipykernel_31732/3504652586.py:6: SettingWithCopyWarning: \n",
      "A value is trying to be set on a copy of a slice from a DataFrame\n",
      "\n",
      "See the caveats in the documentation: https://pandas.pydata.org/pandas-docs/stable/user_guide/indexing.html#returning-a-view-versus-a-copy\n",
      "  df['DayOfYear'][i]=31+28+31+df['Day'][i]\n",
      "/var/folders/d9/ngkc_5vd72jcm31m7dcphclh0000gn/T/ipykernel_31732/3504652586.py:6: SettingWithCopyWarning: \n",
      "A value is trying to be set on a copy of a slice from a DataFrame\n",
      "\n",
      "See the caveats in the documentation: https://pandas.pydata.org/pandas-docs/stable/user_guide/indexing.html#returning-a-view-versus-a-copy\n",
      "  df['DayOfYear'][i]=31+28+31+df['Day'][i]\n",
      "/var/folders/d9/ngkc_5vd72jcm31m7dcphclh0000gn/T/ipykernel_31732/3504652586.py:6: SettingWithCopyWarning: \n",
      "A value is trying to be set on a copy of a slice from a DataFrame\n",
      "\n",
      "See the caveats in the documentation: https://pandas.pydata.org/pandas-docs/stable/user_guide/indexing.html#returning-a-view-versus-a-copy\n",
      "  df['DayOfYear'][i]=31+28+31+df['Day'][i]\n",
      "/var/folders/d9/ngkc_5vd72jcm31m7dcphclh0000gn/T/ipykernel_31732/3504652586.py:6: SettingWithCopyWarning: \n",
      "A value is trying to be set on a copy of a slice from a DataFrame\n",
      "\n",
      "See the caveats in the documentation: https://pandas.pydata.org/pandas-docs/stable/user_guide/indexing.html#returning-a-view-versus-a-copy\n",
      "  df['DayOfYear'][i]=31+28+31+df['Day'][i]\n",
      "/var/folders/d9/ngkc_5vd72jcm31m7dcphclh0000gn/T/ipykernel_31732/3504652586.py:6: SettingWithCopyWarning: \n",
      "A value is trying to be set on a copy of a slice from a DataFrame\n",
      "\n",
      "See the caveats in the documentation: https://pandas.pydata.org/pandas-docs/stable/user_guide/indexing.html#returning-a-view-versus-a-copy\n",
      "  df['DayOfYear'][i]=31+28+31+df['Day'][i]\n",
      "/var/folders/d9/ngkc_5vd72jcm31m7dcphclh0000gn/T/ipykernel_31732/3504652586.py:6: SettingWithCopyWarning: \n",
      "A value is trying to be set on a copy of a slice from a DataFrame\n",
      "\n",
      "See the caveats in the documentation: https://pandas.pydata.org/pandas-docs/stable/user_guide/indexing.html#returning-a-view-versus-a-copy\n",
      "  df['DayOfYear'][i]=31+28+31+df['Day'][i]\n",
      "/var/folders/d9/ngkc_5vd72jcm31m7dcphclh0000gn/T/ipykernel_31732/3504652586.py:6: SettingWithCopyWarning: \n",
      "A value is trying to be set on a copy of a slice from a DataFrame\n",
      "\n",
      "See the caveats in the documentation: https://pandas.pydata.org/pandas-docs/stable/user_guide/indexing.html#returning-a-view-versus-a-copy\n",
      "  df['DayOfYear'][i]=31+28+31+df['Day'][i]\n",
      "/var/folders/d9/ngkc_5vd72jcm31m7dcphclh0000gn/T/ipykernel_31732/3504652586.py:6: SettingWithCopyWarning: \n",
      "A value is trying to be set on a copy of a slice from a DataFrame\n",
      "\n",
      "See the caveats in the documentation: https://pandas.pydata.org/pandas-docs/stable/user_guide/indexing.html#returning-a-view-versus-a-copy\n",
      "  df['DayOfYear'][i]=31+28+31+df['Day'][i]\n",
      "/var/folders/d9/ngkc_5vd72jcm31m7dcphclh0000gn/T/ipykernel_31732/3504652586.py:6: SettingWithCopyWarning: \n",
      "A value is trying to be set on a copy of a slice from a DataFrame\n",
      "\n",
      "See the caveats in the documentation: https://pandas.pydata.org/pandas-docs/stable/user_guide/indexing.html#returning-a-view-versus-a-copy\n",
      "  df['DayOfYear'][i]=31+28+31+df['Day'][i]\n",
      "/var/folders/d9/ngkc_5vd72jcm31m7dcphclh0000gn/T/ipykernel_31732/3504652586.py:6: SettingWithCopyWarning: \n",
      "A value is trying to be set on a copy of a slice from a DataFrame\n",
      "\n",
      "See the caveats in the documentation: https://pandas.pydata.org/pandas-docs/stable/user_guide/indexing.html#returning-a-view-versus-a-copy\n",
      "  df['DayOfYear'][i]=31+28+31+df['Day'][i]\n",
      "/var/folders/d9/ngkc_5vd72jcm31m7dcphclh0000gn/T/ipykernel_31732/3504652586.py:6: SettingWithCopyWarning: \n",
      "A value is trying to be set on a copy of a slice from a DataFrame\n",
      "\n",
      "See the caveats in the documentation: https://pandas.pydata.org/pandas-docs/stable/user_guide/indexing.html#returning-a-view-versus-a-copy\n",
      "  df['DayOfYear'][i]=31+28+31+df['Day'][i]\n",
      "/var/folders/d9/ngkc_5vd72jcm31m7dcphclh0000gn/T/ipykernel_31732/3504652586.py:6: SettingWithCopyWarning: \n",
      "A value is trying to be set on a copy of a slice from a DataFrame\n",
      "\n",
      "See the caveats in the documentation: https://pandas.pydata.org/pandas-docs/stable/user_guide/indexing.html#returning-a-view-versus-a-copy\n",
      "  df['DayOfYear'][i]=31+28+31+df['Day'][i]\n",
      "/var/folders/d9/ngkc_5vd72jcm31m7dcphclh0000gn/T/ipykernel_31732/3504652586.py:6: SettingWithCopyWarning: \n",
      "A value is trying to be set on a copy of a slice from a DataFrame\n",
      "\n",
      "See the caveats in the documentation: https://pandas.pydata.org/pandas-docs/stable/user_guide/indexing.html#returning-a-view-versus-a-copy\n",
      "  df['DayOfYear'][i]=31+28+31+df['Day'][i]\n",
      "/var/folders/d9/ngkc_5vd72jcm31m7dcphclh0000gn/T/ipykernel_31732/3504652586.py:6: SettingWithCopyWarning: \n",
      "A value is trying to be set on a copy of a slice from a DataFrame\n",
      "\n",
      "See the caveats in the documentation: https://pandas.pydata.org/pandas-docs/stable/user_guide/indexing.html#returning-a-view-versus-a-copy\n",
      "  df['DayOfYear'][i]=31+28+31+df['Day'][i]\n",
      "/var/folders/d9/ngkc_5vd72jcm31m7dcphclh0000gn/T/ipykernel_31732/3504652586.py:8: SettingWithCopyWarning: \n",
      "A value is trying to be set on a copy of a slice from a DataFrame\n",
      "\n",
      "See the caveats in the documentation: https://pandas.pydata.org/pandas-docs/stable/user_guide/indexing.html#returning-a-view-versus-a-copy\n",
      "  df['DayOfYear'][i]=31+28+31+30+df['Day'][i]\n",
      "/var/folders/d9/ngkc_5vd72jcm31m7dcphclh0000gn/T/ipykernel_31732/3504652586.py:8: SettingWithCopyWarning: \n",
      "A value is trying to be set on a copy of a slice from a DataFrame\n",
      "\n",
      "See the caveats in the documentation: https://pandas.pydata.org/pandas-docs/stable/user_guide/indexing.html#returning-a-view-versus-a-copy\n",
      "  df['DayOfYear'][i]=31+28+31+30+df['Day'][i]\n",
      "/var/folders/d9/ngkc_5vd72jcm31m7dcphclh0000gn/T/ipykernel_31732/3504652586.py:8: SettingWithCopyWarning: \n",
      "A value is trying to be set on a copy of a slice from a DataFrame\n",
      "\n",
      "See the caveats in the documentation: https://pandas.pydata.org/pandas-docs/stable/user_guide/indexing.html#returning-a-view-versus-a-copy\n",
      "  df['DayOfYear'][i]=31+28+31+30+df['Day'][i]\n",
      "/var/folders/d9/ngkc_5vd72jcm31m7dcphclh0000gn/T/ipykernel_31732/3504652586.py:8: SettingWithCopyWarning: \n",
      "A value is trying to be set on a copy of a slice from a DataFrame\n",
      "\n",
      "See the caveats in the documentation: https://pandas.pydata.org/pandas-docs/stable/user_guide/indexing.html#returning-a-view-versus-a-copy\n",
      "  df['DayOfYear'][i]=31+28+31+30+df['Day'][i]\n",
      "/var/folders/d9/ngkc_5vd72jcm31m7dcphclh0000gn/T/ipykernel_31732/3504652586.py:8: SettingWithCopyWarning: \n",
      "A value is trying to be set on a copy of a slice from a DataFrame\n",
      "\n",
      "See the caveats in the documentation: https://pandas.pydata.org/pandas-docs/stable/user_guide/indexing.html#returning-a-view-versus-a-copy\n",
      "  df['DayOfYear'][i]=31+28+31+30+df['Day'][i]\n",
      "/var/folders/d9/ngkc_5vd72jcm31m7dcphclh0000gn/T/ipykernel_31732/3504652586.py:8: SettingWithCopyWarning: \n",
      "A value is trying to be set on a copy of a slice from a DataFrame\n",
      "\n",
      "See the caveats in the documentation: https://pandas.pydata.org/pandas-docs/stable/user_guide/indexing.html#returning-a-view-versus-a-copy\n",
      "  df['DayOfYear'][i]=31+28+31+30+df['Day'][i]\n",
      "/var/folders/d9/ngkc_5vd72jcm31m7dcphclh0000gn/T/ipykernel_31732/3504652586.py:8: SettingWithCopyWarning: \n",
      "A value is trying to be set on a copy of a slice from a DataFrame\n",
      "\n",
      "See the caveats in the documentation: https://pandas.pydata.org/pandas-docs/stable/user_guide/indexing.html#returning-a-view-versus-a-copy\n",
      "  df['DayOfYear'][i]=31+28+31+30+df['Day'][i]\n",
      "/var/folders/d9/ngkc_5vd72jcm31m7dcphclh0000gn/T/ipykernel_31732/3504652586.py:8: SettingWithCopyWarning: \n",
      "A value is trying to be set on a copy of a slice from a DataFrame\n",
      "\n",
      "See the caveats in the documentation: https://pandas.pydata.org/pandas-docs/stable/user_guide/indexing.html#returning-a-view-versus-a-copy\n",
      "  df['DayOfYear'][i]=31+28+31+30+df['Day'][i]\n",
      "/var/folders/d9/ngkc_5vd72jcm31m7dcphclh0000gn/T/ipykernel_31732/3504652586.py:8: SettingWithCopyWarning: \n",
      "A value is trying to be set on a copy of a slice from a DataFrame\n",
      "\n",
      "See the caveats in the documentation: https://pandas.pydata.org/pandas-docs/stable/user_guide/indexing.html#returning-a-view-versus-a-copy\n",
      "  df['DayOfYear'][i]=31+28+31+30+df['Day'][i]\n",
      "/var/folders/d9/ngkc_5vd72jcm31m7dcphclh0000gn/T/ipykernel_31732/3504652586.py:8: SettingWithCopyWarning: \n",
      "A value is trying to be set on a copy of a slice from a DataFrame\n",
      "\n",
      "See the caveats in the documentation: https://pandas.pydata.org/pandas-docs/stable/user_guide/indexing.html#returning-a-view-versus-a-copy\n",
      "  df['DayOfYear'][i]=31+28+31+30+df['Day'][i]\n",
      "/var/folders/d9/ngkc_5vd72jcm31m7dcphclh0000gn/T/ipykernel_31732/3504652586.py:8: SettingWithCopyWarning: \n",
      "A value is trying to be set on a copy of a slice from a DataFrame\n",
      "\n",
      "See the caveats in the documentation: https://pandas.pydata.org/pandas-docs/stable/user_guide/indexing.html#returning-a-view-versus-a-copy\n",
      "  df['DayOfYear'][i]=31+28+31+30+df['Day'][i]\n",
      "/var/folders/d9/ngkc_5vd72jcm31m7dcphclh0000gn/T/ipykernel_31732/3504652586.py:8: SettingWithCopyWarning: \n",
      "A value is trying to be set on a copy of a slice from a DataFrame\n",
      "\n",
      "See the caveats in the documentation: https://pandas.pydata.org/pandas-docs/stable/user_guide/indexing.html#returning-a-view-versus-a-copy\n",
      "  df['DayOfYear'][i]=31+28+31+30+df['Day'][i]\n",
      "/var/folders/d9/ngkc_5vd72jcm31m7dcphclh0000gn/T/ipykernel_31732/3504652586.py:8: SettingWithCopyWarning: \n",
      "A value is trying to be set on a copy of a slice from a DataFrame\n",
      "\n",
      "See the caveats in the documentation: https://pandas.pydata.org/pandas-docs/stable/user_guide/indexing.html#returning-a-view-versus-a-copy\n",
      "  df['DayOfYear'][i]=31+28+31+30+df['Day'][i]\n",
      "/var/folders/d9/ngkc_5vd72jcm31m7dcphclh0000gn/T/ipykernel_31732/3504652586.py:8: SettingWithCopyWarning: \n",
      "A value is trying to be set on a copy of a slice from a DataFrame\n",
      "\n",
      "See the caveats in the documentation: https://pandas.pydata.org/pandas-docs/stable/user_guide/indexing.html#returning-a-view-versus-a-copy\n",
      "  df['DayOfYear'][i]=31+28+31+30+df['Day'][i]\n",
      "/var/folders/d9/ngkc_5vd72jcm31m7dcphclh0000gn/T/ipykernel_31732/3504652586.py:8: SettingWithCopyWarning: \n",
      "A value is trying to be set on a copy of a slice from a DataFrame\n",
      "\n",
      "See the caveats in the documentation: https://pandas.pydata.org/pandas-docs/stable/user_guide/indexing.html#returning-a-view-versus-a-copy\n",
      "  df['DayOfYear'][i]=31+28+31+30+df['Day'][i]\n",
      "/var/folders/d9/ngkc_5vd72jcm31m7dcphclh0000gn/T/ipykernel_31732/3504652586.py:8: SettingWithCopyWarning: \n",
      "A value is trying to be set on a copy of a slice from a DataFrame\n",
      "\n",
      "See the caveats in the documentation: https://pandas.pydata.org/pandas-docs/stable/user_guide/indexing.html#returning-a-view-versus-a-copy\n",
      "  df['DayOfYear'][i]=31+28+31+30+df['Day'][i]\n",
      "/var/folders/d9/ngkc_5vd72jcm31m7dcphclh0000gn/T/ipykernel_31732/3504652586.py:8: SettingWithCopyWarning: \n",
      "A value is trying to be set on a copy of a slice from a DataFrame\n",
      "\n",
      "See the caveats in the documentation: https://pandas.pydata.org/pandas-docs/stable/user_guide/indexing.html#returning-a-view-versus-a-copy\n",
      "  df['DayOfYear'][i]=31+28+31+30+df['Day'][i]\n",
      "/var/folders/d9/ngkc_5vd72jcm31m7dcphclh0000gn/T/ipykernel_31732/3504652586.py:8: SettingWithCopyWarning: \n",
      "A value is trying to be set on a copy of a slice from a DataFrame\n",
      "\n",
      "See the caveats in the documentation: https://pandas.pydata.org/pandas-docs/stable/user_guide/indexing.html#returning-a-view-versus-a-copy\n",
      "  df['DayOfYear'][i]=31+28+31+30+df['Day'][i]\n",
      "/var/folders/d9/ngkc_5vd72jcm31m7dcphclh0000gn/T/ipykernel_31732/3504652586.py:8: SettingWithCopyWarning: \n",
      "A value is trying to be set on a copy of a slice from a DataFrame\n",
      "\n",
      "See the caveats in the documentation: https://pandas.pydata.org/pandas-docs/stable/user_guide/indexing.html#returning-a-view-versus-a-copy\n",
      "  df['DayOfYear'][i]=31+28+31+30+df['Day'][i]\n",
      "/var/folders/d9/ngkc_5vd72jcm31m7dcphclh0000gn/T/ipykernel_31732/3504652586.py:8: SettingWithCopyWarning: \n",
      "A value is trying to be set on a copy of a slice from a DataFrame\n",
      "\n",
      "See the caveats in the documentation: https://pandas.pydata.org/pandas-docs/stable/user_guide/indexing.html#returning-a-view-versus-a-copy\n",
      "  df['DayOfYear'][i]=31+28+31+30+df['Day'][i]\n"
     ]
    },
    {
     "name": "stdout",
     "output_type": "stream",
     "text": [
      "Model: Gaussian1D\n",
      "Inputs: ('x',)\n",
      "Outputs: ('y',)\n",
      "Model set size: 1\n",
      "Parameters:\n",
      "        amplitude            mean             stddev     \n",
      "    ----------------- ----------------- -----------------\n",
      "    6.339431053340477 123.4823808211487 7.259800615461252\n"
     ]
    },
    {
     "data": {
      "text/plain": "<Figure size 640x480 with 1 Axes>",
      "image/png": "[encoded data removed]"
     },
     "metadata": {},
     "output_type": "display_data"
    }
   ],
   "source": [
    "df = pd.read_csv(\"Nenana_Day.csv\")\n",
    "df['DayOfYear']=0\n",
    "\n",
    "for i in range(len(df)):\n",
    "    if (df['Month'][i]=='April'):\n",
    "        df['DayOfYear'][i]=31+28+31+df['Day'][i]\n",
    "    else:\n",
    "        df['DayOfYear'][i]=31+28+31+30+df['Day'][i]\n",
    "        \n",
    "df = df[(df['Number'] > 0)]\n",
    "\n",
    "x = df['DayOfYear']\n",
    "y = df['Number']\n",
    "\n",
    "plt.plot(x,y,'o')\n",
    "\n",
    "from astropy import modeling\n",
    "fitter = modeling.fitting.LevMarLSQFitter()\n",
    "model = modeling.models.Gaussian1D(20,120,20)   # depending on the data you need to give some initial values\n",
    "fitted_model = fitter(model, x, y)\n",
    "\n",
    "plt.plot(x, fitted_model(x))\n",
    "\n",
    "print (fitted_model)\n",
    "doy = int(fitted_model.mean.value)"
   ]
  },
  {
   "cell_type": "code",
   "execution_count": 11,
   "metadata": {
    "id": "sMoHwlBxgpDg",
    "outputId": "478d5917-b3cf-46e9-fc2b-b05665efc8eb",
    "colab": {
     "base_uri": "https://localhost:8080/",
     "height": 408
    },
    "ExecuteTime": {
     "end_time": "2023-11-09T15:21:28.927102Z",
     "start_time": "2023-11-09T15:21:28.751412Z"
    }
   },
   "outputs": [
    {
     "name": "stdout",
     "output_type": "stream",
     "text": [
      "Model: Gaussian1D\n",
      "Inputs: ('x',)\n",
      "Outputs: ('y',)\n",
      "Model set size: 1\n",
      "Parameters:\n",
      "        amplitude            mean              stddev     \n",
      "    ----------------- ------------------ -----------------\n",
      "    9.612823118115655 13.786580630466672 4.907566230900545\n"
     ]
    },
    {
     "data": {
      "text/plain": "<Figure size 640x480 with 1 Axes>",
      "image/png": "[encoded data removed]"
     },
     "metadata": {},
     "output_type": "display_data"
    }
   ],
   "source": [
    "df = pd.read_csv(\"Nenana_Hour.csv\")\n",
    "        \n",
    "df = df[(df['Number'] > 0)]\n",
    "\n",
    "x = df['Hour']\n",
    "y = df['Number']\n",
    "\n",
    "plt.plot(x,y,'o')\n",
    "\n",
    "from astropy import modeling\n",
    "fitter = modeling.fitting.LevMarLSQFitter()\n",
    "model = modeling.models.Gaussian1D(10,12,4)   # depending on the data you need to give some initial values\n",
    "fitted_model = fitter(model, x, y)\n",
    "\n",
    "plt.plot(x, fitted_model(x))\n",
    "\n",
    "print (fitted_model)\n",
    "tof = fitted_model.mean.value"
   ]
  },
  {
   "cell_type": "code",
   "execution_count": 12,
   "metadata": {
    "id": "3JR2gkeEgpDh",
    "outputId": "6d55189a-dc75-490d-b357-2257630c5d04",
    "colab": {
     "base_uri": "https://localhost:8080/"
    },
    "ExecuteTime": {
     "end_time": "2023-11-09T15:21:29.509877Z",
     "start_time": "2023-11-09T15:21:29.503704Z"
    }
   },
   "outputs": [
    {
     "name": "stdout",
     "output_type": "stream",
     "text": [
      "Best Guess:  05-02-2024 13:47:11\n"
     ]
    }
   ],
   "source": [
    "from datetime import datetime\n",
    "year = \"2024\"\n",
    "result = datetime.strptime(year + \"-\" + str(doy), \"%Y-%j\").strftime(\"%m-%d-%Y\")\n",
    "\n",
    "def get_duration(duration):\n",
    "    hours = int(duration / 3600)\n",
    "    minutes = int(duration % 3600 / 60)\n",
    "    seconds = int((duration % 3600) % 60)\n",
    "    return '{:02d}:{:02d}:{:02d}'.format(hours, minutes, seconds)\n",
    "\n",
    "duration = tof*3600.0\n",
    "\n",
    "print (\"Best Guess: \",result,get_duration(duration))"
   ]
  },
  {
   "cell_type": "code",
   "execution_count": 4,
   "metadata": {
    "id": "8JyWK7kUgpDh",
    "ExecuteTime": {
     "end_time": "2023-09-28T20:11:26.553371Z",
     "start_time": "2023-09-28T20:11:26.549377Z"
    }
   },
   "outputs": [],
   "source": []
  }
 ],
 "metadata": {
  "kernelspec": {
   "display_name": "Python 3",
   "language": "python",
   "name": "python3"
  },
  "language_info": {
   "codemirror_mode": {
    "name": "ipython",
    "version": 3
   },
   "file_extension": ".py",
   "mimetype": "text/x-python",
   "name": "python",
   "nbconvert_exporter": "python",
   "pygments_lexer": "ipython3",
   "version": "3.6.8"
  },
  "latex_envs": {
   "LaTeX_envs_menu_present": true,
   "autoclose": false,
   "autocomplete": true,
   "bibliofile": "biblio.bib",
   "cite_by": "apalike",
   "current_citInitial": 1,
   "eqLabelWithNumbers": true,
   "eqNumInitial": 1,
   "hotkeys": {
    "equation": "Ctrl-E",
    "itemize": "Ctrl-I"
   },
   "labels_anchors": false,
   "latex_user_defs": false,
   "report_style_numbering": false,
   "user_envs_cfg": false
  },
  "colab": {
   "name": "NenanaIceClassic.ipynb",
   "provenance": []
  }
 },
 "nbformat": 4,
 "nbformat_minor": 0
}
