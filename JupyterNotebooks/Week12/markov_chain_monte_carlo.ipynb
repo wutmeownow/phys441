{
 "cells": [
  {
   "cell_type": "code",
   "execution_count": 28,
   "outputs": [],
   "source": [
    "# Define the acceptance ratio\n",
    "\n",
    "def acceptance_ratio(p, p_new):\n",
    "    return min(1, likelihood(p_new) * prior(p_new) / (likelihood(p) * prior(p)))"
   ],
   "metadata": {
    "collapsed": false,
    "ExecuteTime": {
     "end_time": "2023-11-08T15:27:04.525220Z",
     "start_time": "2023-11-08T15:27:04.522461Z"
    }
   },
   "id": "cdcde62c9e6cd36c"
  },
  {
   "cell_type": "code",
   "execution_count": 29,
   "outputs": [],
   "source": [
    "import numpy as np\n",
    "import scipy.stats as stats\n",
    "import matplotlib.pyplot as plt"
   ],
   "metadata": {
    "collapsed": false,
    "ExecuteTime": {
     "end_time": "2023-11-08T15:27:05.175754Z",
     "start_time": "2023-11-08T15:27:05.149525Z"
    }
   },
   "id": "initial_id"
  },
  {
   "cell_type": "code",
   "execution_count": 30,
   "outputs": [],
   "source": [
    "# Define the data for the first coin produced by the factory\n",
    "# We take this coin, flip it 100 times, and observe 57 heads and 43 tails\n",
    "x = 57\n",
    "n = 100\n",
    "\n",
    "# Define the Likelihood P(x|p) - binomial distribution\n",
    "def likelihood(p):\n",
    "    return stats.binom.pmf(x, n, p)"
   ],
   "metadata": {
    "collapsed": false,
    "ExecuteTime": {
     "end_time": "2023-11-08T15:27:05.771799Z",
     "start_time": "2023-11-08T15:27:05.762486Z"
    }
   },
   "id": "77e9b8ccd216071d"
  },
  {
   "cell_type": "code",
   "execution_count": 31,
   "outputs": [
    {
     "name": "stdout",
     "output_type": "stream",
     "text": [
      "0.0 1.0\n",
      "0.1 1.0\n",
      "0.2 1.0\n",
      "0.30000000000000004 1.0\n",
      "0.4 1.0\n",
      "0.5 1.0\n",
      "0.6000000000000001 1.0\n",
      "0.7000000000000001 1.0\n",
      "0.8 1.0\n",
      "0.9 1.0\n"
     ]
    }
   ],
   "source": [
    "# Define the prior P(p) - as we have never seen this coin before, we will assume a uniform distribution\n",
    "def prior(p):\n",
    "    return stats.uniform.pdf(p)\n",
    "\n",
    "for i in range(10):\n",
    "    print(i*0.1, prior(i*0.1))"
   ],
   "metadata": {
    "collapsed": false,
    "ExecuteTime": {
     "end_time": "2023-11-08T15:27:06.596902Z",
     "start_time": "2023-11-08T15:27:06.591431Z"
    }
   },
   "id": "3db0ee302eb866c8"
  },
  {
   "cell_type": "markdown",
   "source": [
    "# The Metropolis-Hastings MCMC\n",
    "\n",
    "As mentioned above, these methods draw samples from a continuous random variable — in our case for p. The MCMC we will use is of the random walk type, which randomly generates samples and keeps them or not based on how they fit the model.\n",
    "\n",
    "The Metropolis-Hastings algorithm is a Markov Chain Monte Carlo method for obtaining a sequence of random samples from a probability distribution for which direct sampling is difficult. This sequence can be used to approximate the distribution (e.g. to generate a histogram of the distribution); for example, the sequence can be used to approximate the posterior distribution in Bayesian inference.\n",
    "\n",
    "The algorithm is as follows:\n",
    "\n",
    "1. Propose a new value of p randomly between 0 and 1, call it p′ (or p_new).\n",
    "2. Compute the acceptance ratio, R.\n",
    "3. Generate another uniform random number between 0 and 1, call it u.\n",
    "4. If u < R, accept the new value and set p = p′. Otherwise, keep the current value of p.\n",
    "5. Record the final value of p for this sample.\n",
    "6. Repeat steps 1 through 5 many, many times.\n",
    "\n",
    "# Acceptance Ratio\n",
    "\n",
    "The Metropolis-Hastings algorithm is fairly straightforward, but first, we need to define how we will either accept or reject the new sample draw. Each iteration, a new value for p between 0 and 1 will be proposed, we will call this proposed value p′. We only want to accept and update this value if it is better than the previous. This is done by computing an acceptance ratio, R. This acceptance ratio is the ratio of our Bayes’ Theorem for the proposed value over the previous value and is shown below.\n",
    "\n",
    "\n"
   ],
   "metadata": {
    "collapsed": false
   },
   "id": "605c0aa3e09dbc03"
  },
  {
   "cell_type": "markdown",
   "source": [
    "# Burn-in\n",
    "\n",
    "MCMCs are initialized randomly and must converge towards the correct value, and this can often take quite a lot of samples. When plotting our results and posterior distribution, it is not effective to include these early samples before the model has converged. So we implement what is called a “burn-in”, in which those first, less accurate samples are excluded. Burn-in for MCMCs is typically around 2000–5000 samples when the entire chain is around 10k–20k.\n",
    "\n",
    "# Lag\n",
    "\n",
    "Another very important thing to consider with MCMCs is sample independence. A new sample here is often dependent on the previous one as occasionally we do not accept a new random value and keep the old. To address this problem, we implement what is called “lag”. Lag is where rather than recording every sample, we record every other, or perhaps every fifth or tenth sample.\n",
    "\n",
    "# The Simulation\n",
    "\n",
    "Great, we now have everything we need to write and run our MCMC.\n"
   ],
   "metadata": {
    "collapsed": false
   },
   "id": "60a274b4f5f56883"
  },
  {
   "cell_type": "code",
   "execution_count": 32,
   "outputs": [],
   "source": [
    "# Create empty list to store samples\n",
    "results = []\n",
    "\n",
    "# Initialize a value of p\n",
    "p = np.random.uniform(0, 1)\n",
    "\n",
    "# Define model parameters\n",
    "n_samples = 25000\n",
    "burn_in = 5000\n",
    "lag = 5\n",
    "\n",
    "# Create the MCMC loop\n",
    "for i in range(n_samples):\n",
    "    # Propose a new value of p randomly from a uniform distribution between 0 and 1\n",
    "    p_new = np.random.random_sample()\n",
    "    # Compute acceptance probability\n",
    "    R = acceptance_ratio(p, p_new)\n",
    "    # Draw random sample to compare R to\n",
    "    u = np.random.random_sample()\n",
    "    # If R is greater than u, accept the new value of p (set p = p_new)\n",
    "    if u < R:\n",
    "        p = p_new\n",
    "    # Record values after burn in - how often determined by lag\n",
    "    if i > burn_in and i%lag == 0:\n",
    "        results.append(p)"
   ],
   "metadata": {
    "collapsed": false,
    "ExecuteTime": {
     "end_time": "2023-11-08T15:27:20.911528Z",
     "start_time": "2023-11-08T15:27:08.878740Z"
    }
   },
   "id": "95da2c97b9cf0e57"
  },
  {
   "cell_type": "code",
   "execution_count": 33,
   "outputs": [
    {
     "data": {
      "text/plain": "(array([0.03219042, 0.        , 0.        , 0.        , 0.03219042,\n        0.03219042, 0.06438084, 0.06438084, 0.22533293, 0.19314251,\n        0.57942753, 0.64380837, 0.86914129, 1.25542631, 1.9314251 ,\n        1.73828259, 2.51085262, 2.6396143 , 3.89504061, 4.34570646,\n        5.27922859, 6.05179863, 6.695607  , 6.59903574, 6.72779742,\n        9.1742692 , 8.49827042, 6.53465491, 8.62703209, 6.92093993,\n        8.17636624, 4.86075316, 4.63542023, 4.98951483, 3.18685141,\n        3.25123224, 2.2855197 , 1.89923468, 1.19104548, 0.45066586,\n        0.7081892 , 0.45066586, 0.19314251, 0.16095209, 0.03219042,\n        0.03219042, 0.        , 0.        , 0.        , 0.06438084]),\n array([0.36673141, 0.37449964, 0.38226786, 0.39003609, 0.39780432,\n        0.40557255, 0.41334078, 0.42110901, 0.42887723, 0.43664546,\n        0.44441369, 0.45218192, 0.45995015, 0.46771837, 0.4754866 ,\n        0.48325483, 0.49102306, 0.49879129, 0.50655952, 0.51432774,\n        0.52209597, 0.5298642 , 0.53763243, 0.54540066, 0.55316888,\n        0.56093711, 0.56870534, 0.57647357, 0.5842418 , 0.59201003,\n        0.59977825, 0.60754648, 0.61531471, 0.62308294, 0.63085117,\n        0.6386194 , 0.64638762, 0.65415585, 0.66192408, 0.66969231,\n        0.67746054, 0.68522876, 0.69299699, 0.70076522, 0.70853345,\n        0.71630168, 0.72406991, 0.73183813, 0.73960636, 0.74737459,\n        0.75514282]),\n <BarContainer object of 50 artists>)"
     },
     "execution_count": 33,
     "metadata": {},
     "output_type": "execute_result"
    },
    {
     "data": {
      "text/plain": "<Figure size 640x480 with 1 Axes>",
      "image/png": "[encoded data removed]"
     },
     "metadata": {},
     "output_type": "display_data"
    }
   ],
   "source": [
    "plt.hist(results, bins=50, density=True)"
   ],
   "metadata": {
    "collapsed": false,
    "ExecuteTime": {
     "end_time": "2023-11-08T15:27:21.191511Z",
     "start_time": "2023-11-08T15:27:20.946285Z"
    }
   },
   "id": "f7399ec7ce4d4501"
  },
  {
   "cell_type": "code",
   "execution_count": 34,
   "outputs": [
    {
     "name": "stdout",
     "output_type": "stream",
     "text": [
      "Mean:  0.5704678339509592\n",
      "Standard Deviation:  0.04934238844323389\n",
      "Expected Mean:  0.57\n",
      "Expected Standard Deviation:  0.04950757517794625\n"
     ]
    }
   ],
   "source": [
    "print(\"Mean: \", np.mean(results))\n",
    "print(\"Standard Deviation: \", np.std(results))\n",
    "\n",
    "print(\"Expected Mean: \", x/n)\n",
    "print(\"Expected Standard Deviation: \", np.sqrt(x/n*(1-x/n)/n))"
   ],
   "metadata": {
    "collapsed": false,
    "ExecuteTime": {
     "end_time": "2023-11-08T15:27:39.727030Z",
     "start_time": "2023-11-08T15:27:39.711919Z"
    }
   },
   "id": "e5a0c1985456d39d"
  },
  {
   "cell_type": "markdown",
   "source": [
    "# Next Steps\n",
    "\n",
    "### Okay, so now let's suppose that the factory makes five hundred more coins. We do the same procedure of 100 flips (testing) for each of these coins, and determine a probability of heads for each. We can then use these probabilities as our prior for the next round of testing. This is the beauty of Bayesian statistics, we can update our prior with new information and get a better estimate of the true probability of heads.\n",
    "\n",
    "### Let's suppose that when we do this, we find that there is a distribution of probabilities for the five hundred coins that looks like this:  it is a roughly normal distribution with a mean of 0.511 and a standard deviation of 0.015. We can use this as our prior for the next round of testing."
   ],
   "metadata": {
    "collapsed": false
   },
   "id": "1c7b91904ad36c77"
  },
  {
   "cell_type": "code",
   "execution_count": 35,
   "outputs": [
    {
     "name": "stdout",
     "output_type": "stream",
     "text": [
      "Expected Mean:  0.5\n",
      "Expected Standard Deviation:  0.022360679774997897\n",
      "Expected Standard Deviation for coin with mu=0.511:  0.02235526783556842\n"
     ]
    }
   ],
   "source": [
    "# Expected mean and standard deviation of 500 fair coins\n",
    "print(\"Expected Mean: \", 0.5)\n",
    "print(\"Expected Standard Deviation: \", np.sqrt(0.5*(1-0.5)/500))\n",
    "\n",
    "print(\"Expected Standard Deviation for coin with mu=0.511: \", np.sqrt(0.511*(1-0.511)/500))\n",
    "\n",
    "# Define the prior P(p) - using the mean and standard deviation of the distribution of probabilities for the 500 coins\n",
    "# Note that we are using here the OBSERVED mean and standard deviation of the 500 coins, not the expected mean \n",
    "# and standard deviation of 500 fair coins ... that is, we are using the SAMPLE values, and not the expected \n",
    "# POPULATION values\n",
    "\n",
    "mean = 0.511\n",
    "std = 0.015\n",
    "\n",
    "def prior(p):\n",
    "    return stats.norm.pdf(p, mean, std)\n"
   ],
   "metadata": {
    "collapsed": false,
    "ExecuteTime": {
     "end_time": "2023-11-08T15:33:49.757383Z",
     "start_time": "2023-11-08T15:33:49.752774Z"
    }
   },
   "id": "8222e9ebe6bb1617"
  },
  {
   "cell_type": "code",
   "execution_count": 36,
   "outputs": [],
   "source": [
    "# Now, look at the 501st coin\n",
    "\n",
    "x = 63\n",
    "n = 100\n",
    "\n",
    "# Likelihood function - Binomial\n",
    "def likelihood(p):\n",
    "    return stats.binom.pmf(x, n, p)\n",
    "\n",
    "def acceptance_ratio(p, p_new):\n",
    "    return min(1, likelihood(p_new) * prior(p_new) / (likelihood(p) * prior(p)))\n"
   ],
   "metadata": {
    "collapsed": false,
    "ExecuteTime": {
     "end_time": "2023-11-08T15:37:36.051016Z",
     "start_time": "2023-11-08T15:37:36.043991Z"
    }
   },
   "id": "6e958a307f47a1df"
  },
  {
   "cell_type": "code",
   "execution_count": 37,
   "outputs": [],
   "source": [
    "# Create empty list to store samples\n",
    "results2 = []\n",
    "\n",
    "# Initialize a value of p\n",
    "p = np.random.uniform(0, 1)\n",
    "\n",
    "# Define model parameters\n",
    "n_samples = 25000\n",
    "burn_in = 5000\n",
    "lag = 5\n",
    "\n",
    "# Create the MCMC loop\n",
    "for i in range(n_samples):\n",
    "    # Propose a new value of p randomly from a uniform distribution between 0 and 1\n",
    "    p_new = np.random.random_sample()\n",
    "    # Compute acceptance probability\n",
    "    R = acceptance_ratio(p, p_new)\n",
    "    # Draw random sample to compare R to\n",
    "    u = np.random.random_sample()\n",
    "    # If R is greater than u, accept the new value of p (set p = p_new)\n",
    "    if u < R:\n",
    "        p = p_new\n",
    "    # Record values after burn in - how often determined by lag\n",
    "    if i > burn_in and i%lag == 0:\n",
    "        results2.append(p)"
   ],
   "metadata": {
    "collapsed": false,
    "ExecuteTime": {
     "end_time": "2023-11-08T15:37:50.533672Z",
     "start_time": "2023-11-08T15:37:38.363030Z"
    }
   },
   "id": "2db32f0febb00965"
  },
  {
   "cell_type": "code",
   "execution_count": 38,
   "outputs": [
    {
     "data": {
      "text/plain": "(array([ 0.12210756,  0.24421512,  0.36632268,  1.09896803,  0.97686047,\n         1.95372095,  0.36632268,  2.44215118,  5.25062504,  1.34318315,\n         7.57066866,  5.73905528,  8.66963669,  8.30331402, 18.07191874,\n        19.78142457, 19.04877921, 15.75187512, 18.68245654, 21.97936063,\n        19.04877921, 23.20043622, 27.96263103, 40.53970961, 32.60271827,\n        20.39196236, 22.58989843, 22.58989843, 21.61303796,  9.64649717,\n        17.46138095, 12.21075591, 16.85084315,  8.30331402,  7.93699134,\n         8.54752913,  7.08223843,  3.05268898,  2.80847386,  1.46529071,\n         1.95372095,  1.22107559,  0.36632268,  0.36632268,  0.48843024,\n         0.12210756,  0.        ,  0.        ,  0.        ,  0.12210756]),\n array([0.4727723 , 0.47482019, 0.47686808, 0.47891596, 0.48096385,\n        0.48301174, 0.48505962, 0.48710751, 0.4891554 , 0.49120329,\n        0.49325117, 0.49529906, 0.49734695, 0.49939484, 0.50144272,\n        0.50349061, 0.5055385 , 0.50758638, 0.50963427, 0.51168216,\n        0.51373005, 0.51577793, 0.51782582, 0.51987371, 0.5219216 ,\n        0.52396948, 0.52601737, 0.52806526, 0.53011314, 0.53216103,\n        0.53420892, 0.53625681, 0.53830469, 0.54035258, 0.54240047,\n        0.54444836, 0.54649624, 0.54854413, 0.55059202, 0.5526399 ,\n        0.55468779, 0.55673568, 0.55878357, 0.56083145, 0.56287934,\n        0.56492723, 0.56697512, 0.569023  , 0.57107089, 0.57311878,\n        0.57516666]),\n <BarContainer object of 50 artists>)"
     },
     "execution_count": 38,
     "metadata": {},
     "output_type": "execute_result"
    },
    {
     "data": {
      "text/plain": "<Figure size 640x480 with 1 Axes>",
      "image/png": "[encoded data removed]"
     },
     "metadata": {},
     "output_type": "display_data"
    }
   ],
   "source": [
    "plt.hist(results2, bins=50, density=True)"
   ],
   "metadata": {
    "collapsed": false,
    "ExecuteTime": {
     "end_time": "2023-11-08T15:37:50.789859Z",
     "start_time": "2023-11-08T15:37:50.566886Z"
    }
   },
   "id": "6267dabf35d2b0ab"
  },
  {
   "cell_type": "code",
   "execution_count": 39,
   "outputs": [
    {
     "name": "stdout",
     "output_type": "stream",
     "text": [
      "Mean:  0.5204208092436843\n",
      "Standard Deviation:  0.014732228997411709\n",
      "Expected Mean:  0.5112375249500998\n"
     ]
    }
   ],
   "source": [
    "print(\"Mean: \", np.mean(results2))\n",
    "print(\"Standard Deviation: \", np.std(results2))\n",
    "\n",
    "print(\"Expected Mean: \", (500*0.511 + x/n)/(500+1))\n"
   ],
   "metadata": {
    "collapsed": false,
    "ExecuteTime": {
     "end_time": "2023-11-08T15:37:58.268309Z",
     "start_time": "2023-11-08T15:37:58.260046Z"
    }
   },
   "id": "ba866cff18f8c1a1"
  },
  {
   "cell_type": "markdown",
   "source": [
    "# Conclusion\n",
    "\n",
    "### Even though the data for this coin suggests a bias around 0.63, our Bayesian Inference model suggests the actual value is much closer to 0.52. \n",
    "\n",
    "### This is because our informed prior function holds weight in the model, telling us that even if we observed 63 heads for this coin, given that coins are produced with an average bias of around 0.51, we expect the bias for the 501st to be closer to the factory bias. \n",
    "\n",
    "### Even if this coin had exactly a 0.5 bias, observing 63 heads out of 100 tosses is not entirely unlikely, and we shouldn't assume this data to be representative of the exact value. The prior function holds weight just like the likelihood does in informing the posterior distribution. \n",
    "\n",
    "### If we were to produce thousands of more coins and inform the prior distribution even more, this would give it an even higher weight in the model. This idea of updating our understanding with more information to predict unknown parameters is exactly why Bayesian Inference is useful. It is tuning and manipulating these likelihood and prior functions with more and better data that allows us to improve and inform our inference model."
   ],
   "metadata": {
    "collapsed": false
   },
   "id": "d72544165af45b4f"
  },
  {
   "cell_type": "code",
   "execution_count": null,
   "outputs": [],
   "source": [],
   "metadata": {
    "collapsed": false
   },
   "id": "75edb08ad0015f83"
  }
 ],
 "metadata": {
  "kernelspec": {
   "display_name": "Python 3",
   "language": "python",
   "name": "python3"
  },
  "language_info": {
   "codemirror_mode": {
    "name": "ipython",
    "version": 2
   },
   "file_extension": ".py",
   "mimetype": "text/x-python",
   "name": "python",
   "nbconvert_exporter": "python",
   "pygments_lexer": "ipython2",
   "version": "2.7.6"
  }
 },
 "nbformat": 4,
 "nbformat_minor": 5
}
