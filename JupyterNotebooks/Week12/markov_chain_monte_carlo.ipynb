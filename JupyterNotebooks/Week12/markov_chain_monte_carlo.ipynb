{
 "cells": [
  {
   "cell_type": "code",
   "execution_count": 1,
   "id": "initial_id",
   "metadata": {
    "collapsed": true,
    "ExecuteTime": {
     "end_time": "2023-11-06T12:16:20.471741Z",
     "start_time": "2023-11-06T12:16:19.227022Z"
    }
   },
   "outputs": [],
   "source": [
    "import numpy as np\n",
    "import scipy.stats as stats\n",
    "import matplotlib.pyplot as plt"
   ]
  },
  {
   "cell_type": "code",
   "execution_count": 2,
   "outputs": [],
   "source": [
    "# Define the data for the first coin produced by the factory\n",
    "x = 57\n",
    "n = 100\n",
    "\n",
    "# Define the Likelihood P(x|p) - binomial distribution\n",
    "def likelihood(p):\n",
    "    return stats.binom.pmf(x, n, p)"
   ],
   "metadata": {
    "collapsed": false,
    "ExecuteTime": {
     "end_time": "2023-11-06T12:16:20.477670Z",
     "start_time": "2023-11-06T12:16:20.474857Z"
    }
   },
   "id": "77e9b8ccd216071d"
  },
  {
   "cell_type": "code",
   "execution_count": 3,
   "outputs": [],
   "source": [
    "# Define the prior P(p) - as we have never seen this coin before, we will assume a uniform distribution\n",
    "def prior(p):\n",
    "    return stats.uniform.pdf(p)"
   ],
   "metadata": {
    "collapsed": false,
    "ExecuteTime": {
     "end_time": "2023-11-06T12:16:20.483309Z",
     "start_time": "2023-11-06T12:16:20.480513Z"
    }
   },
   "id": "3db0ee302eb866c8"
  },
  {
   "cell_type": "markdown",
   "source": [
    "# The Metropolis-Hastings MCMC\n",
    "\n",
    "As mentioned above, these methods draw samples from a continuous random variable — in our case for p. The MCMC we will use is of the random walk type, which randomly generates samples and keeps them or not based on how they fit the model.\n",
    "\n",
    "The Metropolis-Hastings algorithm is a Markov Chain Monte Carlo method for obtaining a sequence of random samples from a probability distribution for which direct sampling is difficult. This sequence can be used to approximate the distribution (e.g. to generate a histogram of the distribution); for example, the sequence can be used to approximate the posterior distribution in Bayesian inference.\n",
    "\n",
    "The algorithm is as follows:\n",
    "\n",
    "1. Propose a new value of p randomly between 0 and 1, call it p′ (or p_new).\n",
    "2. Compute the acceptance ratio, R.\n",
    "3. Generate another uniform random number between 0 and 1, call it u.\n",
    "4. If u < R, accept the new value and set p = p′. Otherwise, keep the current value of p.\n",
    "5. Record the final value of p for this sample.\n",
    "6. Repeat steps 1 through 5 many, many times.\n",
    "\n",
    "# Acceptance Ratio\n",
    "\n",
    "The Metropolis-Hastings algorithm is fairly straightforward, but first, we need to define how we will either accept or reject the new sample draw. Each iteration, a new value for p between 0 and 1 will be proposed, we will call this proposed value p′. We only want to accept and update this value if it is better than the previous. This is done by computing an acceptance ratio, R. This acceptance ratio is the ratio of our Bayes’ Theorem for the proposed value over the previous value and is shown below.\n",
    "\n",
    "\n"
   ],
   "metadata": {
    "collapsed": false
   },
   "id": "605c0aa3e09dbc03"
  },
  {
   "cell_type": "code",
   "execution_count": 4,
   "outputs": [],
   "source": [
    "# Define the acceptance ratio\n",
    "\n",
    "def acceptance_ratio(p, p_new):\n",
    "    return min(1, likelihood(p_new) * prior(p_new) / (likelihood(p) * prior(p)))"
   ],
   "metadata": {
    "collapsed": false,
    "ExecuteTime": {
     "end_time": "2023-11-06T12:16:21.765596Z",
     "start_time": "2023-11-06T12:16:21.756803Z"
    }
   },
   "id": "cdcde62c9e6cd36c"
  },
  {
   "cell_type": "markdown",
   "source": [
    "# Burn-in\n",
    "\n",
    "MCMCs are initialized randomly and must converge towards the correct value, and this can often take quite a lot of samples. When plotting our results and posterior distribution, it is not effective to include these early samples before the model has converged. So we implement what is called a “burn-in”, in which those first, less accurate samples are excluded. Burn-in for MCMCs is typically around 2000–5000 samples when the entire chain is around 10k–20k.\n",
    "\n",
    "# Lag\n",
    "\n",
    "Another very important thing to consider with MCMCs is sample independence. A new sample here is often dependent on the previous one as occasionally we do not accept a new random value and keep the old. To address this problem, we implement what is called “lag”. Lag is where rather than recording every sample, we record every other, or perhaps every fifth or tenth sample.\n",
    "\n",
    "# The Simulation\n",
    "\n",
    "Great, we now have everything we need to write and run our MCMC.\n"
   ],
   "metadata": {
    "collapsed": false
   },
   "id": "60a274b4f5f56883"
  },
  {
   "cell_type": "code",
   "execution_count": 5,
   "outputs": [],
   "source": [
    "# Create empty list to store samples\n",
    "results = []\n",
    "\n",
    "# Initialize a value of p\n",
    "p = np.random.uniform(0, 1)\n",
    "\n",
    "# Define model parameters\n",
    "n_samples = 25000\n",
    "burn_in = 5000\n",
    "lag = 5\n",
    "\n",
    "# Create the MCMC loop\n",
    "for i in range(n_samples):\n",
    "    # Propose a new value of p randomly from a uniform distribution between 0 and 1\n",
    "    p_new = np.random.random_sample()\n",
    "    # Compute acceptance probability\n",
    "    R = acceptance_ratio(p, p_new)\n",
    "    # Draw random sample to compare R to\n",
    "    u = np.random.random_sample()\n",
    "    # If R is greater than u, accept the new value of p (set p = p_new)\n",
    "    if u < R:\n",
    "        p = p_new\n",
    "    # Record values after burn in - how often determined by lag\n",
    "    if i > burn_in and i%lag == 0:\n",
    "        results.append(p)"
   ],
   "metadata": {
    "collapsed": false,
    "ExecuteTime": {
     "end_time": "2023-11-06T12:16:35.277316Z",
     "start_time": "2023-11-06T12:16:23.818510Z"
    }
   },
   "id": "95da2c97b9cf0e57"
  },
  {
   "cell_type": "code",
   "execution_count": 6,
   "outputs": [
    {
     "data": {
      "text/plain": "(array([ 0.1569215 ,  0.03923037,  0.03923037,  0.        ,  0.1569215 ,\n         0.27461262,  0.1569215 ,  0.47076449,  0.43153412,  0.86306824,\n         1.01998974,  1.17691124,  1.80459723,  1.56921498,  1.88305798,\n         3.60919446,  3.96226783,  4.4722627 ,  5.25687019,  5.68840431,\n         5.21763981,  8.70914315,  6.6299333 ,  7.96376603,  6.1591688 ,\n         6.86531555, 10.27835813,  8.15991791,  7.76761416,  6.66916367,\n         6.98300667,  8.00299641,  5.57071319,  4.70764495,  4.90379682,\n         4.0014982 ,  3.17766034,  2.51074397,  2.23613135,  1.49075423,\n         1.72613648,  1.37306311,  1.17691124,  0.35307337,  0.35307337,\n         0.27461262,  0.43153412,  0.11769112,  0.        ,  0.03923037]),\n array([0.40265283, 0.40902703, 0.41540124, 0.42177545, 0.42814965,\n        0.43452386, 0.44089807, 0.44727227, 0.45364648, 0.46002069,\n        0.46639489, 0.4727691 , 0.47914331, 0.48551751, 0.49189172,\n        0.49826593, 0.50464013, 0.51101434, 0.51738855, 0.52376275,\n        0.53013696, 0.53651117, 0.54288537, 0.54925958, 0.55563379,\n        0.56200799, 0.5683822 , 0.57475641, 0.58113061, 0.58750482,\n        0.59387903, 0.60025323, 0.60662744, 0.61300165, 0.61937585,\n        0.62575006, 0.63212427, 0.63849847, 0.64487268, 0.65124689,\n        0.65762109, 0.6639953 , 0.67036951, 0.67674371, 0.68311792,\n        0.68949213, 0.69586633, 0.70224054, 0.70861475, 0.71498895,\n        0.72136316]),\n <BarContainer object of 50 artists>)"
     },
     "execution_count": 6,
     "metadata": {},
     "output_type": "execute_result"
    },
    {
     "data": {
      "text/plain": "<Figure size 640x480 with 1 Axes>",
      "image/png": "[encoded data removed]"
     },
     "metadata": {},
     "output_type": "display_data"
    }
   ],
   "source": [
    "plt.hist(results, bins=50, density=True)"
   ],
   "metadata": {
    "collapsed": false,
    "ExecuteTime": {
     "end_time": "2023-11-06T12:16:35.551766Z",
     "start_time": "2023-11-06T12:16:35.280186Z"
    }
   },
   "id": "f7399ec7ce4d4501"
  },
  {
   "cell_type": "code",
   "execution_count": 7,
   "outputs": [
    {
     "name": "stdout",
     "output_type": "stream",
     "text": [
      "Mean:  0.5697584673455811\n",
      "Standard Deviation:  0.048255745869299094\n"
     ]
    }
   ],
   "source": [
    "print(\"Mean: \", np.mean(results))\n",
    "print(\"Standard Deviation: \", np.std(results))"
   ],
   "metadata": {
    "collapsed": false,
    "ExecuteTime": {
     "end_time": "2023-11-06T12:16:45.132548Z",
     "start_time": "2023-11-06T12:16:45.123100Z"
    }
   },
   "id": "e5a0c1985456d39d"
  },
  {
   "cell_type": "markdown",
   "source": [
    "# Next Steps\n",
    "\n",
    "Okay, so now let's suppose that the factory makes five hundred more coins. We do the same procedure of 100 flips (testing) for each of these coins, and determine a probability of heads for each. We can then use these probabilities as our prior for the next round of testing. This is the beauty of Bayesian statistics, we can update our prior with new information and get a better estimate of the true probability of heads.\n",
    "\n",
    "Let's suppose that when we do this, we find that there is a distribution of probabilities for the five hundred coins that looks like this:  it is a roughly normal distribution with a mean of 0.511 and a standard deviation of 0.015. We can use this as our prior for the next round of testing."
   ],
   "metadata": {
    "collapsed": false
   },
   "id": "1c7b91904ad36c77"
  },
  {
   "cell_type": "code",
   "execution_count": 8,
   "outputs": [],
   "source": [
    "# Define the prior P(p) - using the mean and standard deviation of the distribution of probabilities for the 500 coins\n",
    "mean = 0.511\n",
    "std = 0.015\n",
    "\n",
    "def prior(p):\n",
    "    return stats.norm.pdf(p, mean, std)\n"
   ],
   "metadata": {
    "collapsed": false,
    "ExecuteTime": {
     "end_time": "2023-11-06T12:17:47.794798Z",
     "start_time": "2023-11-06T12:17:47.787154Z"
    }
   },
   "id": "8222e9ebe6bb1617"
  },
  {
   "cell_type": "code",
   "execution_count": 9,
   "outputs": [],
   "source": [
    "# Now, look at the 501st coin\n",
    "\n",
    "x = 63\n",
    "n = 100\n",
    "\n",
    "# Likelihood function - Binomial\n",
    "def likelihood(p):\n",
    "    return stats.binom.pmf(x, n, p)\n",
    "\n",
    "def acceptance_ratio(p, p_new):\n",
    "    return min(1, likelihood(p_new) * prior(p_new) / (likelihood(p) * prior(p)))\n"
   ],
   "metadata": {
    "collapsed": false,
    "ExecuteTime": {
     "end_time": "2023-11-06T12:18:00.014796Z",
     "start_time": "2023-11-06T12:18:00.004667Z"
    }
   },
   "id": "6e958a307f47a1df"
  },
  {
   "cell_type": "code",
   "execution_count": 10,
   "outputs": [],
   "source": [
    "# Create empty list to store samples\n",
    "results2 = []\n",
    "\n",
    "# Initialize a value of p\n",
    "p = np.random.uniform(0, 1)\n",
    "\n",
    "# Define model parameters\n",
    "n_samples = 25000\n",
    "burn_in = 5000\n",
    "lag = 5\n",
    "\n",
    "# Create the MCMC loop\n",
    "for i in range(n_samples):\n",
    "    # Propose a new value of p randomly from a uniform distribution between 0 and 1\n",
    "    p_new = np.random.random_sample()\n",
    "    # Compute acceptance probability\n",
    "    R = acceptance_ratio(p, p_new)\n",
    "    # Draw random sample to compare R to\n",
    "    u = np.random.random_sample()\n",
    "    # If R is greater than u, accept the new value of p (set p = p_new)\n",
    "    if u < R:\n",
    "        p = p_new\n",
    "    # Record values after burn in - how often determined by lag\n",
    "    if i > burn_in and i%lag == 0:\n",
    "        results2.append(p)"
   ],
   "metadata": {
    "collapsed": false,
    "ExecuteTime": {
     "end_time": "2023-11-06T12:18:17.803107Z",
     "start_time": "2023-11-06T12:18:06.456751Z"
    }
   },
   "id": "2db32f0febb00965"
  },
  {
   "cell_type": "code",
   "execution_count": 11,
   "outputs": [
    {
     "data": {
      "text/plain": "(array([ 0.14269397,  0.        ,  0.        ,  0.57077587,  1.85502159,\n         0.14269397,  2.85387937,  2.99657334,  0.57077587,  3.13926731,\n         3.28196127,  4.13812508,  4.42351302,  9.84588382,  4.85159493,\n        16.98058224,  6.99200445, 17.40866415, 15.12556065, 21.6894832 ,\n        14.55478478, 29.53765146, 25.39952638, 16.6951943 , 18.55021589,\n        26.54107813, 42.80819053, 25.97030225, 27.39724194, 26.68377209,\n        22.40295304, 20.26254352, 22.54564701, 19.69176764, 15.41094859,\n        17.26597018, 10.41665969, 13.41323303, 11.41551747, 10.8447416 ,\n         3.85273715,  3.85273715,  7.13469842,  6.70661652,  5.13698286,\n         5.13698286,  1.56963365,  0.71346984,  0.42808191,  1.28424572]),\n array([0.47403289, 0.47578533, 0.47753776, 0.4792902 , 0.48104264,\n        0.48279508, 0.48454752, 0.48629996, 0.4880524 , 0.48980484,\n        0.49155728, 0.49330972, 0.49506216, 0.4968146 , 0.49856704,\n        0.50031948, 0.50207191, 0.50382435, 0.50557679, 0.50732923,\n        0.50908167, 0.51083411, 0.51258655, 0.51433899, 0.51609143,\n        0.51784387, 0.51959631, 0.52134875, 0.52310119, 0.52485363,\n        0.52660606, 0.5283585 , 0.53011094, 0.53186338, 0.53361582,\n        0.53536826, 0.5371207 , 0.53887314, 0.54062558, 0.54237802,\n        0.54413046, 0.5458829 , 0.54763534, 0.54938778, 0.55114021,\n        0.55289265, 0.55464509, 0.55639753, 0.55814997, 0.55990241,\n        0.56165485]),\n <BarContainer object of 50 artists>)"
     },
     "execution_count": 11,
     "metadata": {},
     "output_type": "execute_result"
    },
    {
     "data": {
      "text/plain": "<Figure size 640x480 with 1 Axes>",
      "image/png": "[encoded data removed]"
     },
     "metadata": {},
     "output_type": "display_data"
    }
   ],
   "source": [
    "plt.hist(results2, bins=50, density=True)"
   ],
   "metadata": {
    "collapsed": false,
    "ExecuteTime": {
     "end_time": "2023-11-06T12:18:28.273963Z",
     "start_time": "2023-11-06T12:18:28.027586Z"
    }
   },
   "id": "6267dabf35d2b0ab"
  },
  {
   "cell_type": "code",
   "execution_count": 12,
   "outputs": [
    {
     "name": "stdout",
     "output_type": "stream",
     "text": [
      "Mean:  0.5214420521086821\n",
      "Standard Deviation:  0.014680101699559134\n"
     ]
    }
   ],
   "source": [
    "print(\"Mean: \", np.mean(results2))\n",
    "print(\"Standard Deviation: \", np.std(results2))\n"
   ],
   "metadata": {
    "collapsed": false,
    "ExecuteTime": {
     "end_time": "2023-11-06T12:18:34.112415Z",
     "start_time": "2023-11-06T12:18:34.096447Z"
    }
   },
   "id": "ba866cff18f8c1a1"
  },
  {
   "cell_type": "markdown",
   "source": [
    "# Conclusion\n",
    "\n",
    "Even though the data for this coin suggests a bias around 0.63, our Bayesian Inference model suggests the actual value is much closer to 0.52. This is because our informed prior function holds weight in the model, telling us that even if we observed 63 heads for this coin, given that coins are produced with an average bias of around 0.51, we expect the bias for the 501st to be closer to the factory bias. Even if this coin had exactly a 0.5 bias, observing 63 heads out of 100 tosses is not entirely unlikely, and we shouldn't assume this data to be representative of the exact value. The prior function holds weight just like the likelihood does in informing the posterior distribution. If we were to produce thousands of more coins and inform the prior distribution even more, this would give it an even higher weight in the model. This idea of updating our understanding with more information to predict unknown parameters is exactly why Bayesian Inference is useful. It is tuning and manipulating these likelihood and prior functions with more and better data that allows us to improve and inform our inference model."
   ],
   "metadata": {
    "collapsed": false
   },
   "id": "d72544165af45b4f"
  },
  {
   "cell_type": "code",
   "execution_count": null,
   "outputs": [],
   "source": [],
   "metadata": {
    "collapsed": false
   },
   "id": "75edb08ad0015f83"
  }
 ],
 "metadata": {
  "kernelspec": {
   "display_name": "Python 3",
   "language": "python",
   "name": "python3"
  },
  "language_info": {
   "codemirror_mode": {
    "name": "ipython",
    "version": 2
   },
   "file_extension": ".py",
   "mimetype": "text/x-python",
   "name": "python",
   "nbconvert_exporter": "python",
   "pygments_lexer": "ipython2",
   "version": "2.7.6"
  }
 },
 "nbformat": 4,
 "nbformat_minor": 5
}
