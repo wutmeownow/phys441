{
 "cells": [
  {
   "cell_type": "markdown",
   "source": [
    "#### Binary Floating Point Representation\n",
    "Consider the problem of how to store a floating point number using 32 bit binary representation. The IEEE 754 standard defines the format for single precision floating point numbers.\n",
    "\n",
    "In order to understand the format, we need to write some functions to convert between binary and decimal representations.  First, we write a function to convert any positive base-10 integer to a binary string."
   ],
   "metadata": {
    "collapsed": false
   }
  },
  {
   "cell_type": "code",
   "execution_count": 3,
   "outputs": [],
   "source": [
    "def convert_int_to_binary(num):\n",
    "    res = \"\"\n",
    "\n",
    "    while num > 0:\n",
    "        digit = num % 2\n",
    "        # print(num, digit)\n",
    "        res = str(digit) + res\n",
    "        num = int(num / 2)\n",
    "\n",
    "    return res"
   ],
   "metadata": {
    "collapsed": false,
    "ExecuteTime": {
     "end_time": "2023-09-06T01:09:54.402196Z",
     "start_time": "2023-09-06T01:09:54.374801300Z"
    }
   }
  },
  {
   "cell_type": "code",
   "execution_count": 2,
   "outputs": [
    {
     "data": {
      "text/plain": "'1000000000000'"
     },
     "execution_count": 2,
     "metadata": {},
     "output_type": "execute_result"
    }
   ],
   "source": [
    "convert_int_to_binary(4096)"
   ],
   "metadata": {
    "collapsed": false,
    "ExecuteTime": {
     "end_time": "2023-08-23T13:14:00.225067Z",
     "start_time": "2023-08-23T13:14:00.216481Z"
    }
   }
  },
  {
   "cell_type": "markdown",
   "source": [
    "Next, we will write a function to convert a decimal number between 0 and 1 to a binary string.  We will use the following algorithm:\n",
    "\n",
    "1. Multiply the number by 2\n",
    "2. If the result is greater than or equal to 1, then the first digit in the binary representation is 1.  Subtract 1 from the result.\n",
    "3. If the result is less than 1, then the first digit in the binary representation is 0.\n",
    "4. Repeat steps 1-3 until the result is 0 or we have reached the desired precision.\n",
    "5. Multiply the result by 2 and go to step 2.\n",
    "6. If the result is 0, then we have reached the desired precision.  Otherwise, we have reached the desired precision and the next digit is 1.\n",
    "7. Repeat steps 5-6 until the result is 0 or we have reached the desired precision."
   ],
   "metadata": {
    "collapsed": false
   }
  },
  {
   "cell_type": "code",
   "execution_count": 4,
   "outputs": [],
   "source": [
    "def convert_fraction_to_binary(num, precision=40):\n",
    "    res = \"\"\n",
    "    iter_count = 0  \n",
    "    while num > 0 and precision > 0:\n",
    "        num = num * 2\n",
    "        if num >= 1:\n",
    "            res += \"1\"\n",
    "            num -= 1\n",
    "        else:\n",
    "            res += \"0\"\n",
    "        precision -= 1\n",
    "        #print(f\"num = {num}  res = {res}  iter_count = {iter_count}    precision = {precision}\")\n",
    "        iter_count += 1\n",
    "    return res"
   ],
   "metadata": {
    "collapsed": false,
    "ExecuteTime": {
     "end_time": "2023-09-06T01:10:01.815622600Z",
     "start_time": "2023-09-06T01:10:01.792720500Z"
    }
   }
  },
  {
   "cell_type": "code",
   "execution_count": 4,
   "outputs": [
    {
     "data": {
      "text/plain": "'001'"
     },
     "execution_count": 4,
     "metadata": {},
     "output_type": "execute_result"
    }
   ],
   "source": [
    "convert_fraction_to_binary(0.125,35)"
   ],
   "metadata": {
    "collapsed": false,
    "ExecuteTime": {
     "end_time": "2023-08-23T13:14:00.227865Z",
     "start_time": "2023-08-23T13:14:00.224577Z"
    }
   }
  },
  {
   "cell_type": "markdown",
   "source": [
    "Finally, we will write a function to convert a decimal number to the IEEE 754 binary representation.  The algorithm is as follows:\n",
    "\n",
    "1. If the number is negative, then the first bit is 1.  Otherwise, the first bit is 0.\n",
    "2. Convert the absolute value of the number to binary using the algorithm above.\n",
    "3. If the number is less than 1, then the exponent is the number of digits to the right of the decimal point.  Otherwise, the exponent is the number of digits to the left of the decimal point minus 1.\n",
    "4. Add 127 to the exponent and convert to binary.\n",
    "5. If the number is less than 1, then the mantissa is the binary representation of the number without the leading 0.  Otherwise, the mantissa is the binary representation of the number without the leading 1.\n",
    "6. If the number is less than 1, then the mantissa is padded with 0s on the right until it is 23 bits long.  Otherwise, the mantissa is padded with 0s on the right until it is 23 bits long.\n",
    "7. The result is the concatenation of the first bit, the exponent, and the mantissa."
   ],
   "metadata": {
    "collapsed": false
   }
  },
  {
   "cell_type": "code",
   "execution_count": 5,
   "outputs": [],
   "source": [
    "def get_fp_binary_representation(n):\n",
    "    # specify 48 decimal places of precision ... given that we will take 23 for the mantissa, this means we will have far more than we need\n",
    "    p = 48\n",
    "\n",
    "    # Step 1:  split the number into two parts - both strings\n",
    "    front, back = str(n).split('.')\n",
    "\n",
    "    # Step 2:  convert the part in front of the decimal to binary ... take the sign into account\n",
    "    if int(front) < 0:\n",
    "        sign = \"-\"\n",
    "        i_front = -int(front)\n",
    "    else:\n",
    "        sign = \"\"\n",
    "        i_front = int(front)\n",
    "\n",
    "    if i_front == 0:\n",
    "        front_bin = \"0\"\n",
    "    else:\n",
    "        front_bin = convert_int_to_binary(i_front)\n",
    "\n",
    "    # Step 3:  convert the part after the decimal to binary\n",
    "    divisor = 10**len(back)\n",
    "    back_bin = convert_fraction_to_binary(float(back)/divisor, p)\n",
    "\n",
    "    # Step 4:  add the strings together and print the result\n",
    "    bin_result = sign + front_bin + \".\" + back_bin\n",
    "    print(f\"The binary representation of the {n} is {bin_result}\")\n",
    "\n",
    "    # Step 5:  Determine the exponent and mantissa\n",
    "    if front_bin == \"0\":\n",
    "        exponent = 0\n",
    "        keep_going = True\n",
    "        while keep_going:\n",
    "            # print (back_bin[-exponent],exponent)\n",
    "            if back_bin[-exponent] == \"1\":\n",
    "                keep_going = False\n",
    "                exponent = exponent + 1\n",
    "            exponent = exponent - 1\n",
    "        exponent = exponent - 1\n",
    "\n",
    "        # print(exponent)\n",
    "        back_bin = back_bin[-exponent:]\n",
    "        mantissa_truncated = back_bin\n",
    "    else:\n",
    "        exponent = len(front_bin)-1\n",
    "        mantissa = front_bin[1:] + back_bin\n",
    "        mantissa_truncated = mantissa[0:23]\n",
    "\n",
    "    true_result = sign + \"1.\" + mantissa_truncated + \" x 2^(\" + str(exponent) + \")\"\n",
    "    print(f\"The binary scientific notation representation is {true_result}\")\n",
    "\n",
    "    # Step 6:  Convert to 32-bit floating point representation\n",
    "    if int(front) < 0:\n",
    "        bit1 = \"1\"\n",
    "    else:\n",
    "        bit1 = \"0\"\n",
    "\n",
    "    exp = int(exponent)+127\n",
    "    exp_binary_rep = convert_int_to_binary(exp)\n",
    "    if len(exp_binary_rep) < 8:\n",
    "        exp_binary_rep = \"0\" + exp_binary_rep\n",
    "\n",
    "    if len(mantissa_truncated) < 23:\n",
    "        mantissa_truncated = mantissa_truncated + (23-len(mantissa_truncated))*\"0\"\n",
    "\n",
    "    if len(mantissa_truncated) > 23:\n",
    "        mantissa_truncated = mantissa_truncated[0:23]\n",
    "\n",
    "    res = bit1 + \"|\" + exp_binary_rep + \"|\" + mantissa_truncated\n",
    "    return res"
   ],
   "metadata": {
    "collapsed": false,
    "ExecuteTime": {
     "end_time": "2023-09-06T01:10:07.197469100Z",
     "start_time": "2023-09-06T01:10:07.184059500Z"
    }
   }
  },
  {
   "cell_type": "code",
   "execution_count": 6,
   "outputs": [
    {
     "name": "stdout",
     "output_type": "stream",
     "text": [
      "The binary representation of the 3.14159265 is 11.001001000011111101101010011110010001101010011110\n",
      "The binary scientific notation representation is 1.10010010000111111011010 x 2^(1)\n",
      "The IEEE 754 representation is 0|10000000|10010010000111111011010\n",
      "\n",
      "The binary representation of the 3.14159266 is 11.001001000011111101101010101001000000110110111011\n",
      "The binary scientific notation representation is 1.10010010000111111011010 x 2^(1)\n",
      "The IEEE 754 representation is 0|10000000|10010010000111111011010\n",
      "\n",
      "The binary representation of the 1.25 is 1.01\n",
      "The binary scientific notation representation is 1.01 x 2^(0)\n",
      "The IEEE 754 representation is 0|01111111|01000000000000000000000\n",
      "\n",
      "The binary representation of the -1.25 is -1.01\n",
      "The binary scientific notation representation is -1.01 x 2^(0)\n",
      "The IEEE 754 representation is 1|01111111|01000000000000000000000\n"
     ]
    }
   ],
   "source": [
    "#fp_num = input(\"Enter your floating point value : \\n\")\n",
    "fp_num = 3.14159265\n",
    "result = get_fp_binary_representation(fp_num)\n",
    "print(f\"The IEEE 754 representation is {result}\")\n",
    "\n",
    "print()\n",
    "\n",
    "fp_num = 3.14159266\n",
    "result = get_fp_binary_representation(fp_num)\n",
    "print(f\"The IEEE 754 representation is {result}\")\n",
    "\n",
    "print()\n",
    "\n",
    "fp_num = 1.25\n",
    "result = get_fp_binary_representation(fp_num)\n",
    "print(f\"The IEEE 754 representation is {result}\")\n",
    "\n",
    "print()\n",
    "\n",
    "fp_num = -1.25\n",
    "result = get_fp_binary_representation(fp_num)\n",
    "print(f\"The IEEE 754 representation is {result}\")"
   ],
   "metadata": {
    "collapsed": false,
    "ExecuteTime": {
     "end_time": "2023-09-06T01:10:13.159330500Z",
     "start_time": "2023-09-06T01:10:13.127472300Z"
    }
   }
  },
  {
   "cell_type": "markdown",
   "source": [
    "IEEE 754 representation for 64 bit \"double precision\" numbers includes 53 bits in the mantissa and 11 in the exponent. It has an exponent bias of 2^10 - 1 = 1023"
   ],
   "metadata": {
    "collapsed": false
   }
  },
  {
   "cell_type": "code",
   "execution_count": 7,
   "outputs": [],
   "source": [
    "def get_double_binary_representation(n):\n",
    "    # specify 48 decimal places of precision ... given that we will take 53 for the mantissa, this means we will have far more than we need\n",
    "    p = 48\n",
    "\n",
    "    # Step 1:  split the number into two parts - both strings\n",
    "    front, back = str(n).split('.')\n",
    "\n",
    "    # Step 2:  convert the part in front of the decimal to binary ... take the sign into account\n",
    "    if int(front) < 0:\n",
    "        sign = \"-\"\n",
    "        i_front = -int(front)\n",
    "    else:\n",
    "        sign = \"\"\n",
    "        i_front = int(front)\n",
    "\n",
    "    if i_front == 0:\n",
    "        front_bin = \"0\"\n",
    "    else:\n",
    "        front_bin = convert_int_to_binary(i_front)\n",
    "\n",
    "    # Step 3:  convert the part after the decimal to binary\n",
    "    divisor = 10**len(back)\n",
    "    back_bin = convert_fraction_to_binary(float(back)/divisor, p)\n",
    "\n",
    "    # Step 4:  add the strings together and print the result\n",
    "    bin_result = sign + front_bin + \".\" + back_bin\n",
    "    print(f\"The binary representation of the {n} is {bin_result}\")\n",
    "\n",
    "    # Step 5:  Determine the exponent and mantissa\n",
    "    if front_bin == \"0\":\n",
    "        exponent = 0\n",
    "        keep_going = True\n",
    "        while keep_going:\n",
    "            # print (back_bin[-exponent],exponent)\n",
    "            if back_bin[-exponent] == \"1\":\n",
    "                keep_going = False\n",
    "                exponent = exponent + 1\n",
    "            exponent = exponent - 1\n",
    "        exponent = exponent - 1\n",
    "\n",
    "        # print(exponent)\n",
    "        back_bin = back_bin[-exponent:]\n",
    "        mantissa_truncated = back_bin\n",
    "    else:\n",
    "        exponent = len(front_bin)-1\n",
    "        mantissa = front_bin[1:] + back_bin\n",
    "        mantissa_truncated = mantissa[0:53]\n",
    "\n",
    "    true_result = sign + \"1.\" + mantissa_truncated + \" x 2^(\" + str(exponent) + \")\"\n",
    "    print(f\"The binary scientific notation representation is {true_result}\")\n",
    "\n",
    "    # Step 6:  Convert to 32-bit floating point representation\n",
    "    if int(front) < 0:\n",
    "        bit1 = \"1\"\n",
    "    else:\n",
    "        bit1 = \"0\"\n",
    "\n",
    "    exp = int(exponent)+1023\n",
    "    exp_binary_rep = convert_int_to_binary(exp)\n",
    "    if len(exp_binary_rep) < 11:\n",
    "        exp_binary_rep = \"0\" + exp_binary_rep\n",
    "\n",
    "    if len(mantissa_truncated) < 53:\n",
    "        mantissa_truncated = mantissa_truncated + (53-len(mantissa_truncated))*\"0\"\n",
    "\n",
    "    if len(mantissa_truncated) > 53:\n",
    "        mantissa_truncated = mantissa_truncated[0:53]\n",
    "\n",
    "    res = bit1 + \"|\" + exp_binary_rep + \"|\" + mantissa_truncated\n",
    "    return res"
   ],
   "metadata": {
    "collapsed": false,
    "ExecuteTime": {
     "end_time": "2023-09-06T01:10:18.159178400Z",
     "start_time": "2023-09-06T01:10:18.141234200Z"
    }
   }
  },
  {
   "cell_type": "code",
   "execution_count": 14,
   "outputs": [
    {
     "name": "stdout",
     "output_type": "stream",
     "text": [
      "The binary representation of the 3.141592653589793 is 11.001001000011111101101010100010001000010110100010\n",
      "The binary scientific notation representation is 1.1001001000011111101101010100010001000010110100010 x 2^(1)\n",
      "The IEEE 754 64 bit representation is 0|10000000000|10010010000111111011010101000100010000101101000100000\n",
      "\n",
      "The binary representation of the 3.141592653589794 is 11.001001000011111101101010100010001000010110100011\n",
      "The binary scientific notation representation is 1.1001001000011111101101010100010001000010110100011 x 2^(1)\n",
      "The IEEE 754 64 bit representation is 0|10000000000|10010010000111111011010101000100010000101101000110000\n",
      "\n",
      "The binary representation of the 1.602176634 is 1.100110100010100000111111011101010111001000000011\n",
      "The binary scientific notation representation is 1.100110100010100000111111011101010111001000000011 x 2^(0)\n",
      "The IEEE 754 64 bit representation is 0|01111111111|10011010001010000011111101110101011100100000001100000\n",
      "\n",
      "The binary representation of the 1.602176638 is 1.100110100010100000111111100001101010000000001111\n",
      "The binary scientific notation representation is 1.100110100010100000111111100001101010000000001111 x 2^(0)\n",
      "The IEEE 754 64 bit representation is 0|01111111111|10011010001010000011111110000110101000000000111100000\n"
     ]
    }
   ],
   "source": [
    "# double precision is good up to a maximum of 15 decimal places\n",
    "#fp_num = input(\"Enter your floating point value : \\n\")\n",
    "fp_num = 3.141592653589793\n",
    "result = get_double_binary_representation(fp_num)\n",
    "print(f\"The IEEE 754 64 bit representation is {result}\")\n",
    "\n",
    "print()\n",
    "\n",
    "fp_num = 3.141592653589794\n",
    "result = get_double_binary_representation(fp_num)\n",
    "print(f\"The IEEE 754 64 bit representation is {result}\")\n",
    "\n",
    "print()\n",
    "\n",
    "fp_num = 1.602176634\n",
    "result = get_double_binary_representation(fp_num)\n",
    "print(f\"The IEEE 754 64 bit representation is {result}\")\n",
    "\n",
    "print()\n",
    "\n",
    "fp_num = 1.602176638\n",
    "result = get_double_binary_representation(fp_num)\n",
    "print(f\"The IEEE 754 64 bit representation is {result}\")"
   ],
   "metadata": {
    "collapsed": false,
    "ExecuteTime": {
     "end_time": "2023-09-06T01:21:18.421847400Z",
     "start_time": "2023-09-06T01:21:18.390849200Z"
    }
   }
  },
  {
   "cell_type": "code",
   "execution_count": null,
   "outputs": [],
   "source": [],
   "metadata": {
    "collapsed": false
   }
  }
 ],
 "metadata": {
  "kernelspec": {
   "display_name": "Python 3",
   "language": "python",
   "name": "python3"
  },
  "language_info": {
   "codemirror_mode": {
    "name": "ipython",
    "version": 2
   },
   "file_extension": ".py",
   "mimetype": "text/x-python",
   "name": "python",
   "nbconvert_exporter": "python",
   "pygments_lexer": "ipython2",
   "version": "2.7.6"
  }
 },
 "nbformat": 4,
 "nbformat_minor": 0
}
