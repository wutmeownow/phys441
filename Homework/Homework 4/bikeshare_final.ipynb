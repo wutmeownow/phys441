{
 "cells": [
  {
   "cell_type": "markdown",
   "id": "victorian-latitude",
   "metadata": {},
   "source": [
    "# Bike Share System"
   ]
  },
  {
   "cell_type": "markdown",
   "id": "imported-table",
   "metadata": {
    "tags": []
   },
   "source": [
    "*Modeling and Simulation in Python*\n",
    "\n",
    "Copyright 2021 Allen Downey\n",
    "\n",
    "License: [Creative Commons Attribution-NonCommercial-ShareAlike 4.0 International](https://creativecommons.org/licenses/by-nc-sa/4.0/)"
   ]
  },
  {
   "cell_type": "code",
   "execution_count": 1,
   "id": "electoral-turkey",
   "metadata": {
    "tags": [],
    "ExecuteTime": {
     "end_time": "2023-11-06T21:58:23.582862300Z",
     "start_time": "2023-11-06T21:58:21.765670Z"
    }
   },
   "outputs": [],
   "source": [
    "# import functions from modsim\n",
    "from modsim import *"
   ]
  },
  {
   "cell_type": "code",
   "execution_count": 7,
   "id": "formal-context",
   "metadata": {
    "tags": [],
    "ExecuteTime": {
     "end_time": "2023-11-07T01:01:23.676224100Z",
     "start_time": "2023-11-07T01:01:23.659509Z"
    }
   },
   "outputs": [],
   "source": [
    "def step(state, p1, p2):\n",
    "    \"\"\"Simulate one time step.\n",
    "    \n",
    "    state: bikeshare State object\n",
    "    p1: probability of an Olin->Wellesley ride\n",
    "    p2: probability of a Wellesley->Olin ride\n",
    "    \"\"\"\n",
    "    if flip(p1):\n",
    "        bike_to_wellesley(state)\n",
    "    \n",
    "    if flip(p2):\n",
    "        bike_to_olin(state)\n",
    "        \n",
    "def bike_to_olin(state):\n",
    "    \"\"\"Move one bike from Wellesley to Olin.\n",
    "    \n",
    "    state: bikeshare State object\n",
    "    \"\"\"\n",
    "    if state.wellesley == 0:\n",
    "        state.wellesley_empty += 1\n",
    "        return\n",
    "    state.wellesley -= 1\n",
    "    state.olin += 1\n",
    "    \n",
    "def bike_to_wellesley(state):\n",
    "    \"\"\"Move one bike from Olin to Wellesley.\n",
    "    \n",
    "    state: bikeshare State object\n",
    "    \"\"\"\n",
    "    \n",
    "    if state.olin == 0:\n",
    "        state.olin_empty += 1\n",
    "        return\n",
    "    state.olin -= 1\n",
    "    state.wellesley += 1"
   ]
  },
  {
   "cell_type": "code",
   "execution_count": 8,
   "id": "progressive-typing",
   "metadata": {
    "tags": [],
    "ExecuteTime": {
     "end_time": "2023-11-07T01:01:25.224858500Z",
     "start_time": "2023-11-07T01:01:25.180779400Z"
    }
   },
   "outputs": [],
   "source": [
    "def run_simulation(state, p1, p2, num_steps, do_plot=True):\n",
    "    \"\"\"Simulate the given number of time steps.\n",
    "    \n",
    "    state: State object\n",
    "    p1: probability of an Olin->Wellesley customer arrival\n",
    "    p2: probability of a Wellesley->Olin customer arrival\n",
    "    num_steps: number of time steps\n",
    "    \"\"\"\n",
    "    results_olin = TimeSeries()\n",
    "    results_olin[0] = state.olin\n",
    "    results_wellesley = TimeSeries()\n",
    "    results_wellesley[0] = state.wellesley\n",
    "    results_olin_unsatisfied = TimeSeries()\n",
    "    results_olin_unsatisfied[0] = state.olin_empty\n",
    "    results_wellesley_unsatisfied = TimeSeries()\n",
    "    results_wellesley_unsatisfied[0] = state.wellesley_empty\n",
    "    \n",
    "    for i in range(num_steps):\n",
    "        step(state, p1, p2)\n",
    "        results_olin[i+1] = state.olin\n",
    "        results_wellesley[i+1] = state.wellesley\n",
    "        results_olin_unsatisfied[i+1] = state.olin_empty\n",
    "        results_wellesley_unsatisfied[i+1] = state.wellesley_empty\n",
    "        \n",
    "    if (do_plot):\n",
    "        fig, ax = plt.subplots(1,2,figsize=(12,6))\n",
    "        ax[0].plot(results_olin, label='Olin')\n",
    "        ax[0].plot(results_wellesley, label='Wellesley')\n",
    "        ax[0].set_xlabel('Time step (min)')\n",
    "        ax[0].set_ylabel('Number of bikes')\n",
    "        ax[0].legend()\n",
    "        ax[1].plot(results_olin_unsatisfied, label='Olin')\n",
    "        ax[1].plot(results_wellesley_unsatisfied, label='Wellesley')\n",
    "        ax[1].set_xlabel('Time step (min)')\n",
    "        ax[1].set_ylabel('Number of unsatisfied customers')\n",
    "        ax[1].legend()\n",
    "        plt.show()\n",
    "    \n",
    "    return results_olin_unsatisfied[num_steps-1] + results_wellesley_unsatisfied[num_steps-1]"
   ]
  },
  {
   "cell_type": "code",
   "execution_count": 9,
   "outputs": [
    {
     "name": "stdout",
     "output_type": "stream",
     "text": [
      "0 100\n",
      "Average unsatisfied customers:  1.4\n",
      "1 99\n",
      "Average unsatisfied customers:  0.89\n",
      "2 98\n",
      "Average unsatisfied customers:  0.55\n",
      "3 97\n",
      "Average unsatisfied customers:  0.5\n",
      "4 96\n",
      "Average unsatisfied customers:  0.11\n",
      "5 95\n",
      "Average unsatisfied customers:  0.36\n",
      "6 94\n"
     ]
    },
    {
     "ename": "KeyboardInterrupt",
     "evalue": "",
     "output_type": "error",
     "traceback": [
      "\u001B[1;31m---------------------------------------------------------------------------\u001B[0m",
      "\u001B[1;31mKeyboardInterrupt\u001B[0m                         Traceback (most recent call last)",
      "Cell \u001B[1;32mIn[9], line 23\u001B[0m\n\u001B[0;32m     20\u001B[0m bikeshare \u001B[38;5;241m=\u001B[39m State(olin\u001B[38;5;241m=\u001B[39mN_start_olin, wellesley\u001B[38;5;241m=\u001B[39mN_start_wellesley,\n\u001B[0;32m     21\u001B[0m           olin_empty\u001B[38;5;241m=\u001B[39m\u001B[38;5;241m0\u001B[39m, wellesley_empty\u001B[38;5;241m=\u001B[39m\u001B[38;5;241m0\u001B[39m)\n\u001B[0;32m     22\u001B[0m do_plot \u001B[38;5;241m=\u001B[39m \u001B[38;5;28;01mFalse\u001B[39;00m\n\u001B[1;32m---> 23\u001B[0m total_unsatisfied \u001B[38;5;241m=\u001B[39m run_simulation(bikeshare, p_wellesley_to_olin, p_olin_to_wellesley, \u001B[38;5;241m100\u001B[39m, do_plot)\n\u001B[0;32m     25\u001B[0m \u001B[38;5;66;03m#print(\"Total unsatisfied customers: \", j, total_unsatisfied)\u001B[39;00m\n\u001B[0;32m     26\u001B[0m tu_sum \u001B[38;5;241m+\u001B[39m\u001B[38;5;241m=\u001B[39m total_unsatisfied\n",
      "Cell \u001B[1;32mIn[8], line 23\u001B[0m, in \u001B[0;36mrun_simulation\u001B[1;34m(state, p1, p2, num_steps, do_plot)\u001B[0m\n\u001B[0;32m     21\u001B[0m     results_wellesley[i\u001B[38;5;241m+\u001B[39m\u001B[38;5;241m1\u001B[39m] \u001B[38;5;241m=\u001B[39m state\u001B[38;5;241m.\u001B[39mwellesley\n\u001B[0;32m     22\u001B[0m     results_olin_unsatisfied[i\u001B[38;5;241m+\u001B[39m\u001B[38;5;241m1\u001B[39m] \u001B[38;5;241m=\u001B[39m state\u001B[38;5;241m.\u001B[39molin_empty\n\u001B[1;32m---> 23\u001B[0m     results_wellesley_unsatisfied[i\u001B[38;5;241m+\u001B[39m\u001B[38;5;241m1\u001B[39m] \u001B[38;5;241m=\u001B[39m state\u001B[38;5;241m.\u001B[39mwellesley_empty\n\u001B[0;32m     25\u001B[0m \u001B[38;5;28;01mif\u001B[39;00m (do_plot):\n\u001B[0;32m     26\u001B[0m     fig, ax \u001B[38;5;241m=\u001B[39m plt\u001B[38;5;241m.\u001B[39msubplots(\u001B[38;5;241m1\u001B[39m,\u001B[38;5;241m2\u001B[39m,figsize\u001B[38;5;241m=\u001B[39m(\u001B[38;5;241m12\u001B[39m,\u001B[38;5;241m6\u001B[39m))\n",
      "File \u001B[1;32m~\\anaconda3\\envs\\phys441\\Lib\\site-packages\\pandas\\core\\series.py:1159\u001B[0m, in \u001B[0;36mSeries.__setitem__\u001B[1;34m(self, key, value)\u001B[0m\n\u001B[0;32m   1156\u001B[0m     \u001B[38;5;28;01mreturn\u001B[39;00m \u001B[38;5;28mself\u001B[39m\u001B[38;5;241m.\u001B[39m_set_values(indexer, value)\n\u001B[0;32m   1158\u001B[0m \u001B[38;5;28;01mtry\u001B[39;00m:\n\u001B[1;32m-> 1159\u001B[0m     \u001B[38;5;28mself\u001B[39m\u001B[38;5;241m.\u001B[39m_set_with_engine(key, value)\n\u001B[0;32m   1160\u001B[0m \u001B[38;5;28;01mexcept\u001B[39;00m \u001B[38;5;167;01mKeyError\u001B[39;00m:\n\u001B[0;32m   1161\u001B[0m     \u001B[38;5;66;03m# We have a scalar (or for MultiIndex or object-dtype, scalar-like)\u001B[39;00m\n\u001B[0;32m   1162\u001B[0m     \u001B[38;5;66;03m#  key that is not present in self.index.\u001B[39;00m\n\u001B[0;32m   1163\u001B[0m     \u001B[38;5;28;01mif\u001B[39;00m is_integer(key):\n",
      "File \u001B[1;32m~\\anaconda3\\envs\\phys441\\Lib\\site-packages\\pandas\\core\\series.py:1222\u001B[0m, in \u001B[0;36mSeries._set_with_engine\u001B[1;34m(self, key, value)\u001B[0m\n\u001B[0;32m   1221\u001B[0m \u001B[38;5;28;01mdef\u001B[39;00m \u001B[38;5;21m_set_with_engine\u001B[39m(\u001B[38;5;28mself\u001B[39m, key, value) \u001B[38;5;241m-\u001B[39m\u001B[38;5;241m>\u001B[39m \u001B[38;5;28;01mNone\u001B[39;00m:\n\u001B[1;32m-> 1222\u001B[0m     loc \u001B[38;5;241m=\u001B[39m \u001B[38;5;28mself\u001B[39m\u001B[38;5;241m.\u001B[39mindex\u001B[38;5;241m.\u001B[39mget_loc(key)\n\u001B[0;32m   1224\u001B[0m     \u001B[38;5;66;03m# this is equivalent to self._values[key] = value\u001B[39;00m\n\u001B[0;32m   1225\u001B[0m     \u001B[38;5;28mself\u001B[39m\u001B[38;5;241m.\u001B[39m_mgr\u001B[38;5;241m.\u001B[39msetitem_inplace(loc, value)\n",
      "File \u001B[1;32m~\\anaconda3\\envs\\phys441\\Lib\\site-packages\\pandas\\core\\indexes\\base.py:3653\u001B[0m, in \u001B[0;36mIndex.get_loc\u001B[1;34m(self, key)\u001B[0m\n\u001B[0;32m   3651\u001B[0m casted_key \u001B[38;5;241m=\u001B[39m \u001B[38;5;28mself\u001B[39m\u001B[38;5;241m.\u001B[39m_maybe_cast_indexer(key)\n\u001B[0;32m   3652\u001B[0m \u001B[38;5;28;01mtry\u001B[39;00m:\n\u001B[1;32m-> 3653\u001B[0m     \u001B[38;5;28;01mreturn\u001B[39;00m \u001B[38;5;28mself\u001B[39m\u001B[38;5;241m.\u001B[39m_engine\u001B[38;5;241m.\u001B[39mget_loc(casted_key)\n\u001B[0;32m   3654\u001B[0m \u001B[38;5;28;01mexcept\u001B[39;00m \u001B[38;5;167;01mKeyError\u001B[39;00m \u001B[38;5;28;01mas\u001B[39;00m err:\n\u001B[0;32m   3655\u001B[0m     \u001B[38;5;28;01mraise\u001B[39;00m \u001B[38;5;167;01mKeyError\u001B[39;00m(key) \u001B[38;5;28;01mfrom\u001B[39;00m \u001B[38;5;21;01merr\u001B[39;00m\n",
      "File \u001B[1;32m~\\anaconda3\\envs\\phys441\\Lib\\site-packages\\pandas\\_libs\\properties.pyx:36\u001B[0m, in \u001B[0;36mpandas._libs.properties.CachedProperty.__get__\u001B[1;34m()\u001B[0m\n",
      "File \u001B[1;32m~\\anaconda3\\envs\\phys441\\Lib\\site-packages\\pandas\\core\\indexes\\base.py:855\u001B[0m, in \u001B[0;36mIndex._engine\u001B[1;34m(self)\u001B[0m\n\u001B[0;32m    851\u001B[0m     target_values \u001B[38;5;241m=\u001B[39m \u001B[38;5;28mself\u001B[39m\u001B[38;5;241m.\u001B[39m_data\u001B[38;5;241m.\u001B[39m_ndarray  \u001B[38;5;66;03m# type: ignore[union-attr]\u001B[39;00m\n\u001B[0;32m    853\u001B[0m \u001B[38;5;66;03m# error: Argument 1 to \"ExtensionEngine\" has incompatible type\u001B[39;00m\n\u001B[0;32m    854\u001B[0m \u001B[38;5;66;03m# \"ndarray[Any, Any]\"; expected \"ExtensionArray\"\u001B[39;00m\n\u001B[1;32m--> 855\u001B[0m \u001B[38;5;28;01mreturn\u001B[39;00m \u001B[38;5;28mself\u001B[39m\u001B[38;5;241m.\u001B[39m_engine_type(target_values)\n",
      "File \u001B[1;32m~\\anaconda3\\envs\\phys441\\Lib\\site-packages\\pandas\\core\\indexes\\base.py:450\u001B[0m, in \u001B[0;36mIndex._engine_type\u001B[1;34m(self)\u001B[0m\n\u001B[0;32m    433\u001B[0m     \u001B[38;5;28;01mreturn\u001B[39;00m \u001B[38;5;129;01mnot\u001B[39;00m is_numeric_dtype(\u001B[38;5;28mself\u001B[39m)\n\u001B[0;32m    435\u001B[0m _engine_types: \u001B[38;5;28mdict\u001B[39m[np\u001B[38;5;241m.\u001B[39mdtype \u001B[38;5;241m|\u001B[39m ExtensionDtype, \u001B[38;5;28mtype\u001B[39m[libindex\u001B[38;5;241m.\u001B[39mIndexEngine]] \u001B[38;5;241m=\u001B[39m {\n\u001B[0;32m    436\u001B[0m     np\u001B[38;5;241m.\u001B[39mdtype(np\u001B[38;5;241m.\u001B[39mint8): libindex\u001B[38;5;241m.\u001B[39mInt8Engine,\n\u001B[0;32m    437\u001B[0m     np\u001B[38;5;241m.\u001B[39mdtype(np\u001B[38;5;241m.\u001B[39mint16): libindex\u001B[38;5;241m.\u001B[39mInt16Engine,\n\u001B[1;32m   (...)\u001B[0m\n\u001B[0;32m    447\u001B[0m     np\u001B[38;5;241m.\u001B[39mdtype(np\u001B[38;5;241m.\u001B[39mcomplex128): libindex\u001B[38;5;241m.\u001B[39mComplex128Engine,\n\u001B[0;32m    448\u001B[0m }\n\u001B[1;32m--> 450\u001B[0m \u001B[38;5;129m@property\u001B[39m\n\u001B[0;32m    451\u001B[0m \u001B[38;5;28;01mdef\u001B[39;00m \u001B[38;5;21m_engine_type\u001B[39m(\n\u001B[0;32m    452\u001B[0m     \u001B[38;5;28mself\u001B[39m,\n\u001B[0;32m    453\u001B[0m ) \u001B[38;5;241m-\u001B[39m\u001B[38;5;241m>\u001B[39m \u001B[38;5;28mtype\u001B[39m[libindex\u001B[38;5;241m.\u001B[39mIndexEngine] \u001B[38;5;241m|\u001B[39m \u001B[38;5;28mtype\u001B[39m[libindex\u001B[38;5;241m.\u001B[39mExtensionEngine]:\n\u001B[0;32m    454\u001B[0m     \u001B[38;5;28;01mreturn\u001B[39;00m \u001B[38;5;28mself\u001B[39m\u001B[38;5;241m.\u001B[39m_engine_types\u001B[38;5;241m.\u001B[39mget(\u001B[38;5;28mself\u001B[39m\u001B[38;5;241m.\u001B[39mdtype, libindex\u001B[38;5;241m.\u001B[39mObjectEngine)\n\u001B[0;32m    456\u001B[0m \u001B[38;5;66;03m# whether we support partial string indexing. Overridden\u001B[39;00m\n\u001B[0;32m    457\u001B[0m \u001B[38;5;66;03m# in DatetimeIndex and PeriodIndex\u001B[39;00m\n",
      "\u001B[1;31mKeyboardInterrupt\u001B[0m: "
     ]
    }
   ],
   "source": [
    "p_olin_to_wellesley = 0.3\n",
    "p_wellesley_to_olin = 0.2\n",
    "\n",
    "N_slots = 100\n",
    "\n",
    "nstart = []\n",
    "tu_avg = []\n",
    "\n",
    "num_sims = 100\n",
    "\n",
    "for N_start_olin in range(N_slots+1):\n",
    "    nstart.append(N_start_olin)\n",
    "    N_start_wellesley = N_slots - N_start_olin\n",
    "\n",
    "    print(N_start_olin, N_start_wellesley)\n",
    "\n",
    "    tu_sum = 0\n",
    "    \n",
    "    for j in range(num_sims):\n",
    "        bikeshare = State(olin=N_start_olin, wellesley=N_start_wellesley,\n",
    "                  olin_empty=0, wellesley_empty=0)\n",
    "        do_plot = False\n",
    "        total_unsatisfied = run_simulation(bikeshare, p_wellesley_to_olin, p_olin_to_wellesley, 100, do_plot)\n",
    "\n",
    "        #print(\"Total unsatisfied customers: \", j, total_unsatisfied)\n",
    "        tu_sum += total_unsatisfied\n",
    "    \n",
    "    print(\"Average unsatisfied customers: \", tu_sum/(1.0*num_sims))\n",
    "    tu_avg.append(tu_sum/(1.0*num_sims))\n",
    "    \n"
   ],
   "metadata": {
    "collapsed": false,
    "ExecuteTime": {
     "end_time": "2023-11-07T01:03:52.574484600Z",
     "start_time": "2023-11-07T01:01:26.439933800Z"
    }
   },
   "id": "760647dfb2ea5d9f"
  },
  {
   "cell_type": "code",
   "execution_count": null,
   "outputs": [],
   "source": [
    "tu_avg_error = 0.1*np.array(tu_avg)\n",
    "\n",
    "fig, ax = plt.subplots(1,1,figsize=(8,8))\n",
    "ax.errorbar(nstart, tu_avg, tu_avg_error, label='Average unsatisfied customers')\n",
    "ax.set_xlabel('Number of starting bikes at Olin')\n",
    "ax.set_ylabel('Average number of unsatisfied customers')\n",
    "ax.legend()"
   ],
   "metadata": {
    "collapsed": false,
    "ExecuteTime": {
     "start_time": "2023-11-06T20:46:41.272006700Z"
    }
   },
   "id": "5cdc15f29e14c6d1"
  },
  {
   "cell_type": "markdown",
   "source": [],
   "metadata": {
    "collapsed": false
   },
   "id": "8618a00660b30f10"
  },
  {
   "cell_type": "markdown",
   "id": "above-denial",
   "metadata": {},
   "source": [
    "## Modeling a Bike Share System\n",
    "\n",
    "Imagine a bike share system for students traveling between Olin College and Wellesley College, which are about three miles apart in eastern Massachusetts.\n",
    "\n",
    "Suppose the system contains 12 bikes and two bike racks, one at Olin and one at Wellesley, each with the capacity to hold 12 bikes.\n",
    "\n",
    "As students arrive, check out a bike, and ride to the other campus, the number of bikes in each location changes. In the simulation, we'll need to keep track of where the bikes are. To do that, we'll use a function called `State`, which is defined in the ModSim library."
   ]
  },
  {
   "cell_type": "markdown",
   "id": "instructional-finnish",
   "metadata": {},
   "source": [
    "## Under the Hood\n",
    "\n",
    "This section contains additional information about the functions we've used and pointers to their documentation.\n",
    "\n",
    "You don't need to know anything in this section, so if you are already feeling overwhelmed, you might want to skip it.\n",
    "But if you are curious, read on."
   ]
  },
  {
   "cell_type": "markdown",
   "id": "quick-citizen",
   "metadata": {},
   "source": [
    "`State` and `TimeSeries` objects are based on the `Series` object defined by the Pandas library.\n",
    "The documentation is at <https://pandas.pydata.org/pandas-docs/stable/reference/api/pandas.Series.html>.\n",
    "\n",
    "`Series` objects provide their own `plot` function, which is why we call it like this:\n",
    "\n",
    "```\n",
    "results.plot()\n",
    "```\n",
    "\n",
    "Instead of like this:\n",
    "\n",
    "```\n",
    "plot(results)\n",
    "```\n",
    "\n",
    "You can read the documentation of `Series.plot` at <https://pandas.pydata.org/pandas-docs/stable/reference/api/pandas.Series.plot.html>."
   ]
  },
  {
   "cell_type": "markdown",
   "id": "digital-stretch",
   "metadata": {},
   "source": [
    "`decorate` is based on Matplotlib, which is a widely used plotting library for Python.  Matplotlib provides separate functions for `title`, `xlabel`, and `ylabel`.\n",
    "`decorate` makes them a little easier to use.\n",
    "For the list of keyword arguments you can pass to `decorate`, see <https://matplotlib.org/3.2.2/api/axes_api.html?highlight=axes#module-matplotlib.axes>.\n",
    "\n",
    "The `flip` function uses NumPy's `random` function to generate a random number between 0 and 1, then returns `True` or `False` with the given probability.\n",
    "\n",
    "You can get the source code for `flip` (or any other function) by running the following cell."
   ]
  },
  {
   "cell_type": "code",
   "execution_count": null,
   "id": "agricultural-midwest",
   "metadata": {
    "ExecuteTime": {
     "start_time": "2023-11-06T20:46:41.273704900Z"
    }
   },
   "outputs": [],
   "source": [
    "source_code(flip)"
   ]
  },
  {
   "cell_type": "markdown",
   "source": [
    "## 3 different stops\n",
    "3 stops: A, B, and C -> 6 possible routes: AB, AC, BA, BC, CA, CB"
   ],
   "metadata": {
    "collapsed": false
   },
   "id": "ea5e05d3f0043605"
  },
  {
   "cell_type": "code",
   "execution_count": 2,
   "outputs": [],
   "source": [
    "def step(state, pAB, pAC, pBA, pBC, pCA, pCB):\n",
    "    \"\"\"Simulate one time step.\n",
    "    \n",
    "    state: bikeshare State object\n",
    "    pAB: probability of an A->B ride\n",
    "    pAC: probability of an A->C ride\n",
    "    pBA: probability of a B->A ride\n",
    "    pBC: probability of a B->C ride\n",
    "    pCA: probability of a C->A ride\n",
    "    pCB: probability of a C->B ride\n",
    "    \"\"\"\n",
    "    if flip(pAB):\n",
    "        bike_A_to_B(state)\n",
    "    \n",
    "    if flip(pAC):\n",
    "        bike_A_to_C(state)\n",
    "    \n",
    "    if flip(pBA):\n",
    "        bike_B_to_A(state)\n",
    "    \n",
    "    if flip(pBC):\n",
    "        bike_B_to_C(state)\n",
    "    \n",
    "    if flip(pCA):\n",
    "        bike_C_to_A(state)\n",
    "        \n",
    "    if flip(pCB):\n",
    "        bike_C_to_B(state)"
   ],
   "metadata": {
    "collapsed": false,
    "ExecuteTime": {
     "end_time": "2023-11-06T21:58:29.482906300Z",
     "start_time": "2023-11-06T21:58:29.459572200Z"
    }
   },
   "id": "1b9953e437bebca4"
  },
  {
   "cell_type": "code",
   "execution_count": 3,
   "outputs": [],
   "source": [
    "def bike_A_to_B(state):\n",
    "    \"\"\"Move one bike from A to B.\n",
    "    \n",
    "    state: bikeshare State object\n",
    "    \"\"\"\n",
    "    if state.A == 0:\n",
    "        state.A_empty += 1\n",
    "        return\n",
    "    state.A -= 1\n",
    "    state.B += 1\n",
    "\n",
    "def bike_A_to_C(state):\n",
    "    \"\"\"Move one bike from A to C.\n",
    "    \n",
    "    state: bikeshare State object\n",
    "    \"\"\"\n",
    "    if state.A == 0:\n",
    "        state.A_empty += 1\n",
    "        return\n",
    "    state.A -= 1\n",
    "    state.C += 1\n",
    "    \n",
    "def bike_B_to_A(state):\n",
    "    \"\"\"Move one bike from B to A.\n",
    "    \n",
    "    state: bikeshare State object\n",
    "    \"\"\"\n",
    "    if state.B == 0:\n",
    "        state.B_empty += 1\n",
    "        return\n",
    "    state.B -= 1\n",
    "    state.A += 1\n",
    "    \n",
    "def bike_B_to_C(state):\n",
    "    \"\"\"Move one bike from B to C.\n",
    "    \n",
    "    state: bikeshare State object\n",
    "    \"\"\"\n",
    "    if state.B == 0:\n",
    "        state.B_empty += 1\n",
    "        return\n",
    "    state.B -= 1\n",
    "    state.C += 1\n",
    "\n",
    "def bike_C_to_A(state):\n",
    "    \"\"\"Move one bike from C to A.\n",
    "    \n",
    "    state: bikeshare State object\n",
    "    \"\"\"\n",
    "    if state.C == 0:\n",
    "        state.C_empty += 1\n",
    "        return\n",
    "    state.C -= 1\n",
    "    state.A += 1\n",
    "\n",
    "def bike_C_to_B(state):\n",
    "    \"\"\"Move one bike from C to B.\n",
    "    \n",
    "    state: bikeshare State object\n",
    "    \"\"\"\n",
    "    if state.C == 0:\n",
    "        state.C_empty += 1\n",
    "        return\n",
    "    state.C -= 1\n",
    "    state.B += 1"
   ],
   "metadata": {
    "collapsed": false,
    "ExecuteTime": {
     "end_time": "2023-11-06T21:58:30.747745800Z",
     "start_time": "2023-11-06T21:58:30.715934Z"
    }
   },
   "id": "32b44df4f72f47c4"
  },
  {
   "cell_type": "code",
   "execution_count": 4,
   "outputs": [],
   "source": [
    "def run_simulation(state, pAB, pAC, pBA, pBC, pCA, pCB, num_steps, do_plot=True):\n",
    "    \"\"\"Simulate the given number of time steps.\n",
    "    \n",
    "    state: State object\n",
    "    pAB: probability of an A->B ride\n",
    "    pAC: probability of an A->C ride\n",
    "    pBA: probability of a B->A ride\n",
    "    pBC: probability of a B->C ride\n",
    "    pCA: probability of a C->A ride\n",
    "    pCB: probability of a C->B ride\n",
    "    num_steps: number of time steps\n",
    "    \"\"\"\n",
    "    results_A = TimeSeries()\n",
    "    results_A[0] = state.A\n",
    "    results_B = TimeSeries()\n",
    "    results_B[0] = state.B\n",
    "    results_C = TimeSeries()\n",
    "    results_C[0] = state.C\n",
    "    results_A_unsatisfied = TimeSeries()\n",
    "    results_A_unsatisfied[0] = state.A_empty\n",
    "    results_B_unsatisfied = TimeSeries()\n",
    "    results_B_unsatisfied[0] = state.B_empty\n",
    "    results_C_unsatisfied = TimeSeries()\n",
    "    results_C_unsatisfied[0] = state.C_empty\n",
    "    \n",
    "    for i in range(num_steps):\n",
    "        step(state, pAB, pAC, pBA, pBC, pCA, pCB)\n",
    "        results_A[i+1] = state.A\n",
    "        results_B[i+1] = state.B\n",
    "        results_C[i+1] = state.C\n",
    "        results_A_unsatisfied[i+1] = state.A_empty\n",
    "        results_B_unsatisfied[i+1] = state.B_empty\n",
    "        results_C_unsatisfied[i+1] = state.C_empty\n",
    "        \n",
    "    if (do_plot):\n",
    "        fig, ax = plt.subplots(1,2,figsize=(12,6))\n",
    "        ax[0].plot(results_A, label='A')\n",
    "        ax[0].plot(results_B, label='B')\n",
    "        ax[0].plot(results_C, label='C')\n",
    "        ax[0].set_xlabel('Time step (min)')\n",
    "        ax[0].set_ylabel('Number of bikes')\n",
    "        ax[0].legend()\n",
    "        ax[1].plot(results_A_unsatisfied, label='A')\n",
    "        ax[1].plot(results_B_unsatisfied, label='B')\n",
    "        ax[1].plot(results_C_unsatisfied, label='C')\n",
    "        ax[1].set_xlabel('Time step (min)')\n",
    "        ax[1].set_ylabel('Number of unsatisfied customers')\n",
    "        ax[1].legend()\n",
    "        plt.show()\n",
    "    \n",
    "    return results_A_unsatisfied[num_steps-1] + results_B_unsatisfied[num_steps-1] + results_C_unsatisfied[num_steps-1]"
   ],
   "metadata": {
    "collapsed": false,
    "ExecuteTime": {
     "end_time": "2023-11-06T21:58:31.947289900Z",
     "start_time": "2023-11-06T21:58:31.931480400Z"
    }
   },
   "id": "d7aa8fefa2a3bea5"
  },
  {
   "cell_type": "code",
   "execution_count": 5,
   "outputs": [
    {
     "name": "stdout",
     "output_type": "stream",
     "text": [
      "A: 0, B: 0, C: 100\n",
      "Average unsatisfied customers:  81.5\n",
      "A: 0, B: 10, C: 90\n",
      "Average unsatisfied customers:  64.84\n",
      "A: 0, B: 20, C: 80\n",
      "Average unsatisfied customers:  51.28\n",
      "A: 0, B: 30, C: 70\n",
      "Average unsatisfied customers:  41.83\n",
      "A: 0, B: 40, C: 60\n",
      "Average unsatisfied customers:  39.47\n",
      "A: 0, B: 50, C: 50\n",
      "Average unsatisfied customers:  40.29\n",
      "A: 0, B: 60, C: 40\n",
      "Average unsatisfied customers:  40.59\n",
      "A: 0, B: 70, C: 30\n",
      "Average unsatisfied customers:  40.12\n",
      "A: 0, B: 80, C: 20\n",
      "Average unsatisfied customers:  41.2\n",
      "A: 0, B: 90, C: 10\n",
      "Average unsatisfied customers:  39.24\n",
      "A: 0, B: 100, C: 0\n",
      "Average unsatisfied customers:  40.96\n",
      "A: 10, B: 0, C: 90\n",
      "Average unsatisfied customers:  65.72\n",
      "A: 10, B: 10, C: 80\n",
      "Average unsatisfied customers:  50.04\n",
      "A: 10, B: 20, C: 70\n",
      "Average unsatisfied customers:  38.27\n",
      "A: 10, B: 30, C: 60\n",
      "Average unsatisfied customers:  30.84\n",
      "A: 10, B: 40, C: 50\n",
      "Average unsatisfied customers:  30.08\n",
      "A: 10, B: 50, C: 40\n",
      "Average unsatisfied customers:  31.07\n",
      "A: 10, B: 60, C: 30\n",
      "Average unsatisfied customers:  30.69\n",
      "A: 10, B: 70, C: 20\n",
      "Average unsatisfied customers:  30.94\n",
      "A: 10, B: 80, C: 10\n",
      "Average unsatisfied customers:  30.26\n",
      "A: 10, B: 90, C: 0\n",
      "Average unsatisfied customers:  29.98\n",
      "A: 20, B: 0, C: 80\n",
      "Average unsatisfied customers:  50.39\n",
      "A: 20, B: 10, C: 70\n",
      "Average unsatisfied customers:  32.42\n",
      "A: 20, B: 20, C: 60\n",
      "Average unsatisfied customers:  23.28\n",
      "A: 20, B: 30, C: 50\n",
      "Average unsatisfied customers:  20.35\n",
      "A: 20, B: 40, C: 40\n",
      "Average unsatisfied customers:  19.28\n",
      "A: 20, B: 50, C: 30\n",
      "Average unsatisfied customers:  20.1\n",
      "A: 20, B: 60, C: 20\n",
      "Average unsatisfied customers:  20.21\n",
      "A: 20, B: 70, C: 10\n",
      "Average unsatisfied customers:  21.05\n",
      "A: 20, B: 80, C: 0\n",
      "Average unsatisfied customers:  19.29\n",
      "A: 30, B: 0, C: 70\n",
      "Average unsatisfied customers:  31.53\n",
      "A: 30, B: 10, C: 60\n",
      "Average unsatisfied customers:  17.78\n",
      "A: 30, B: 20, C: 50\n",
      "Average unsatisfied customers:  11.75\n",
      "A: 30, B: 30, C: 40\n",
      "Average unsatisfied customers:  10.6\n",
      "A: 30, B: 40, C: 30\n",
      "Average unsatisfied customers:  10.94\n",
      "A: 30, B: 50, C: 20\n",
      "Average unsatisfied customers:  11.26\n",
      "A: 30, B: 60, C: 10\n",
      "Average unsatisfied customers:  10.27\n",
      "A: 30, B: 70, C: 0\n",
      "Average unsatisfied customers:  11.76\n",
      "A: 40, B: 0, C: 60\n",
      "Average unsatisfied customers:  18.71\n",
      "A: 40, B: 10, C: 50\n",
      "Average unsatisfied customers:  8.63\n",
      "A: 40, B: 20, C: 40\n",
      "Average unsatisfied customers:  4.02\n",
      "A: 40, B: 30, C: 30\n",
      "Average unsatisfied customers:  2.68\n",
      "A: 40, B: 40, C: 20\n",
      "Average unsatisfied customers:  3.33\n",
      "A: 40, B: 50, C: 10\n",
      "Average unsatisfied customers:  3.3\n",
      "A: 40, B: 60, C: 0\n",
      "Average unsatisfied customers:  4.37\n",
      "A: 50, B: 0, C: 50\n",
      "Average unsatisfied customers:  14.15\n",
      "A: 50, B: 10, C: 40\n",
      "Average unsatisfied customers:  4.67\n",
      "A: 50, B: 20, C: 30\n",
      "Average unsatisfied customers:  0.8\n",
      "A: 50, B: 30, C: 20\n",
      "Average unsatisfied customers:  0.29\n",
      "A: 50, B: 40, C: 10\n",
      "Average unsatisfied customers:  0.45\n",
      "A: 50, B: 50, C: 0\n",
      "Average unsatisfied customers:  0.92\n",
      "A: 60, B: 0, C: 40\n",
      "Average unsatisfied customers:  12.69\n",
      "A: 60, B: 10, C: 30\n",
      "Average unsatisfied customers:  3.64\n",
      "A: 60, B: 20, C: 20\n",
      "Average unsatisfied customers:  1.0\n",
      "A: 60, B: 30, C: 10\n",
      "Average unsatisfied customers:  0.02\n",
      "A: 60, B: 40, C: 0\n",
      "Average unsatisfied customers:  0.39\n",
      "A: 70, B: 0, C: 30\n",
      "Average unsatisfied customers:  12.29\n",
      "A: 70, B: 10, C: 20\n",
      "Average unsatisfied customers:  5.18\n",
      "A: 70, B: 20, C: 10\n",
      "Average unsatisfied customers:  0.85\n",
      "A: 70, B: 30, C: 0\n",
      "Average unsatisfied customers:  0.31\n",
      "A: 80, B: 0, C: 20\n",
      "Average unsatisfied customers:  13.06\n",
      "A: 80, B: 10, C: 10\n",
      "Average unsatisfied customers:  4.42\n",
      "A: 80, B: 20, C: 0\n",
      "Average unsatisfied customers:  0.79\n",
      "A: 90, B: 0, C: 10\n",
      "Average unsatisfied customers:  12.01\n",
      "A: 90, B: 10, C: 0\n",
      "Average unsatisfied customers:  5.23\n",
      "A: 100, B: 0, C: 0\n",
      "Average unsatisfied customers:  13.7\n"
     ]
    }
   ],
   "source": [
    "pAB = 0.3\n",
    "pAC = 0.4\n",
    "pBA = 0.2\n",
    "pBC = 0.35\n",
    "pCA = 0.1\n",
    "pCB = 0.15\n",
    "\n",
    "N_slots = 100\n",
    "\n",
    "nstart = []\n",
    "tu_avg = []\n",
    "\n",
    "num_sims = 100\n",
    "\n",
    "for N_start_A in range(0,101,10):\n",
    "    # print(N_start_A)\n",
    "    for N_start_B in range(0,101-N_start_A,10):\n",
    "        N_start_C = 100 - N_start_A - N_start_B\n",
    "        print(f\"A: {N_start_A}, B: {N_start_B}, C: {N_start_C}\")\n",
    "        \n",
    "        tu_sum = 0\n",
    "    \n",
    "        for j in range(num_sims):\n",
    "            bikeshare = State(A=N_start_A, B=N_start_B,C=N_start_C,\n",
    "                      A_empty=0, B_empty=0, C_empty=0)\n",
    "            do_plot = False\n",
    "            total_unsatisfied = run_simulation(bikeshare, pAB, pAC, pBA, pBC, pCA, pCB, 100, do_plot)\n",
    "    \n",
    "            #print(\"Total unsatisfied customers: \", j, total_unsatisfied)\n",
    "            tu_sum += total_unsatisfied\n",
    "    \n",
    "        print(\"Average unsatisfied customers: \", tu_sum/(1.0*num_sims))\n",
    "        tu_avg.append(tu_sum/(1.0*num_sims))"
   ],
   "metadata": {
    "collapsed": false,
    "ExecuteTime": {
     "end_time": "2023-11-06T22:19:37.927040100Z",
     "start_time": "2023-11-06T21:58:33.140500300Z"
    }
   },
   "id": "1b8aa681ad2af900"
  },
  {
   "cell_type": "markdown",
   "source": [
    "Lowest average unsatisfied customers is 0.02 for starting values of A: 60, B: 40, C: 0. The best distribution of bikes is around this spot in A,B,C space."
   ],
   "metadata": {
    "collapsed": false
   },
   "id": "203fb58d60ac7254"
  },
  {
   "cell_type": "code",
   "execution_count": null,
   "outputs": [],
   "source": [],
   "metadata": {
    "collapsed": false
   },
   "id": "7cc3f4f5a6bfd682"
  }
 ],
 "metadata": {
  "celltoolbar": "Tags",
  "kernelspec": {
   "display_name": "Python 3 (ipykernel)",
   "language": "python",
   "name": "python3"
  },
  "language_info": {
   "codemirror_mode": {
    "name": "ipython",
    "version": 3
   },
   "file_extension": ".py",
   "mimetype": "text/x-python",
   "name": "python",
   "nbconvert_exporter": "python",
   "pygments_lexer": "ipython3",
   "version": "3.10.6"
  }
 },
 "nbformat": 4,
 "nbformat_minor": 5
}
